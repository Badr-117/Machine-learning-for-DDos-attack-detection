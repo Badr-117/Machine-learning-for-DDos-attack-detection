{
  "nbformat": 4,
  "nbformat_minor": 0,
  "metadata": {
    "colab": {
      "name": "Untitled1.ipynb",
      "provenance": [],
      "collapsed_sections": [],
      "toc_visible": true
    },
    "kernelspec": {
      "name": "python3",
      "display_name": "Python 3"
    }
  },
  "cells": [
    {
      "cell_type": "code",
      "metadata": {
        "id": "r_mA3WV_wWVj"
      },
      "source": [
        "import numpy as np\n",
        "import csv\n",
        "import os\n",
        "import glob\n",
        "import pandas as pd\n",
        "#os.chdir(\"C:/Users/ibrah/Desktop/SessionWinter2021/CSI4900/dataset/12janv\")\n",
        "from sklearn.feature_selection import SelectKBest, f_classif, mutual_info_classif, RFE\n",
        "from sklearn.ensemble import RandomForestClassifier\n",
        "from sklearn.tree import DecisionTreeClassifier\n",
        "from sklearn import svm\n",
        "from sklearn.model_selection import KFold, StratifiedKFold\n",
        "from sklearn.linear_model import LogisticRegression\n",
        "from sklearn.naive_bayes import GaussianNB \n",
        "from sklearn.neighbors import KNeighborsClassifier\n",
        "from sklearn.neural_network import MLPClassifier\n",
        "from sklearn.metrics import accuracy_score, f1_score, precision_score, recall_score\n",
        "from sklearn.metrics import confusion_matrix, classification_report\n",
        "from tabulate import tabulate\n",
        "from google.colab import files"
      ],
      "execution_count": null,
      "outputs": []
    },
    {
      "cell_type": "code",
      "metadata": {
        "colab": {
          "base_uri": "https://localhost:8080/"
        },
        "id": "2PCL_u-bwbem",
        "outputId": "7daffa83-fb37-44a1-e679-910cdd441b19"
      },
      "source": [
        "from google.colab import drive\n",
        "drive.mount('/content/drive')"
      ],
      "execution_count": null,
      "outputs": [
        {
          "output_type": "stream",
          "text": [
            "Mounted at /content/drive\n"
          ],
          "name": "stdout"
        }
      ]
    },
    {
      "cell_type": "code",
      "metadata": {
        "colab": {
          "base_uri": "https://localhost:8080/"
        },
        "id": "rbns5Z7HwrLY",
        "outputId": "dd41c64a-eba2-47d3-a3d7-597058e36bd1"
      },
      "source": [
        "data=pd.read_csv('/content/drive/My Drive/combined_csv2.csv', delimiter=',', skipinitialspace=True)"
      ],
      "execution_count": null,
      "outputs": [
        {
          "output_type": "stream",
          "text": [
            "/usr/local/lib/python3.7/dist-packages/IPython/core/interactiveshell.py:2718: DtypeWarning: Columns (41,62,85) have mixed types.Specify dtype option on import or set low_memory=False.\n",
            "  interactivity=interactivity, compiler=compiler, result=result)\n"
          ],
          "name": "stderr"
        }
      ]
    },
    {
      "cell_type": "code",
      "metadata": {
        "colab": {
          "base_uri": "https://localhost:8080/"
        },
        "id": "undirpyowvnh",
        "outputId": "f288e07c-143d-49cb-9920-4ce49054a046"
      },
      "source": [
        "df = pd.DataFrame(data)\n",
        "df.columns = list(map(str.lower, data.columns.astype(str)))\n",
        "target_col = 'label'\n",
        "print(df.columns)"
      ],
      "execution_count": null,
      "outputs": [
        {
          "output_type": "stream",
          "text": [
            "Index(['unnamed: 0', 'flow id', 'source ip', 'source port', 'destination ip',\n",
            "       'destination port', 'protocol', 'timestamp', 'flow duration',\n",
            "       'total fwd packets', 'total backward packets',\n",
            "       'total length of fwd packets', 'total length of bwd packets',\n",
            "       'fwd packet length max', 'fwd packet length min',\n",
            "       'fwd packet length mean', 'fwd packet length std',\n",
            "       'bwd packet length max', 'bwd packet length min',\n",
            "       'bwd packet length mean', 'bwd packet length std', 'flow bytes/s',\n",
            "       'flow packets/s', 'flow iat mean', 'flow iat std', 'flow iat max',\n",
            "       'flow iat min', 'fwd iat total', 'fwd iat mean', 'fwd iat std',\n",
            "       'fwd iat max', 'fwd iat min', 'bwd iat total', 'bwd iat mean',\n",
            "       'bwd iat std', 'bwd iat max', 'bwd iat min', 'fwd psh flags',\n",
            "       'bwd psh flags', 'fwd urg flags', 'bwd urg flags', 'fwd header length',\n",
            "       'bwd header length', 'fwd packets/s', 'bwd packets/s',\n",
            "       'min packet length', 'max packet length', 'packet length mean',\n",
            "       'packet length std', 'packet length variance', 'fin flag count',\n",
            "       'syn flag count', 'rst flag count', 'psh flag count', 'ack flag count',\n",
            "       'urg flag count', 'cwe flag count', 'ece flag count', 'down/up ratio',\n",
            "       'average packet size', 'avg fwd segment size', 'avg bwd segment size',\n",
            "       'fwd header length.1', 'fwd avg bytes/bulk', 'fwd avg packets/bulk',\n",
            "       'fwd avg bulk rate', 'bwd avg bytes/bulk', 'bwd avg packets/bulk',\n",
            "       'bwd avg bulk rate', 'subflow fwd packets', 'subflow fwd bytes',\n",
            "       'subflow bwd packets', 'subflow bwd bytes', 'init_win_bytes_forward',\n",
            "       'init_win_bytes_backward', 'act_data_pkt_fwd', 'min_seg_size_forward',\n",
            "       'active mean', 'active std', 'active max', 'active min', 'idle mean',\n",
            "       'idle std', 'idle max', 'idle min', 'simillarhttp', 'inbound', 'label'],\n",
            "      dtype='object')\n"
          ],
          "name": "stdout"
        }
      ]
    },
    {
      "cell_type": "code",
      "metadata": {
        "colab": {
          "base_uri": "https://localhost:8080/"
        },
        "id": "wQfcSzNdwzwx",
        "outputId": "66b06151-b5a2-4298-ef47-771ed7229bdc"
      },
      "source": [
        "print(df.shape)\n",
        "non_floats = []\n",
        "\n",
        "for col in df:\n",
        "    if df[col].dtypes != \"float64\" and df[col].dtypes != \"int64\" and col != target_col:\n",
        "        non_floats.append(col)\n",
        "    elif df[col].dtypes == \"int64\":\n",
        "        df[col] = df[col].astype(float)\n",
        "df = df.drop(columns=non_floats)\n",
        "df.info()\n",
        "print(df.shape)"
      ],
      "execution_count": null,
      "outputs": [
        {
          "output_type": "stream",
          "text": [
            "(59990, 88)\n",
            "<class 'pandas.core.frame.DataFrame'>\n",
            "RangeIndex: 59990 entries, 0 to 59989\n",
            "Data columns (total 81 columns):\n",
            " #   Column                       Non-Null Count  Dtype  \n",
            "---  ------                       --------------  -----  \n",
            " 0   unnamed: 0                   59990 non-null  float64\n",
            " 1   source port                  59990 non-null  float64\n",
            " 2   destination port             59990 non-null  float64\n",
            " 3   protocol                     59990 non-null  float64\n",
            " 4   flow duration                59990 non-null  float64\n",
            " 5   total fwd packets            59990 non-null  float64\n",
            " 6   total backward packets       59990 non-null  float64\n",
            " 7   total length of fwd packets  59990 non-null  float64\n",
            " 8   total length of bwd packets  59990 non-null  float64\n",
            " 9   fwd packet length max        59990 non-null  float64\n",
            " 10  fwd packet length min        59990 non-null  float64\n",
            " 11  fwd packet length mean       59990 non-null  float64\n",
            " 12  fwd packet length std        59990 non-null  float64\n",
            " 13  bwd packet length max        59990 non-null  float64\n",
            " 14  bwd packet length min        59990 non-null  float64\n",
            " 15  bwd packet length mean       59990 non-null  float64\n",
            " 16  bwd packet length std        59990 non-null  float64\n",
            " 17  flow bytes/s                 59985 non-null  float64\n",
            " 18  flow packets/s               59990 non-null  float64\n",
            " 19  flow iat mean                59990 non-null  float64\n",
            " 20  flow iat std                 59990 non-null  float64\n",
            " 21  flow iat max                 59990 non-null  float64\n",
            " 22  flow iat min                 59990 non-null  float64\n",
            " 23  fwd iat total                59990 non-null  float64\n",
            " 24  fwd iat mean                 59990 non-null  float64\n",
            " 25  fwd iat std                  59990 non-null  float64\n",
            " 26  fwd iat max                  59990 non-null  float64\n",
            " 27  fwd iat min                  59990 non-null  float64\n",
            " 28  bwd iat total                59990 non-null  float64\n",
            " 29  bwd iat mean                 59990 non-null  float64\n",
            " 30  bwd iat std                  59990 non-null  float64\n",
            " 31  bwd iat max                  59990 non-null  float64\n",
            " 32  bwd iat min                  59990 non-null  float64\n",
            " 33  fwd psh flags                59990 non-null  float64\n",
            " 34  bwd psh flags                59990 non-null  float64\n",
            " 35  fwd urg flags                59990 non-null  float64\n",
            " 36  bwd urg flags                59990 non-null  float64\n",
            " 37  bwd header length            59990 non-null  float64\n",
            " 38  fwd packets/s                59990 non-null  float64\n",
            " 39  bwd packets/s                59990 non-null  float64\n",
            " 40  min packet length            59990 non-null  float64\n",
            " 41  max packet length            59990 non-null  float64\n",
            " 42  packet length mean           59990 non-null  float64\n",
            " 43  packet length std            59990 non-null  float64\n",
            " 44  packet length variance       59990 non-null  float64\n",
            " 45  fin flag count               59990 non-null  float64\n",
            " 46  syn flag count               59990 non-null  float64\n",
            " 47  rst flag count               59990 non-null  float64\n",
            " 48  psh flag count               59990 non-null  float64\n",
            " 49  ack flag count               59990 non-null  float64\n",
            " 50  urg flag count               59990 non-null  float64\n",
            " 51  cwe flag count               59990 non-null  float64\n",
            " 52  ece flag count               59990 non-null  float64\n",
            " 53  down/up ratio                59990 non-null  float64\n",
            " 54  average packet size          59990 non-null  float64\n",
            " 55  avg fwd segment size         59990 non-null  float64\n",
            " 56  avg bwd segment size         59990 non-null  float64\n",
            " 57  fwd avg bytes/bulk           59990 non-null  float64\n",
            " 58  fwd avg packets/bulk         59990 non-null  float64\n",
            " 59  fwd avg bulk rate            59990 non-null  float64\n",
            " 60  bwd avg bytes/bulk           59990 non-null  float64\n",
            " 61  bwd avg packets/bulk         59990 non-null  float64\n",
            " 62  bwd avg bulk rate            59990 non-null  float64\n",
            " 63  subflow fwd packets          59990 non-null  float64\n",
            " 64  subflow fwd bytes            59990 non-null  float64\n",
            " 65  subflow bwd packets          59990 non-null  float64\n",
            " 66  subflow bwd bytes            59990 non-null  float64\n",
            " 67  init_win_bytes_forward       59990 non-null  float64\n",
            " 68  init_win_bytes_backward      59990 non-null  float64\n",
            " 69  act_data_pkt_fwd             59990 non-null  float64\n",
            " 70  min_seg_size_forward         59990 non-null  float64\n",
            " 71  active mean                  59990 non-null  float64\n",
            " 72  active std                   59990 non-null  float64\n",
            " 73  active max                   59990 non-null  float64\n",
            " 74  active min                   59990 non-null  float64\n",
            " 75  idle mean                    59990 non-null  float64\n",
            " 76  idle std                     59990 non-null  float64\n",
            " 77  idle max                     59990 non-null  float64\n",
            " 78  idle min                     59990 non-null  float64\n",
            " 79  inbound                      59990 non-null  float64\n",
            " 80  label                        59990 non-null  object \n",
            "dtypes: float64(80), object(1)\n",
            "memory usage: 37.1+ MB\n",
            "(59990, 81)\n"
          ],
          "name": "stdout"
        }
      ]
    },
    {
      "cell_type": "code",
      "metadata": {
        "colab": {
          "base_uri": "https://localhost:8080/"
        },
        "id": "KsfGgA0a2PVg",
        "outputId": "38450220-b9fc-4b8f-a9f0-cd7dadb4c22e"
      },
      "source": [
        "a = df[target_col].unique()\n",
        "print(a)"
      ],
      "execution_count": null,
      "outputs": [
        {
          "output_type": "stream",
          "text": [
            "['DrDoS_DNS' 'BENIGN' 'DrDoS_LDAP' 'DrDoS_MSSQL' 'DrDoS_NetBIOS'\n",
            " 'DrDoS_NTP' 'DrDoS_SNMP']\n"
          ],
          "name": "stdout"
        }
      ]
    },
    {
      "cell_type": "code",
      "metadata": {
        "colab": {
          "base_uri": "https://localhost:8080/"
        },
        "id": "_cMSCPO429yN",
        "outputId": "1cff051d-4f90-4929-e528-23ce739b6964"
      },
      "source": [
        "df =df[~df.isin([np.nan, np.inf, -np.inf]).any(1)]\n",
        "df.loc[df[target_col] == 'BENIGN', target_col] = 0\n",
        "df.loc[df[target_col] == 'DrDoS_DNS', target_col] = 1\n",
        "df.loc[df[target_col] == 'DrDoS_LDAP', target_col] = 2\n",
        "df.loc[df[target_col] == 'DrDoS_MSSQL', target_col] = 3\n",
        "df.loc[df[target_col] == 'DrDoS_NetBIOS', target_col] = 4\n",
        "df.loc[df[target_col] == 'DrDoS_NTP', target_col] = 5\n",
        "df.loc[df[target_col] == 'DrDoS_SNMP', target_col] = 6\n",
        "print(df.head())"
      ],
      "execution_count": null,
      "outputs": [
        {
          "output_type": "stream",
          "text": [
            "   unnamed: 0  source port  destination port  ...  idle min  inbound  label\n",
            "0       425.0        634.0           60495.0  ...       0.0      1.0      1\n",
            "1       430.0        634.0           60495.0  ...       0.0      0.0      1\n",
            "2      1654.0        634.0           46391.0  ...       0.0      1.0      1\n",
            "3      2927.0        634.0           11894.0  ...       0.0      1.0      1\n",
            "4       694.0        634.0           27878.0  ...       0.0      1.0      1\n",
            "\n",
            "[5 rows x 81 columns]\n"
          ],
          "name": "stdout"
        }
      ]
    },
    {
      "cell_type": "code",
      "metadata": {
        "id": "skAoM5gr3t3k"
      },
      "source": [
        "X = df.iloc[:, 0:80]\n",
        "y = df.iloc[:, 80]"
      ],
      "execution_count": null,
      "outputs": []
    },
    {
      "cell_type": "markdown",
      "metadata": {
        "id": "kq7lJIKojFLG"
      },
      "source": [
        "#  Feature Selection"
      ]
    },
    {
      "cell_type": "markdown",
      "metadata": {
        "id": "j4wwdH90F5tR"
      },
      "source": [
        "### Feature selection using select k"
      ]
    },
    {
      "cell_type": "code",
      "metadata": {
        "colab": {
          "base_uri": "https://localhost:8080/"
        },
        "id": "4knlBVgx3w2J",
        "outputId": "f71e634c-74e0-4592-d098-b11b8ae44a32"
      },
      "source": [
        "selector = SelectKBest(f_classif, k = 40)\n",
        "X_new = selector.fit_transform(X, y)\n",
        "\n",
        "names = X.columns.values[selector.get_support()]\n",
        "scores = selector.scores_[selector.get_support()]\n",
        "names_scores = list(zip(names, scores))\n",
        "ns_df = pd.DataFrame(data = names_scores, columns=['Feat_names', 'F_Scores'])\n",
        "#Sort the dataframe for better visualization\n",
        "ns_df_sorted = ns_df.sort_values(['F_Scores', 'Feat_names'], ascending = [False, True])\n",
        "print(ns_df_sorted)\n",
        "ns_df_sorted.to_excel('multiKbest.xlsx')"
      ],
      "execution_count": null,
      "outputs": [
        {
          "output_type": "stream",
          "text": [
            "/usr/local/lib/python3.7/dist-packages/sklearn/feature_selection/_univariate_selection.py:114: UserWarning: Features [34 35 36 45 48 52 57 58 59 60 61 62] are constant.\n",
            "  UserWarning)\n",
            "/usr/local/lib/python3.7/dist-packages/sklearn/feature_selection/_univariate_selection.py:115: RuntimeWarning: invalid value encountered in true_divide\n",
            "  f = msb / msw\n"
          ],
          "name": "stderr"
        },
        {
          "output_type": "stream",
          "text": [
            "                     Feat_names      F_Scores\n",
            "33         avg fwd segment size  88255.924949\n",
            "8        fwd packet length mean  88255.924949\n",
            "23            min packet length  85041.967924\n",
            "7         fwd packet length min  84672.433032\n",
            "32          average packet size  73849.406425\n",
            "25           packet length mean  70927.227555\n",
            "6         fwd packet length max  43467.815425\n",
            "1                   source port  24050.149376\n",
            "13                 flow bytes/s  23602.284422\n",
            "39                      inbound  22047.667954\n",
            "35            subflow fwd bytes  20207.309944\n",
            "5   total length of fwd packets  20207.309944\n",
            "38             act_data_pkt_fwd  19892.764067\n",
            "3                      protocol  16227.677657\n",
            "0                    unnamed: 0  15297.163455\n",
            "22                fwd packets/s  14274.539267\n",
            "14               flow packets/s  14053.508216\n",
            "31                down/up ratio   8104.784129\n",
            "29               urg flag count   6173.076123\n",
            "30               cwe flag count   4658.683379\n",
            "24            max packet length   3583.036183\n",
            "10        bwd packet length min   2919.147379\n",
            "28               ack flag count   2411.242576\n",
            "36       init_win_bytes_forward   2255.223453\n",
            "2              destination port   1920.157110\n",
            "34         avg bwd segment size   1335.474556\n",
            "11       bwd packet length mean   1335.474556\n",
            "20                  bwd iat min   1110.797073\n",
            "26            packet length std   1021.921009\n",
            "37      init_win_bytes_backward   1008.548362\n",
            "9         fwd packet length std    997.770869\n",
            "4                 flow duration    986.040095\n",
            "21                fwd psh flags    929.568556\n",
            "27               rst flag count    929.568556\n",
            "17                fwd iat total    925.240672\n",
            "12        bwd packet length std    817.225309\n",
            "19                bwd iat total    795.115953\n",
            "16                 flow iat max    791.040571\n",
            "15                 flow iat std    753.250690\n",
            "18                  fwd iat max    721.908050\n"
          ],
          "name": "stdout"
        }
      ]
    },
    {
      "cell_type": "markdown",
      "metadata": {
        "id": "t4IT_gUc6LjV"
      },
      "source": [
        "### **Feature Selection using RFE and Random forest as it's method**"
      ]
    },
    {
      "cell_type": "code",
      "metadata": {
        "colab": {
          "base_uri": "https://localhost:8080/"
        },
        "id": "x_c6Mn0M6MzO",
        "outputId": "af120283-59a6-4274-88c6-f1ff17e0ec95"
      },
      "source": [
        "clf = RandomForestClassifier()\n",
        "rfe = RFE(clf, n_features_to_select=40)\n",
        "y = y.astype('int')\n",
        "rfe.fit(X, y)"
      ],
      "execution_count": null,
      "outputs": [
        {
          "output_type": "execute_result",
          "data": {
            "text/plain": [
              "RFE(estimator=RandomForestClassifier(bootstrap=True, ccp_alpha=0.0,\n",
              "                                     class_weight=None, criterion='gini',\n",
              "                                     max_depth=None, max_features='auto',\n",
              "                                     max_leaf_nodes=None, max_samples=None,\n",
              "                                     min_impurity_decrease=0.0,\n",
              "                                     min_impurity_split=None,\n",
              "                                     min_samples_leaf=1, min_samples_split=2,\n",
              "                                     min_weight_fraction_leaf=0.0,\n",
              "                                     n_estimators=100, n_jobs=None,\n",
              "                                     oob_score=False, random_state=None,\n",
              "                                     verbose=0, warm_start=False),\n",
              "    n_features_to_select=40, step=1, verbose=0)"
            ]
          },
          "metadata": {
            "tags": []
          },
          "execution_count": 10
        }
      ]
    },
    {
      "cell_type": "code",
      "metadata": {
        "colab": {
          "base_uri": "https://localhost:8080/"
        },
        "id": "eF4kND487mHh",
        "outputId": "8b534ad5-3df2-4d1d-b309-8ba9bb60e8f9"
      },
      "source": [
        "print(rfe.support_)\n",
        "print(rfe.ranking_)"
      ],
      "execution_count": null,
      "outputs": [
        {
          "output_type": "stream",
          "text": [
            "[ True  True  True  True  True  True  True  True False  True  True  True\n",
            " False False False False False  True  True  True  True  True  True  True\n",
            "  True  True  True  True  True False False False False False False False\n",
            " False  True  True  True  True  True  True  True False False False False\n",
            " False False False False False False  True  True False False False False\n",
            " False False False  True  True  True False  True  True  True  True False\n",
            " False False False False False False False  True]\n",
            "[ 1  1  1  1  1  1  1  1 17  1  1  1 13 11  8 21 20  1  1  1  1  1  1  1\n",
            "  1  1  1  1  1  6  7  4  9 19 32 39 33  1  1  1  1  1  1  1  2 31 24 23\n",
            " 30 10  3 16 40  5  1  1 14 38 34 41 35 37 36  1  1  1 12  1  1  1  1 18\n",
            " 29 15 22 28 27 25 26  1]\n"
          ],
          "name": "stdout"
        }
      ]
    },
    {
      "cell_type": "code",
      "metadata": {
        "colab": {
          "base_uri": "https://localhost:8080/"
        },
        "id": "JI1Raemx7qX4",
        "outputId": "0ba2af66-afb9-4058-d43c-3a5d52db4323"
      },
      "source": [
        "names = X.columns.values[rfe.get_support()]\n",
        "scores = rfe.ranking_[rfe.get_support()]\n",
        "names_scores = list(zip(names, scores))\n",
        "ns_df = pd.DataFrame(data = names_scores, columns=['Feat_names', 'F_Scores'])\n",
        "#Sort the dataframe for better visualization\n",
        "ns_df_sorted = ns_df.sort_values(['F_Scores', 'Feat_names'], ascending = [False, True])\n",
        "print(ns_df_sorted)\n",
        "ns_df_sorted.to_excel('multiRFE.xlsx')"
      ],
      "execution_count": null,
      "outputs": [
        {
          "output_type": "stream",
          "text": [
            "                     Feat_names  F_Scores\n",
            "37             act_data_pkt_fwd         1\n",
            "30          average packet size         1\n",
            "31         avg fwd segment size         1\n",
            "23            bwd header length         1\n",
            "22                bwd iat total         1\n",
            "25                bwd packets/s         1\n",
            "2              destination port         1\n",
            "11                 flow bytes/s         1\n",
            "4                 flow duration         1\n",
            "15                 flow iat max         1\n",
            "13                flow iat mean         1\n",
            "16                 flow iat min         1\n",
            "14                 flow iat std         1\n",
            "12               flow packets/s         1\n",
            "20                  fwd iat max         1\n",
            "18                 fwd iat mean         1\n",
            "21                  fwd iat min         1\n",
            "19                  fwd iat std         1\n",
            "17                fwd iat total         1\n",
            "8         fwd packet length max         1\n",
            "10       fwd packet length mean         1\n",
            "9         fwd packet length min         1\n",
            "24                fwd packets/s         1\n",
            "39                      inbound         1\n",
            "36      init_win_bytes_backward         1\n",
            "35       init_win_bytes_forward         1\n",
            "27            max packet length         1\n",
            "26            min packet length         1\n",
            "38         min_seg_size_forward         1\n",
            "28           packet length mean         1\n",
            "29            packet length std         1\n",
            "3                      protocol         1\n",
            "1                   source port         1\n",
            "34          subflow bwd packets         1\n",
            "33            subflow fwd bytes         1\n",
            "32          subflow fwd packets         1\n",
            "6        total backward packets         1\n",
            "5             total fwd packets         1\n",
            "7   total length of fwd packets         1\n",
            "0                    unnamed: 0         1\n"
          ],
          "name": "stdout"
        }
      ]
    },
    {
      "cell_type": "code",
      "metadata": {
        "colab": {
          "base_uri": "https://localhost:8080/"
        },
        "id": "lUX1jIHgcqMt",
        "outputId": "6c4e0a08-5757-4c0c-cbe5-9383affaf7a4"
      },
      "source": [
        "names = X.columns.values[rfe.get_support()]\n",
        "scores = rfe.estimator_.feature_importances_\n",
        "names_scores = list(zip(names, scores))\n",
        "ns_df = pd.DataFrame(data = names_scores, columns=['Feat_names', 'F_Scores'])\n",
        "#Sort the dataframe for better visualization\n",
        "ns_df_sorted = ns_df.sort_values(['F_Scores', 'Feat_names'], ascending = [False, True])\n",
        "print(ns_df_sorted)\n",
        "ns_df_sorted.to_excel('multiRFEscore.xlsx')"
      ],
      "execution_count": null,
      "outputs": [
        {
          "output_type": "stream",
          "text": [
            "                     Feat_names  F_Scores\n",
            "1                   source port  0.155529\n",
            "0                    unnamed: 0  0.123280\n",
            "31         avg fwd segment size  0.075087\n",
            "26            min packet length  0.056841\n",
            "10       fwd packet length mean  0.051492\n",
            "9         fwd packet length min  0.050787\n",
            "8         fwd packet length max  0.042727\n",
            "30          average packet size  0.041894\n",
            "28           packet length mean  0.038435\n",
            "38         min_seg_size_forward  0.034779\n",
            "27            max packet length  0.034671\n",
            "2              destination port  0.029060\n",
            "11                 flow bytes/s  0.027933\n",
            "33            subflow fwd bytes  0.027761\n",
            "7   total length of fwd packets  0.024003\n",
            "4                 flow duration  0.015484\n",
            "24                fwd packets/s  0.014224\n",
            "14                 flow iat std  0.013881\n",
            "39                      inbound  0.012040\n",
            "19                  fwd iat std  0.011171\n",
            "32          subflow fwd packets  0.010721\n",
            "15                 flow iat max  0.010661\n",
            "12               flow packets/s  0.010070\n",
            "37             act_data_pkt_fwd  0.009844\n",
            "13                flow iat mean  0.009085\n",
            "17                fwd iat total  0.008219\n",
            "35       init_win_bytes_forward  0.007847\n",
            "25                bwd packets/s  0.007143\n",
            "23            bwd header length  0.007106\n",
            "5             total fwd packets  0.006382\n",
            "20                  fwd iat max  0.005337\n",
            "36      init_win_bytes_backward  0.004356\n",
            "6        total backward packets  0.003734\n",
            "22                bwd iat total  0.003205\n",
            "16                 flow iat min  0.003126\n",
            "34          subflow bwd packets  0.002704\n",
            "18                 fwd iat mean  0.002653\n",
            "29            packet length std  0.002453\n",
            "21                  fwd iat min  0.002206\n",
            "3                      protocol  0.002069\n"
          ],
          "name": "stdout"
        }
      ]
    },
    {
      "cell_type": "code",
      "metadata": {
        "colab": {
          "base_uri": "https://localhost:8080/",
          "height": 419
        },
        "id": "6-fXZZ427zRN",
        "outputId": "4a01c315-ec55-417a-fde2-b0f1c2220135"
      },
      "source": [
        "pd.DataFrame(rfe.support_,index=X.columns,columns=['important'])"
      ],
      "execution_count": null,
      "outputs": [
        {
          "output_type": "execute_result",
          "data": {
            "text/html": [
              "<div>\n",
              "<style scoped>\n",
              "    .dataframe tbody tr th:only-of-type {\n",
              "        vertical-align: middle;\n",
              "    }\n",
              "\n",
              "    .dataframe tbody tr th {\n",
              "        vertical-align: top;\n",
              "    }\n",
              "\n",
              "    .dataframe thead th {\n",
              "        text-align: right;\n",
              "    }\n",
              "</style>\n",
              "<table border=\"1\" class=\"dataframe\">\n",
              "  <thead>\n",
              "    <tr style=\"text-align: right;\">\n",
              "      <th></th>\n",
              "      <th>important</th>\n",
              "    </tr>\n",
              "  </thead>\n",
              "  <tbody>\n",
              "    <tr>\n",
              "      <th>unnamed: 0</th>\n",
              "      <td>True</td>\n",
              "    </tr>\n",
              "    <tr>\n",
              "      <th>source port</th>\n",
              "      <td>True</td>\n",
              "    </tr>\n",
              "    <tr>\n",
              "      <th>destination port</th>\n",
              "      <td>True</td>\n",
              "    </tr>\n",
              "    <tr>\n",
              "      <th>protocol</th>\n",
              "      <td>True</td>\n",
              "    </tr>\n",
              "    <tr>\n",
              "      <th>flow duration</th>\n",
              "      <td>True</td>\n",
              "    </tr>\n",
              "    <tr>\n",
              "      <th>...</th>\n",
              "      <td>...</td>\n",
              "    </tr>\n",
              "    <tr>\n",
              "      <th>idle mean</th>\n",
              "      <td>False</td>\n",
              "    </tr>\n",
              "    <tr>\n",
              "      <th>idle std</th>\n",
              "      <td>False</td>\n",
              "    </tr>\n",
              "    <tr>\n",
              "      <th>idle max</th>\n",
              "      <td>False</td>\n",
              "    </tr>\n",
              "    <tr>\n",
              "      <th>idle min</th>\n",
              "      <td>False</td>\n",
              "    </tr>\n",
              "    <tr>\n",
              "      <th>inbound</th>\n",
              "      <td>True</td>\n",
              "    </tr>\n",
              "  </tbody>\n",
              "</table>\n",
              "<p>80 rows × 1 columns</p>\n",
              "</div>"
            ],
            "text/plain": [
              "                  important\n",
              "unnamed: 0             True\n",
              "source port            True\n",
              "destination port       True\n",
              "protocol               True\n",
              "flow duration          True\n",
              "...                     ...\n",
              "idle mean             False\n",
              "idle std              False\n",
              "idle max              False\n",
              "idle min              False\n",
              "inbound                True\n",
              "\n",
              "[80 rows x 1 columns]"
            ]
          },
          "metadata": {
            "tags": []
          },
          "execution_count": 20
        }
      ]
    },
    {
      "cell_type": "markdown",
      "metadata": {
        "id": "EsuGRDS_74_j"
      },
      "source": [
        "### **Feature Selection using Random forest**"
      ]
    },
    {
      "cell_type": "code",
      "metadata": {
        "colab": {
          "base_uri": "https://localhost:8080/"
        },
        "id": "KEIdGV2K76FY",
        "outputId": "67684b1d-5999-4cea-b0de-78d6a113d6e8"
      },
      "source": [
        "RF_model = RandomForestClassifier()\n",
        "RF_model.fit(X,y)"
      ],
      "execution_count": null,
      "outputs": [
        {
          "output_type": "execute_result",
          "data": {
            "text/plain": [
              "RandomForestClassifier(bootstrap=True, ccp_alpha=0.0, class_weight=None,\n",
              "                       criterion='gini', max_depth=None, max_features='auto',\n",
              "                       max_leaf_nodes=None, max_samples=None,\n",
              "                       min_impurity_decrease=0.0, min_impurity_split=None,\n",
              "                       min_samples_leaf=1, min_samples_split=2,\n",
              "                       min_weight_fraction_leaf=0.0, n_estimators=100,\n",
              "                       n_jobs=None, oob_score=False, random_state=None,\n",
              "                       verbose=0, warm_start=False)"
            ]
          },
          "metadata": {
            "tags": []
          },
          "execution_count": 21
        }
      ]
    },
    {
      "cell_type": "code",
      "metadata": {
        "colab": {
          "base_uri": "https://localhost:8080/"
        },
        "id": "OGOZ_cEf8V7z",
        "outputId": "efcd1117-4436-48d0-c374-1861f671ebe7"
      },
      "source": [
        "names = X.columns.values[rfe.get_support()]\n",
        "scores = RF_model.feature_importances_\n",
        "names_scores = list(zip(names, scores))\n",
        "ns_df = pd.DataFrame(data = names_scores, columns=['Feat_names', 'F_Scores'])\n",
        "#Sort the dataframe for better visualization\n",
        "ns_df_sorted = ns_df.sort_values(['F_Scores', 'Feat_names'], ascending = [False, True])\n",
        "print(ns_df_sorted)\n",
        "ns_df_sorted.to_excel('multiRF.xlsx')"
      ],
      "execution_count": null,
      "outputs": [
        {
          "output_type": "stream",
          "text": [
            "                     Feat_names  F_Scores\n",
            "1                   source port  0.138221\n",
            "0                    unnamed: 0  0.110655\n",
            "10       fwd packet length mean  0.043973\n",
            "7   total length of fwd packets  0.041650\n",
            "11                 flow bytes/s  0.036292\n",
            "9         fwd packet length min  0.031901\n",
            "2              destination port  0.030950\n",
            "17                fwd iat total  0.026078\n",
            "4                 flow duration  0.025687\n",
            "21                  fwd iat min  0.023253\n",
            "18                 fwd iat mean  0.014772\n",
            "38         min_seg_size_forward  0.014216\n",
            "25                bwd packets/s  0.013722\n",
            "20                  fwd iat max  0.009461\n",
            "19                  fwd iat std  0.008928\n",
            "5             total fwd packets  0.008901\n",
            "24                fwd packets/s  0.006678\n",
            "6        total backward packets  0.006051\n",
            "23            bwd header length  0.005349\n",
            "29            packet length std  0.004931\n",
            "39                      inbound  0.004733\n",
            "26            min packet length  0.004210\n",
            "37             act_data_pkt_fwd  0.003614\n",
            "31         avg fwd segment size  0.003128\n",
            "22                bwd iat total  0.002323\n",
            "27            max packet length  0.002316\n",
            "28           packet length mean  0.001980\n",
            "3                      protocol  0.001791\n",
            "32          subflow fwd packets  0.001516\n",
            "15                 flow iat max  0.001014\n",
            "16                 flow iat min  0.000871\n",
            "13                flow iat mean  0.000848\n",
            "8         fwd packet length max  0.000499\n",
            "30          average packet size  0.000492\n",
            "14                 flow iat std  0.000483\n",
            "12               flow packets/s  0.000435\n",
            "33            subflow fwd bytes  0.000250\n",
            "36      init_win_bytes_backward  0.000000\n",
            "35       init_win_bytes_forward  0.000000\n",
            "34          subflow bwd packets  0.000000\n"
          ],
          "name": "stdout"
        }
      ]
    },
    {
      "cell_type": "markdown",
      "metadata": {
        "id": "9D44szk2FHhD"
      },
      "source": [
        "### **Feature selection using RFE with Decision tree as estimator**"
      ]
    },
    {
      "cell_type": "code",
      "metadata": {
        "colab": {
          "base_uri": "https://localhost:8080/"
        },
        "id": "zwdhaxkoFLBF",
        "outputId": "0d7641ae-8a41-4c2d-bbbf-d57b52d34862"
      },
      "source": [
        "DT_clf = DecisionTreeClassifier()\n",
        "rfe = RFE(DT_clf, n_features_to_select=40)\n",
        "y = y.astype('int')\n",
        "rfe.fit(X, y)"
      ],
      "execution_count": null,
      "outputs": [
        {
          "output_type": "execute_result",
          "data": {
            "text/plain": [
              "RFE(estimator=DecisionTreeClassifier(ccp_alpha=0.0, class_weight=None,\n",
              "                                     criterion='gini', max_depth=None,\n",
              "                                     max_features=None, max_leaf_nodes=None,\n",
              "                                     min_impurity_decrease=0.0,\n",
              "                                     min_impurity_split=None,\n",
              "                                     min_samples_leaf=1, min_samples_split=2,\n",
              "                                     min_weight_fraction_leaf=0.0,\n",
              "                                     presort='deprecated', random_state=None,\n",
              "                                     splitter='best'),\n",
              "    n_features_to_select=40, step=1, verbose=0)"
            ]
          },
          "metadata": {
            "tags": []
          },
          "execution_count": 14
        }
      ]
    },
    {
      "cell_type": "code",
      "metadata": {
        "colab": {
          "base_uri": "https://localhost:8080/"
        },
        "id": "J3GfNl0HFMB6",
        "outputId": "12795830-bbce-40ed-fe7b-993424cef1f6"
      },
      "source": [
        "names = X.columns.values[rfe.get_support()]\n",
        "scores = rfe.ranking_[rfe.get_support()]\n",
        "names_scores = list(zip(names, scores))\n",
        "ns_df = pd.DataFrame(data = names_scores, columns=['Feat_names', 'F_Scores'])\n",
        "#Sort the dataframe for better visualization\n",
        "ns_df_sorted = ns_df.sort_values(['F_Scores', 'Feat_names'], ascending = [False, True])\n",
        "print(ns_df_sorted)\n",
        "ns_df_sorted.to_excel('multiRFE_DT.xlsx')"
      ],
      "execution_count": null,
      "outputs": [
        {
          "output_type": "stream",
          "text": [
            "                     Feat_names  F_Scores\n",
            "30               ack flag count         1\n",
            "39                   active min         1\n",
            "32          average packet size         1\n",
            "33         avg fwd segment size         1\n",
            "22                  bwd iat max         1\n",
            "23                  bwd iat min         1\n",
            "21                  bwd iat std         1\n",
            "20                bwd iat total         1\n",
            "9         bwd packet length min         1\n",
            "25                bwd packets/s         1\n",
            "2              destination port         1\n",
            "31                down/up ratio         1\n",
            "10                 flow bytes/s         1\n",
            "3                 flow duration         1\n",
            "13                 flow iat max         1\n",
            "12                flow iat mean         1\n",
            "14                 flow iat min         1\n",
            "11               flow packets/s         1\n",
            "18                  fwd iat max         1\n",
            "16                 fwd iat mean         1\n",
            "19                  fwd iat min         1\n",
            "17                  fwd iat std         1\n",
            "15                fwd iat total         1\n",
            "6         fwd packet length max         1\n",
            "8        fwd packet length mean         1\n",
            "7         fwd packet length min         1\n",
            "24                fwd packets/s         1\n",
            "37      init_win_bytes_backward         1\n",
            "36       init_win_bytes_forward         1\n",
            "27            max packet length         1\n",
            "26            min packet length         1\n",
            "38         min_seg_size_forward         1\n",
            "28           packet length mean         1\n",
            "1                   source port         1\n",
            "35          subflow bwd packets         1\n",
            "34            subflow fwd bytes         1\n",
            "29               syn flag count         1\n",
            "4             total fwd packets         1\n",
            "5   total length of fwd packets         1\n",
            "0                    unnamed: 0         1\n"
          ],
          "name": "stdout"
        }
      ]
    },
    {
      "cell_type": "code",
      "metadata": {
        "colab": {
          "base_uri": "https://localhost:8080/"
        },
        "id": "mVqcPiCmeQz2",
        "outputId": "de5bf348-2cc3-4823-d64e-cf17d3bfd269"
      },
      "source": [
        "names = X.columns.values[rfe.get_support()]\n",
        "scores = rfe.estimator_.feature_importances_\n",
        "names_scores = list(zip(names, scores))\n",
        "ns_df = pd.DataFrame(data = names_scores, columns=['Feat_names', 'F_Scores'])\n",
        "#Sort the dataframe for better visualization\n",
        "ns_df_sorted = ns_df.sort_values(['F_Scores', 'Feat_names'], ascending = [False, True])\n",
        "print(ns_df_sorted)\n",
        "ns_df_sorted.to_excel('multiRFE_DT_score.xlsx')"
      ],
      "execution_count": null,
      "outputs": [
        {
          "output_type": "stream",
          "text": [
            "                     Feat_names  F_Scores\n",
            "1                   source port  0.285845\n",
            "8        fwd packet length mean  0.173971\n",
            "7         fwd packet length min  0.172540\n",
            "32          average packet size  0.144859\n",
            "0                    unnamed: 0  0.111438\n",
            "38         min_seg_size_forward  0.040632\n",
            "9         bwd packet length min  0.019751\n",
            "2              destination port  0.019667\n",
            "37      init_win_bytes_backward  0.011144\n",
            "10                 flow bytes/s  0.002832\n",
            "22                  bwd iat max  0.002114\n",
            "25                bwd packets/s  0.001482\n",
            "31                down/up ratio  0.001402\n",
            "34            subflow fwd bytes  0.001294\n",
            "39                   active min  0.001248\n",
            "35          subflow bwd packets  0.001218\n",
            "12                flow iat mean  0.000751\n",
            "5   total length of fwd packets  0.000735\n",
            "24                fwd packets/s  0.000697\n",
            "3                 flow duration  0.000624\n",
            "14                 flow iat min  0.000562\n",
            "15                fwd iat total  0.000559\n",
            "27            max packet length  0.000514\n",
            "26            min packet length  0.000405\n",
            "16                 fwd iat mean  0.000340\n",
            "23                  bwd iat min  0.000333\n",
            "11               flow packets/s  0.000332\n",
            "6         fwd packet length max  0.000303\n",
            "19                  fwd iat min  0.000302\n",
            "13                 flow iat max  0.000302\n",
            "28           packet length mean  0.000300\n",
            "4             total fwd packets  0.000285\n",
            "18                  fwd iat max  0.000277\n",
            "36       init_win_bytes_forward  0.000264\n",
            "33         avg fwd segment size  0.000202\n",
            "30               ack flag count  0.000150\n",
            "17                  fwd iat std  0.000136\n",
            "29               syn flag count  0.000112\n",
            "21                  bwd iat std  0.000048\n",
            "20                bwd iat total  0.000030\n"
          ],
          "name": "stdout"
        }
      ]
    },
    {
      "cell_type": "markdown",
      "metadata": {
        "id": "LzX5F0_qA_5F"
      },
      "source": [
        "# **K-FOLD CROSS VALIDATION**"
      ]
    },
    {
      "cell_type": "code",
      "metadata": {
        "colab": {
          "base_uri": "https://localhost:8080/",
          "height": 1000
        },
        "id": "mzEmCDw6BEpg",
        "outputId": "a0797509-7c5e-4b0a-b5d6-b62e9e7b20cb"
      },
      "source": [
        "#features kept by the Random forest features selection\n",
        "colums_to_keep = ['flow packets/s', 'flow iat mean', 'flow bytes/s', 'fwd packet length min', 'init_win_bytes_backward', 'fwd iat std', 'flow duration',\n",
        " 'inbound', 'average packet size', 'destination port', 'fwd packet length mean', 'min_seg_size_forward', 'fwd iat max',\n",
        " 'packet length std', 'bwd iat max', 'bwd packet length max', 'packet length variance', 'total backward packets',\n",
        " 'bwd iat mean','fwd iat total', 'bwd iat total', 'total length of fwd packets', 'flow iat max', 'max packet length', \n",
        " 'flow iat std', 'fwd packets/s', 'fwd packet length max', 'bwd packets/s', 'bwd header length', 'packet length mean',\n",
        " 'flow iat min', 'urg flag count', 'fwd iat mean', 'min packet length', 'source port', 'avg fwd segment size', 'subflow fwd packets',\n",
        " 'init_win_bytes_forward', 'subflow bwd packets', 'subflow fwd bytes', 'label']\n",
        "\n",
        "df_filtered = df.reindex(columns = colums_to_keep)\n",
        "\n",
        "df_filtered['label'] = df_filtered['label'].astype(int)\n",
        "print(df_filtered.shape)\n",
        "print(df_filtered.dtypes)\n",
        "\n",
        "df_filtered.head()"
      ],
      "execution_count": null,
      "outputs": [
        {
          "output_type": "stream",
          "text": [
            "(59304, 41)\n",
            "flow packets/s                 float64\n",
            "flow iat mean                  float64\n",
            "flow bytes/s                   float64\n",
            "fwd packet length min          float64\n",
            "init_win_bytes_backward        float64\n",
            "fwd iat std                    float64\n",
            "flow duration                  float64\n",
            "inbound                        float64\n",
            "average packet size            float64\n",
            "destination port               float64\n",
            "fwd packet length mean         float64\n",
            "min_seg_size_forward           float64\n",
            "fwd iat max                    float64\n",
            "packet length std              float64\n",
            "bwd iat max                    float64\n",
            "bwd packet length max          float64\n",
            "packet length variance         float64\n",
            "total backward packets         float64\n",
            "bwd iat mean                   float64\n",
            "fwd iat total                  float64\n",
            "bwd iat total                  float64\n",
            "total length of fwd packets    float64\n",
            "flow iat max                   float64\n",
            "max packet length              float64\n",
            "flow iat std                   float64\n",
            "fwd packets/s                  float64\n",
            "fwd packet length max          float64\n",
            "bwd packets/s                  float64\n",
            "bwd header length              float64\n",
            "packet length mean             float64\n",
            "flow iat min                   float64\n",
            "urg flag count                 float64\n",
            "fwd iat mean                   float64\n",
            "min packet length              float64\n",
            "source port                    float64\n",
            "avg fwd segment size           float64\n",
            "subflow fwd packets            float64\n",
            "init_win_bytes_forward         float64\n",
            "subflow bwd packets            float64\n",
            "subflow fwd bytes              float64\n",
            "label                            int64\n",
            "dtype: object\n"
          ],
          "name": "stdout"
        },
        {
          "output_type": "execute_result",
          "data": {
            "text/html": [
              "<div>\n",
              "<style scoped>\n",
              "    .dataframe tbody tr th:only-of-type {\n",
              "        vertical-align: middle;\n",
              "    }\n",
              "\n",
              "    .dataframe tbody tr th {\n",
              "        vertical-align: top;\n",
              "    }\n",
              "\n",
              "    .dataframe thead th {\n",
              "        text-align: right;\n",
              "    }\n",
              "</style>\n",
              "<table border=\"1\" class=\"dataframe\">\n",
              "  <thead>\n",
              "    <tr style=\"text-align: right;\">\n",
              "      <th></th>\n",
              "      <th>flow packets/s</th>\n",
              "      <th>flow iat mean</th>\n",
              "      <th>flow bytes/s</th>\n",
              "      <th>fwd packet length min</th>\n",
              "      <th>init_win_bytes_backward</th>\n",
              "      <th>fwd iat std</th>\n",
              "      <th>flow duration</th>\n",
              "      <th>inbound</th>\n",
              "      <th>average packet size</th>\n",
              "      <th>destination port</th>\n",
              "      <th>fwd packet length mean</th>\n",
              "      <th>min_seg_size_forward</th>\n",
              "      <th>fwd iat max</th>\n",
              "      <th>packet length std</th>\n",
              "      <th>bwd iat max</th>\n",
              "      <th>bwd packet length max</th>\n",
              "      <th>packet length variance</th>\n",
              "      <th>total backward packets</th>\n",
              "      <th>bwd iat mean</th>\n",
              "      <th>fwd iat total</th>\n",
              "      <th>bwd iat total</th>\n",
              "      <th>total length of fwd packets</th>\n",
              "      <th>flow iat max</th>\n",
              "      <th>max packet length</th>\n",
              "      <th>flow iat std</th>\n",
              "      <th>fwd packets/s</th>\n",
              "      <th>fwd packet length max</th>\n",
              "      <th>bwd packets/s</th>\n",
              "      <th>bwd header length</th>\n",
              "      <th>packet length mean</th>\n",
              "      <th>flow iat min</th>\n",
              "      <th>urg flag count</th>\n",
              "      <th>fwd iat mean</th>\n",
              "      <th>min packet length</th>\n",
              "      <th>source port</th>\n",
              "      <th>avg fwd segment size</th>\n",
              "      <th>subflow fwd packets</th>\n",
              "      <th>init_win_bytes_forward</th>\n",
              "      <th>subflow bwd packets</th>\n",
              "      <th>subflow fwd bytes</th>\n",
              "      <th>label</th>\n",
              "    </tr>\n",
              "  </thead>\n",
              "  <tbody>\n",
              "    <tr>\n",
              "      <th>0</th>\n",
              "      <td>3413.689952</td>\n",
              "      <td>295.989583</td>\n",
              "      <td>1.502024e+06</td>\n",
              "      <td>440.0</td>\n",
              "      <td>-1.0</td>\n",
              "      <td>500.959301</td>\n",
              "      <td>28415.0</td>\n",
              "      <td>1.0</td>\n",
              "      <td>444.536082</td>\n",
              "      <td>60495.0</td>\n",
              "      <td>440.0</td>\n",
              "      <td>-1.0</td>\n",
              "      <td>3596.0</td>\n",
              "      <td>0.0</td>\n",
              "      <td>0.0</td>\n",
              "      <td>0.0</td>\n",
              "      <td>0.0</td>\n",
              "      <td>0.0</td>\n",
              "      <td>0.0</td>\n",
              "      <td>28415.0</td>\n",
              "      <td>0.0</td>\n",
              "      <td>42680.0</td>\n",
              "      <td>3596.0</td>\n",
              "      <td>440.0</td>\n",
              "      <td>500.959301</td>\n",
              "      <td>3413.689952</td>\n",
              "      <td>440.0</td>\n",
              "      <td>0.0</td>\n",
              "      <td>0.0</td>\n",
              "      <td>440.0</td>\n",
              "      <td>1.0</td>\n",
              "      <td>0.0</td>\n",
              "      <td>295.989583</td>\n",
              "      <td>440.0</td>\n",
              "      <td>634.0</td>\n",
              "      <td>440.0</td>\n",
              "      <td>97.0</td>\n",
              "      <td>-1.0</td>\n",
              "      <td>0.0</td>\n",
              "      <td>42680.0</td>\n",
              "      <td>1</td>\n",
              "    </tr>\n",
              "    <tr>\n",
              "      <th>1</th>\n",
              "      <td>1000000.000000</td>\n",
              "      <td>2.000000</td>\n",
              "      <td>4.400000e+08</td>\n",
              "      <td>440.0</td>\n",
              "      <td>-1.0</td>\n",
              "      <td>0.000000</td>\n",
              "      <td>2.0</td>\n",
              "      <td>0.0</td>\n",
              "      <td>660.000000</td>\n",
              "      <td>60495.0</td>\n",
              "      <td>440.0</td>\n",
              "      <td>-1.0</td>\n",
              "      <td>2.0</td>\n",
              "      <td>0.0</td>\n",
              "      <td>0.0</td>\n",
              "      <td>0.0</td>\n",
              "      <td>0.0</td>\n",
              "      <td>0.0</td>\n",
              "      <td>0.0</td>\n",
              "      <td>2.0</td>\n",
              "      <td>0.0</td>\n",
              "      <td>880.0</td>\n",
              "      <td>2.0</td>\n",
              "      <td>440.0</td>\n",
              "      <td>0.000000</td>\n",
              "      <td>1000000.000000</td>\n",
              "      <td>440.0</td>\n",
              "      <td>0.0</td>\n",
              "      <td>0.0</td>\n",
              "      <td>440.0</td>\n",
              "      <td>2.0</td>\n",
              "      <td>0.0</td>\n",
              "      <td>2.000000</td>\n",
              "      <td>440.0</td>\n",
              "      <td>634.0</td>\n",
              "      <td>440.0</td>\n",
              "      <td>2.0</td>\n",
              "      <td>-1.0</td>\n",
              "      <td>0.0</td>\n",
              "      <td>880.0</td>\n",
              "      <td>1</td>\n",
              "    </tr>\n",
              "    <tr>\n",
              "      <th>2</th>\n",
              "      <td>4119.549321</td>\n",
              "      <td>243.964824</td>\n",
              "      <td>1.812602e+06</td>\n",
              "      <td>440.0</td>\n",
              "      <td>-1.0</td>\n",
              "      <td>578.101371</td>\n",
              "      <td>48549.0</td>\n",
              "      <td>1.0</td>\n",
              "      <td>442.200000</td>\n",
              "      <td>46391.0</td>\n",
              "      <td>440.0</td>\n",
              "      <td>-1.0</td>\n",
              "      <td>5418.0</td>\n",
              "      <td>0.0</td>\n",
              "      <td>0.0</td>\n",
              "      <td>0.0</td>\n",
              "      <td>0.0</td>\n",
              "      <td>0.0</td>\n",
              "      <td>0.0</td>\n",
              "      <td>48549.0</td>\n",
              "      <td>0.0</td>\n",
              "      <td>88000.0</td>\n",
              "      <td>5418.0</td>\n",
              "      <td>440.0</td>\n",
              "      <td>578.101371</td>\n",
              "      <td>4119.549321</td>\n",
              "      <td>440.0</td>\n",
              "      <td>0.0</td>\n",
              "      <td>0.0</td>\n",
              "      <td>440.0</td>\n",
              "      <td>1.0</td>\n",
              "      <td>0.0</td>\n",
              "      <td>243.964824</td>\n",
              "      <td>440.0</td>\n",
              "      <td>634.0</td>\n",
              "      <td>440.0</td>\n",
              "      <td>200.0</td>\n",
              "      <td>-1.0</td>\n",
              "      <td>0.0</td>\n",
              "      <td>88000.0</td>\n",
              "      <td>1</td>\n",
              "    </tr>\n",
              "    <tr>\n",
              "      <th>3</th>\n",
              "      <td>4137.617146</td>\n",
              "      <td>242.899497</td>\n",
              "      <td>1.820552e+06</td>\n",
              "      <td>440.0</td>\n",
              "      <td>-1.0</td>\n",
              "      <td>485.292695</td>\n",
              "      <td>48337.0</td>\n",
              "      <td>1.0</td>\n",
              "      <td>442.200000</td>\n",
              "      <td>11894.0</td>\n",
              "      <td>440.0</td>\n",
              "      <td>-1.0</td>\n",
              "      <td>3337.0</td>\n",
              "      <td>0.0</td>\n",
              "      <td>0.0</td>\n",
              "      <td>0.0</td>\n",
              "      <td>0.0</td>\n",
              "      <td>0.0</td>\n",
              "      <td>0.0</td>\n",
              "      <td>48337.0</td>\n",
              "      <td>0.0</td>\n",
              "      <td>88000.0</td>\n",
              "      <td>3337.0</td>\n",
              "      <td>440.0</td>\n",
              "      <td>485.292695</td>\n",
              "      <td>4137.617146</td>\n",
              "      <td>440.0</td>\n",
              "      <td>0.0</td>\n",
              "      <td>0.0</td>\n",
              "      <td>440.0</td>\n",
              "      <td>1.0</td>\n",
              "      <td>0.0</td>\n",
              "      <td>242.899497</td>\n",
              "      <td>440.0</td>\n",
              "      <td>634.0</td>\n",
              "      <td>440.0</td>\n",
              "      <td>200.0</td>\n",
              "      <td>-1.0</td>\n",
              "      <td>0.0</td>\n",
              "      <td>88000.0</td>\n",
              "      <td>1</td>\n",
              "    </tr>\n",
              "    <tr>\n",
              "      <th>4</th>\n",
              "      <td>6244.925998</td>\n",
              "      <td>160.934673</td>\n",
              "      <td>2.747767e+06</td>\n",
              "      <td>440.0</td>\n",
              "      <td>-1.0</td>\n",
              "      <td>196.891271</td>\n",
              "      <td>32026.0</td>\n",
              "      <td>1.0</td>\n",
              "      <td>442.200000</td>\n",
              "      <td>27878.0</td>\n",
              "      <td>440.0</td>\n",
              "      <td>-1.0</td>\n",
              "      <td>1236.0</td>\n",
              "      <td>0.0</td>\n",
              "      <td>0.0</td>\n",
              "      <td>0.0</td>\n",
              "      <td>0.0</td>\n",
              "      <td>0.0</td>\n",
              "      <td>0.0</td>\n",
              "      <td>32026.0</td>\n",
              "      <td>0.0</td>\n",
              "      <td>88000.0</td>\n",
              "      <td>1236.0</td>\n",
              "      <td>440.0</td>\n",
              "      <td>196.891271</td>\n",
              "      <td>6244.925998</td>\n",
              "      <td>440.0</td>\n",
              "      <td>0.0</td>\n",
              "      <td>0.0</td>\n",
              "      <td>440.0</td>\n",
              "      <td>0.0</td>\n",
              "      <td>0.0</td>\n",
              "      <td>160.934673</td>\n",
              "      <td>440.0</td>\n",
              "      <td>634.0</td>\n",
              "      <td>440.0</td>\n",
              "      <td>200.0</td>\n",
              "      <td>-1.0</td>\n",
              "      <td>0.0</td>\n",
              "      <td>88000.0</td>\n",
              "      <td>1</td>\n",
              "    </tr>\n",
              "  </tbody>\n",
              "</table>\n",
              "</div>"
            ],
            "text/plain": [
              "   flow packets/s  flow iat mean  ...  subflow fwd bytes  label\n",
              "0     3413.689952     295.989583  ...            42680.0      1\n",
              "1  1000000.000000       2.000000  ...              880.0      1\n",
              "2     4119.549321     243.964824  ...            88000.0      1\n",
              "3     4137.617146     242.899497  ...            88000.0      1\n",
              "4     6244.925998     160.934673  ...            88000.0      1\n",
              "\n",
              "[5 rows x 41 columns]"
            ]
          },
          "metadata": {
            "tags": []
          },
          "execution_count": 10
        }
      ]
    },
    {
      "cell_type": "code",
      "metadata": {
        "id": "9qjKRi7TGZmB"
      },
      "source": [
        "X = df_filtered.iloc[:, 0:40]\n",
        "y = df_filtered.iloc[:, 40]"
      ],
      "execution_count": null,
      "outputs": []
    },
    {
      "cell_type": "markdown",
      "metadata": {
        "id": "mdxgr-DQGFId"
      },
      "source": [
        "### Decision tree classification "
      ]
    },
    {
      "cell_type": "code",
      "metadata": {
        "colab": {
          "base_uri": "https://localhost:8080/",
          "height": 232
        },
        "id": "k57BusTgGLmw",
        "outputId": "95e943dd-b8aa-4c39-8b7c-44248cd60b37"
      },
      "source": [
        "k = 5\n",
        "kf = KFold(n_splits=k, random_state=None)\n",
        "model = DecisionTreeClassifier()\n",
        "acc_score = []\n",
        " \n",
        "for train_index , test_index in kf.split(X):\n",
        "  #print(\"TRAIN:\", train_index, \"TEST:\", test_index)\n",
        "\n",
        "  X_train , X_test = X.iloc[train_index,0:40],X.iloc[test_index,0:40]\n",
        "  y_train , y_test = y.iloc[train_index], y.iloc[test_index]\n",
        "     \n",
        "  model.fit(X_train,y_train)\n",
        "  pred_values = model.predict(X_test)\n",
        "     \n",
        "  acc = accuracy_score(pred_values , y_test)  #accuracy\n",
        "  tn, fp, fn, tp = confusion_matrix(y_test, pred_values).ravel()\n",
        "  rec = tp/(tp + fn)     #recall\n",
        "  prec = tp/(tp + fp)  #precision\n",
        "\n",
        "  acc_score.append(acc)\n",
        "  recall_sc.append(rec)\n",
        "  precision_sc.append(prec)                     \n",
        "     \n",
        "avg_acc_score = sum(acc_score)/k\n",
        "avg_recall_sc = sum(recall_sc)/k\n",
        "avg_precision_sc = sum(precision_sc)/k\n",
        " \n",
        "print('accuracy of each fold - {} \\n'.format(acc_score))\n",
        "print('Avg accuracy : {}'.format(avg_acc_score))\n",
        "\n",
        "print('recall of each fold - {}'.format(recall_sc))\n",
        "print('Avg recall : {}\\n'.format(avg_recall_sc))\n",
        "\n",
        "print('precision of each fold - {}'.format(precision_sc))\n",
        "print('Avg precision : {}\\n'.format(avg_precision_sc))"
      ],
      "execution_count": null,
      "outputs": [
        {
          "output_type": "error",
          "ename": "ValueError",
          "evalue": "ignored",
          "traceback": [
            "\u001b[0;31m---------------------------------------------------------------------------\u001b[0m",
            "\u001b[0;31mValueError\u001b[0m                                Traceback (most recent call last)",
            "\u001b[0;32m<ipython-input-25-04858173d448>\u001b[0m in \u001b[0;36m<module>\u001b[0;34m()\u001b[0m\n\u001b[1;32m     14\u001b[0m \u001b[0;34m\u001b[0m\u001b[0m\n\u001b[1;32m     15\u001b[0m   \u001b[0macc\u001b[0m \u001b[0;34m=\u001b[0m \u001b[0maccuracy_score\u001b[0m\u001b[0;34m(\u001b[0m\u001b[0mpred_values\u001b[0m \u001b[0;34m,\u001b[0m \u001b[0my_test\u001b[0m\u001b[0;34m)\u001b[0m  \u001b[0;31m#accuracy\u001b[0m\u001b[0;34m\u001b[0m\u001b[0;34m\u001b[0m\u001b[0m\n\u001b[0;32m---> 16\u001b[0;31m   \u001b[0mtn\u001b[0m\u001b[0;34m,\u001b[0m \u001b[0mfp\u001b[0m\u001b[0;34m,\u001b[0m \u001b[0mfn\u001b[0m\u001b[0;34m,\u001b[0m \u001b[0mtp\u001b[0m \u001b[0;34m=\u001b[0m \u001b[0mconfusion_matrix\u001b[0m\u001b[0;34m(\u001b[0m\u001b[0my_test\u001b[0m\u001b[0;34m,\u001b[0m \u001b[0mpred_values\u001b[0m\u001b[0;34m)\u001b[0m\u001b[0;34m.\u001b[0m\u001b[0mravel\u001b[0m\u001b[0;34m(\u001b[0m\u001b[0;34m)\u001b[0m\u001b[0;34m\u001b[0m\u001b[0;34m\u001b[0m\u001b[0m\n\u001b[0m\u001b[1;32m     17\u001b[0m   \u001b[0mrec\u001b[0m \u001b[0;34m=\u001b[0m \u001b[0mtp\u001b[0m\u001b[0;34m/\u001b[0m\u001b[0;34m(\u001b[0m\u001b[0mtp\u001b[0m \u001b[0;34m+\u001b[0m \u001b[0mfn\u001b[0m\u001b[0;34m)\u001b[0m     \u001b[0;31m#recall\u001b[0m\u001b[0;34m\u001b[0m\u001b[0;34m\u001b[0m\u001b[0m\n\u001b[1;32m     18\u001b[0m   \u001b[0mprec\u001b[0m \u001b[0;34m=\u001b[0m \u001b[0mtp\u001b[0m\u001b[0;34m/\u001b[0m\u001b[0;34m(\u001b[0m\u001b[0mtp\u001b[0m \u001b[0;34m+\u001b[0m \u001b[0mfp\u001b[0m\u001b[0;34m)\u001b[0m  \u001b[0;31m#precision\u001b[0m\u001b[0;34m\u001b[0m\u001b[0;34m\u001b[0m\u001b[0m\n",
            "\u001b[0;31mValueError\u001b[0m: too many values to unpack (expected 4)"
          ]
        }
      ]
    },
    {
      "cell_type": "markdown",
      "metadata": {
        "id": "Za9IgKlkGL7b"
      },
      "source": [
        "### Random Forest classification"
      ]
    },
    {
      "cell_type": "code",
      "metadata": {
        "colab": {
          "base_uri": "https://localhost:8080/"
        },
        "id": "uabYZABSGSwu",
        "outputId": "75e6fd57-8d8e-404b-c7ca-0f9665c4974a"
      },
      "source": [
        "k = 5\n",
        "kf = KFold(n_splits=k, random_state=None)\n",
        "model = RandomForestClassifier()\n",
        "acc_score = []\n",
        " \n",
        "for train_index , test_index in kf.split(X):\n",
        "  #print(\"TRAIN:\", train_index, \"TEST:\", test_index)\n",
        "\n",
        "  X_train , X_test = X.iloc[train_index,0:40],X.iloc[test_index,0:40]\n",
        "  y_train , y_test = y.iloc[train_index], y.iloc[test_index]\n",
        "     \n",
        "  model.fit(X_train,y_train)\n",
        "  pred_values = model.predict(X_test)\n",
        "     \n",
        "  acc = accuracy_score(pred_values , y_test)\n",
        "  acc_score.append(acc)\n",
        "     \n",
        "avg_acc_score = sum(acc_score)/k\n",
        " \n",
        "print('accuracy of each fold - {} \\n'.format(acc_score))\n",
        "print('Avg accuracy : {}'.format(avg_acc_score))"
      ],
      "execution_count": null,
      "outputs": [
        {
          "output_type": "stream",
          "text": [
            "accuracy of each fold - [0.1742686114155636, 0.2656605682488829, 0.7783492117022174, 0.971924795548436, 0.15573355817875212] \n",
            "\n",
            "Avg accuracy : 0.4691873490187704\n"
          ],
          "name": "stdout"
        }
      ]
    },
    {
      "cell_type": "markdown",
      "metadata": {
        "id": "zSs-Rf9UxmaE"
      },
      "source": [
        "### Naive bayes classifier "
      ]
    },
    {
      "cell_type": "code",
      "metadata": {
        "colab": {
          "base_uri": "https://localhost:8080/"
        },
        "id": "-FhC8PwSx0bO",
        "outputId": "56e80c9e-d113-4ba7-ed11-08d7e4a5a72b"
      },
      "source": [
        "k = 5\n",
        "kf = KFold(n_splits=k, random_state=None)\n",
        "model = GaussianNB()\n",
        "acc_score = []\n",
        " \n",
        "for train_index , test_index in kf.split(X):\n",
        "  #print(\"TRAIN:\", train_index, \"TEST:\", test_index)\n",
        "\n",
        "  X_train , X_test = X.iloc[train_index,0:40],X.iloc[test_index,0:40]\n",
        "  y_train , y_test = y.iloc[train_index], y.iloc[test_index]\n",
        "     \n",
        "  model.fit(X_train,y_train)\n",
        "  pred_values = model.predict(X_test)\n",
        "     \n",
        "  acc = accuracy_score(pred_values , y_test)\n",
        "  acc_score.append(acc)\n",
        "     \n",
        "avg_acc_score = sum(acc_score)/k\n",
        " \n",
        "print('accuracy of each fold - {} \\n'.format(acc_score))\n",
        "print('Avg accuracy : {}'.format(avg_acc_score))"
      ],
      "execution_count": null,
      "outputs": [
        {
          "output_type": "stream",
          "text": [
            "accuracy of each fold - [0.15841834583930528, 0.5545063653992075, 0.02689486552567237, 0.11592614450720849, 0.031197301854974706] \n",
            "\n",
            "Avg accuracy : 0.17738860462527367\n"
          ],
          "name": "stdout"
        }
      ]
    },
    {
      "cell_type": "markdown",
      "metadata": {
        "id": "cNEy1mIyydzP"
      },
      "source": [
        "### KNN (k-nearest neighbors)"
      ]
    },
    {
      "cell_type": "code",
      "metadata": {
        "colab": {
          "base_uri": "https://localhost:8080/"
        },
        "id": "UC1xZFW7zAxZ",
        "outputId": "faabcf03-eaa9-4445-e8a5-19a9361f11a5"
      },
      "source": [
        "k = 5\n",
        "kf = KFold(n_splits=k, random_state=None)\n",
        "model = KNeighborsClassifier(n_neighbors = 5)\n",
        "acc_score = []\n",
        " \n",
        "for train_index , test_index in kf.split(X):\n",
        "  #print(\"TRAIN:\", train_index, \"TEST:\", test_index)\n",
        "\n",
        "  X_train , X_test = X.iloc[train_index,0:40],X.iloc[test_index,0:40]\n",
        "  y_train , y_test = y.iloc[train_index], y.iloc[test_index]\n",
        "     \n",
        "  model.fit(X_train,y_train)\n",
        "  pred_values = model.predict(X_test)\n",
        "     \n",
        "  acc = accuracy_score(pred_values , y_test)\n",
        "  acc_score.append(acc)\n",
        "     \n",
        "avg_acc_score = sum(acc_score)/k\n",
        " \n",
        "print('accuracy of each fold - {} \\n'.format(acc_score))\n",
        "print('Avg accuracy : {}'.format(avg_acc_score))"
      ],
      "execution_count": null,
      "outputs": [
        {
          "output_type": "stream",
          "text": [
            "accuracy of each fold - [0.17991737627518758, 0.43225697664615126, 0.6082117865272743, 0.9319618919146784, 0.14839797639123103] \n",
            "\n",
            "Avg accuracy : 0.4601492015509045\n"
          ],
          "name": "stdout"
        }
      ]
    },
    {
      "cell_type": "markdown",
      "metadata": {
        "id": "_uXIwR0iz3rv"
      },
      "source": [
        "### Neural network"
      ]
    },
    {
      "cell_type": "code",
      "metadata": {
        "colab": {
          "base_uri": "https://localhost:8080/"
        },
        "id": "TTPmLGORz5hx",
        "outputId": "53e028f1-7478-44a4-a83b-8f564530b4f1"
      },
      "source": [
        "k = 5\n",
        "kf = KFold(n_splits=k, random_state=None)\n",
        "model = MLPClassifier()\n",
        "acc_score = []\n",
        " \n",
        "for train_index , test_index in kf.split(X):\n",
        "  #print(\"TRAIN:\", train_index, \"TEST:\", test_index)\n",
        "\n",
        "  X_train , X_test = X.iloc[train_index,0:40],X.iloc[test_index,0:40]\n",
        "  y_train , y_test = y.iloc[train_index], y.iloc[test_index]\n",
        "     \n",
        "  model.fit(X_train,y_train)\n",
        "  pred_values = model.predict(X_test)\n",
        "     \n",
        "  acc = accuracy_score(pred_values , y_test)\n",
        "  acc_score.append(acc)\n",
        "     \n",
        "avg_acc_score = sum(acc_score)/k\n",
        " \n",
        "print('accuracy of each fold - {} \\n'.format(acc_score))\n",
        "print('Avg accuracy : {}'.format(avg_acc_score))"
      ],
      "execution_count": null,
      "outputs": [
        {
          "output_type": "stream",
          "text": [
            "/usr/local/lib/python3.7/dist-packages/sklearn/neural_network/_multilayer_perceptron.py:571: ConvergenceWarning: Stochastic Optimizer: Maximum iterations (200) reached and the optimization hasn't converged yet.\n",
            "  % self.max_iter, ConvergenceWarning)\n",
            "/usr/local/lib/python3.7/dist-packages/sklearn/neural_network/_multilayer_perceptron.py:571: ConvergenceWarning: Stochastic Optimizer: Maximum iterations (200) reached and the optimization hasn't converged yet.\n",
            "  % self.max_iter, ConvergenceWarning)\n",
            "/usr/local/lib/python3.7/dist-packages/sklearn/neural_network/_multilayer_perceptron.py:571: ConvergenceWarning: Stochastic Optimizer: Maximum iterations (200) reached and the optimization hasn't converged yet.\n",
            "  % self.max_iter, ConvergenceWarning)\n",
            "/usr/local/lib/python3.7/dist-packages/sklearn/neural_network/_multilayer_perceptron.py:571: ConvergenceWarning: Stochastic Optimizer: Maximum iterations (200) reached and the optimization hasn't converged yet.\n",
            "  % self.max_iter, ConvergenceWarning)\n"
          ],
          "name": "stderr"
        },
        {
          "output_type": "stream",
          "text": [
            "accuracy of each fold - [0.07284377371216592, 0.3299047297866959, 0.1491442542787286, 0.8815445577944524, 0.14249578414839797] \n",
            "\n",
            "Avg accuracy : 0.31518661994408814\n"
          ],
          "name": "stdout"
        },
        {
          "output_type": "stream",
          "text": [
            "/usr/local/lib/python3.7/dist-packages/sklearn/neural_network/_multilayer_perceptron.py:571: ConvergenceWarning: Stochastic Optimizer: Maximum iterations (200) reached and the optimization hasn't converged yet.\n",
            "  % self.max_iter, ConvergenceWarning)\n"
          ],
          "name": "stderr"
        }
      ]
    },
    {
      "cell_type": "markdown",
      "metadata": {
        "id": "HDqDFF7yT0Ll"
      },
      "source": [
        "# Stratified K-FOLD CROSS VALIDATION "
      ]
    },
    {
      "cell_type": "markdown",
      "metadata": {
        "id": "A3i9_uVHT6-b"
      },
      "source": [
        "### Decision tree classification"
      ]
    },
    {
      "cell_type": "code",
      "metadata": {
        "colab": {
          "base_uri": "https://localhost:8080/"
        },
        "id": "-4R0lSE7UEqc",
        "outputId": "c86c523b-9e9e-4e4b-fdbf-41ec8b67a459"
      },
      "source": [
        "k = 5\n",
        "skf = StratifiedKFold(n_splits=k, random_state=None)\n",
        "model = DecisionTreeClassifier()\n",
        "acc_score = []\n",
        "precision_sc = []\n",
        "recall_sc = []\n",
        " \n",
        "for train_index , test_index in skf.split(X, y):\n",
        "  #print(\"TRAIN:\", train_index, \"TEST:\", test_index)\n",
        "\n",
        "  X_train , X_test = X.iloc[train_index,0:40],X.iloc[test_index,0:40]\n",
        "  y_train , y_test = y.iloc[train_index], y.iloc[test_index]\n",
        "     \n",
        "  model.fit(X_train,y_train)\n",
        "  pred_values = model.predict(X_test)\n",
        "     \n",
        "  acc = accuracy_score(pred_values , y_test)  #accuracy\n",
        "  confusion_matrix(y_test, pred_values).ravel()\n",
        "  print(classification_report(y_test, pred_values, digits=3))\n",
        "  #rec = tp/(tp + fn)     #recall\n",
        "  #prec = tp/(tp + fp)  #precision\n",
        "\n",
        "  acc_score.append(acc)\n",
        "  #recall_sc.append(rec)\n",
        "  #precision_sc.append(prec)                     \n",
        "     \n",
        "avg_acc_score = sum(acc_score)/k\n",
        "#avg_recall_sc = sum(recall_sc)/k\n",
        "#avg_precision_sc = sum(precision_sc)/k\n",
        " \n",
        "print('accuracy of each fold - {} \\n'.format(acc_score))\n",
        "print('Avg accuracy : {}'.format(avg_acc_score))\n",
        "\n",
        "#print('recall of each fold - {}'.format(recall_sc))\n",
        "#print('Avg recall : {}\\n'.format(avg_recall_sc))\n",
        "\n",
        "#print('precision of each fold - {}'.format(precision_sc))\n",
        "#print('Avg precision : {}\\n'.format(avg_precision_sc))"
      ],
      "execution_count": null,
      "outputs": [
        {
          "output_type": "stream",
          "text": [
            "              precision    recall  f1-score   support\n",
            "\n",
            "           0      0.996     0.951     0.973      1774\n",
            "           1      0.812     0.951     0.876      1822\n",
            "           2      0.605     0.998     0.753      1964\n",
            "           3      0.981     0.334     0.498      1972\n",
            "           4      0.998     0.826     0.904      1934\n",
            "           5      0.686     0.907     0.781       400\n",
            "           6      0.998     0.998     0.998      1995\n",
            "\n",
            "    accuracy                          0.842     11861\n",
            "   macro avg      0.868     0.852     0.826     11861\n",
            "weighted avg      0.891     0.842     0.829     11861\n",
            "\n",
            "              precision    recall  f1-score   support\n",
            "\n",
            "           0      0.999     1.000     0.999      1774\n",
            "           1      0.965     0.986     0.975      1822\n",
            "           2      0.722     0.788     0.753      1964\n",
            "           3      0.765     0.695     0.728      1972\n",
            "           4      0.996     0.999     0.998      1934\n",
            "           5      0.972     0.865     0.915       400\n",
            "           6      0.999     0.998     0.999      1995\n",
            "\n",
            "    accuracy                          0.907     11861\n",
            "   macro avg      0.917     0.904     0.910     11861\n",
            "weighted avg      0.908     0.907     0.907     11861\n",
            "\n",
            "              precision    recall  f1-score   support\n",
            "\n",
            "           0      1.000     0.997     0.998      1774\n",
            "           1      0.732     0.972     0.835      1822\n",
            "           2      0.727     0.719     0.723      1964\n",
            "           3      0.716     0.725     0.721      1972\n",
            "           4      0.996     0.997     0.997      1933\n",
            "           5      0.925     0.895     0.910       401\n",
            "           6      1.000     0.707     0.828      1995\n",
            "\n",
            "    accuracy                          0.850     11861\n",
            "   macro avg      0.871     0.859     0.859     11861\n",
            "weighted avg      0.863     0.850     0.850     11861\n",
            "\n",
            "              precision    recall  f1-score   support\n",
            "\n",
            "           0      0.999     0.998     0.999      1773\n",
            "           1      0.966     0.925     0.945      1822\n",
            "           2      0.702     0.627     0.662      1964\n",
            "           3      0.671     0.764     0.715      1972\n",
            "           4      0.998     0.999     0.999      1934\n",
            "           5      0.853     0.883     0.868       401\n",
            "           6      0.999     0.999     0.999      1995\n",
            "\n",
            "    accuracy                          0.883     11861\n",
            "   macro avg      0.884     0.885     0.884     11861\n",
            "weighted avg      0.885     0.883     0.883     11861\n",
            "\n",
            "              precision    recall  f1-score   support\n",
            "\n",
            "           0      0.999     0.999     0.999      1774\n",
            "           1      0.953     0.954     0.954      1821\n",
            "           2      0.713     0.654     0.682      1964\n",
            "           3      0.670     0.738     0.703      1972\n",
            "           4      0.998     0.982     0.990      1934\n",
            "           5      0.889     0.858     0.873       401\n",
            "           6      0.998     0.999     0.999      1994\n",
            "\n",
            "    accuracy                          0.884     11860\n",
            "   macro avg      0.889     0.884     0.886     11860\n",
            "weighted avg      0.886     0.884     0.885     11860\n",
            "\n",
            "accuracy of each fold - [0.8422561335469184, 0.9070061546243993, 0.8496754067953798, 0.8829778264901779, 0.8843170320404722] \n",
            "\n",
            "Avg accuracy : 0.8732465106994696\n"
          ],
          "name": "stdout"
        }
      ]
    },
    {
      "cell_type": "markdown",
      "metadata": {
        "id": "faQDpFWWVLAI"
      },
      "source": [
        "### Random Forest classification"
      ]
    },
    {
      "cell_type": "code",
      "metadata": {
        "colab": {
          "base_uri": "https://localhost:8080/"
        },
        "id": "DZfAIfscVOzV",
        "outputId": "bc8d1e1f-8d28-4d9c-e83e-71a9055509cc"
      },
      "source": [
        "k = 5\n",
        "skf = StratifiedKFold(n_splits=k, random_state=None)\n",
        "model = RandomForestClassifier()\n",
        "acc_score = []\n",
        " \n",
        "for train_index , test_index in skf.split(X, y):\n",
        "  #print(\"TRAIN:\", train_index, \"TEST:\", test_index)\n",
        "\n",
        "  X_train , X_test = X.iloc[train_index,0:40],X.iloc[test_index,0:40]\n",
        "  y_train , y_test = y.iloc[train_index], y.iloc[test_index]\n",
        "     \n",
        "  model.fit(X_train,y_train)\n",
        "  pred_values = model.predict(X_test)\n",
        "     \n",
        "  acc = accuracy_score(pred_values , y_test)\n",
        "  acc_score.append(acc)\n",
        "     \n",
        "avg_acc_score = sum(acc_score)/k\n",
        " \n",
        "print('accuracy of each fold - {} \\n'.format(acc_score))\n",
        "print('Avg accuracy : {}'.format(avg_acc_score))"
      ],
      "execution_count": null,
      "outputs": [
        {
          "output_type": "stream",
          "text": [
            "accuracy of each fold - [0.8710058173847062, 0.9219290110445999, 0.8672961807604755, 0.9018632493044432, 0.8935919055649241] \n",
            "\n",
            "Avg accuracy : 0.8911372328118299\n"
          ],
          "name": "stdout"
        }
      ]
    },
    {
      "cell_type": "markdown",
      "metadata": {
        "id": "jx0MmBO4VspP"
      },
      "source": [
        "### Naive bayes classifier"
      ]
    },
    {
      "cell_type": "code",
      "metadata": {
        "colab": {
          "base_uri": "https://localhost:8080/"
        },
        "id": "u3CK8KouVv8L",
        "outputId": "3b90bed1-5c1d-44b9-8576-267836a58c71"
      },
      "source": [
        "k = 5\n",
        "skf = StratifiedKFold(n_splits=k, random_state=None)\n",
        "model = GaussianNB()\n",
        "acc_score = []\n",
        " \n",
        "for train_index , test_index in skf.split(X, y):\n",
        "  #print(\"TRAIN:\", train_index, \"TEST:\", test_index)\n",
        "\n",
        "  X_train , X_test = X.iloc[train_index,0:40],X.iloc[test_index,0:40]\n",
        "  y_train , y_test = y.iloc[train_index], y.iloc[test_index]\n",
        "     \n",
        "  model.fit(X_train,y_train)\n",
        "  pred_values = model.predict(X_test)\n",
        "     \n",
        "  acc = accuracy_score(pred_values , y_test)\n",
        "  acc_score.append(acc)\n",
        "     \n",
        "avg_acc_score = sum(acc_score)/k\n",
        " \n",
        "print('accuracy of each fold - {} \\n'.format(acc_score))\n",
        "print('Avg accuracy : {}'.format(avg_acc_score))"
      ],
      "execution_count": null,
      "outputs": [
        {
          "output_type": "stream",
          "text": [
            "accuracy of each fold - [0.35983475255037517, 0.3570525250822022, 0.3562094258494225, 0.3542702976140292, 0.3526981450252951] \n",
            "\n",
            "Avg accuracy : 0.3560130292242648\n"
          ],
          "name": "stdout"
        }
      ]
    },
    {
      "cell_type": "markdown",
      "metadata": {
        "id": "3dOS3q12V-SR"
      },
      "source": [
        "### KNN (k-nearest neighbors)"
      ]
    },
    {
      "cell_type": "code",
      "metadata": {
        "colab": {
          "base_uri": "https://localhost:8080/"
        },
        "id": "nni2fVzuWEbk",
        "outputId": "d615853b-5910-49d3-c12e-d748a6e166be"
      },
      "source": [
        "k = 5\n",
        "skf = StratifiedKFold(n_splits=k, random_state=None)\n",
        "model = KNeighborsClassifier(n_neighbors = 5)\n",
        "acc_score = []\n",
        " \n",
        "for train_index , test_index in skf.split(X, y):\n",
        "  #print(\"TRAIN:\", train_index, \"TEST:\", test_index)\n",
        "\n",
        "  X_train , X_test = X.iloc[train_index,0:40],X.iloc[test_index,0:40]\n",
        "  y_train , y_test = y.iloc[train_index], y.iloc[test_index]\n",
        "     \n",
        "  model.fit(X_train,y_train)\n",
        "  pred_values = model.predict(X_test)\n",
        "     \n",
        "  acc = accuracy_score(pred_values , y_test)\n",
        "  acc_score.append(acc)\n",
        "     \n",
        "avg_acc_score = sum(acc_score)/k\n",
        " \n",
        "print('accuracy of each fold - {} \\n'.format(acc_score))\n",
        "print('Avg accuracy : {}'.format(avg_acc_score))"
      ],
      "execution_count": null,
      "outputs": [
        {
          "output_type": "stream",
          "text": [
            "accuracy of each fold - [0.8457128404013152, 0.8535536632661664, 0.8572632998903971, 0.8343310007587893, 0.8264755480607082] \n",
            "\n",
            "Avg accuracy : 0.8434672704754753\n"
          ],
          "name": "stdout"
        }
      ]
    },
    {
      "cell_type": "markdown",
      "metadata": {
        "id": "P9Ph5UlCWV9r"
      },
      "source": [
        "### Neural network"
      ]
    },
    {
      "cell_type": "code",
      "metadata": {
        "colab": {
          "base_uri": "https://localhost:8080/"
        },
        "id": "H8KEkwSSWYmz",
        "outputId": "40577eb4-453a-4210-955b-21f79b073a1e"
      },
      "source": [
        "k = 5\n",
        "skf = StratifiedKFold(n_splits=k, random_state=None)\n",
        "model = MLPClassifier()\n",
        "acc_score = []\n",
        " \n",
        "for train_index , test_index in skf.split(X, y):\n",
        "  #print(\"TRAIN:\", train_index, \"TEST:\", test_index)\n",
        "\n",
        "  X_train , X_test = X.iloc[train_index,0:40],X.iloc[test_index,0:40]\n",
        "  y_train , y_test = y.iloc[train_index], y.iloc[test_index]\n",
        "     \n",
        "  model.fit(X_train,y_train)\n",
        "  pred_values = model.predict(X_test)\n",
        "     \n",
        "  acc = accuracy_score(pred_values , y_test)\n",
        "  acc_score.append(acc)\n",
        "     \n",
        "avg_acc_score = sum(acc_score)/k\n",
        " \n",
        "print('accuracy of each fold - {} \\n'.format(acc_score))\n",
        "print('Avg accuracy : {}'.format(avg_acc_score))"
      ],
      "execution_count": null,
      "outputs": [
        {
          "output_type": "stream",
          "text": [
            "/usr/local/lib/python3.7/dist-packages/sklearn/neural_network/_multilayer_perceptron.py:571: ConvergenceWarning: Stochastic Optimizer: Maximum iterations (200) reached and the optimization hasn't converged yet.\n",
            "  % self.max_iter, ConvergenceWarning)\n",
            "/usr/local/lib/python3.7/dist-packages/sklearn/neural_network/_multilayer_perceptron.py:571: ConvergenceWarning: Stochastic Optimizer: Maximum iterations (200) reached and the optimization hasn't converged yet.\n",
            "  % self.max_iter, ConvergenceWarning)\n",
            "/usr/local/lib/python3.7/dist-packages/sklearn/neural_network/_multilayer_perceptron.py:571: ConvergenceWarning: Stochastic Optimizer: Maximum iterations (200) reached and the optimization hasn't converged yet.\n",
            "  % self.max_iter, ConvergenceWarning)\n",
            "/usr/local/lib/python3.7/dist-packages/sklearn/neural_network/_multilayer_perceptron.py:571: ConvergenceWarning: Stochastic Optimizer: Maximum iterations (200) reached and the optimization hasn't converged yet.\n",
            "  % self.max_iter, ConvergenceWarning)\n"
          ],
          "name": "stderr"
        },
        {
          "output_type": "stream",
          "text": [
            "accuracy of each fold - [0.7395666469943513, 0.7893095017283535, 0.7446252423910295, 0.7596324087345081, 0.6146711635750421] \n",
            "\n",
            "Avg accuracy : 0.7295609926846568\n"
          ],
          "name": "stdout"
        },
        {
          "output_type": "stream",
          "text": [
            "/usr/local/lib/python3.7/dist-packages/sklearn/neural_network/_multilayer_perceptron.py:571: ConvergenceWarning: Stochastic Optimizer: Maximum iterations (200) reached and the optimization hasn't converged yet.\n",
            "  % self.max_iter, ConvergenceWarning)\n"
          ],
          "name": "stderr"
        }
      ]
    }
  ]
}