{
  "nbformat": 4,
  "nbformat_minor": 0,
  "metadata": {
    "accelerator": "GPU",
    "colab": {
      "name": "code_binary.ipynb",
      "provenance": [],
      "collapsed_sections": [],
      "toc_visible": true
    },
    "kernelspec": {
      "display_name": "Python 3",
      "name": "python3"
    }
  },
  "cells": [
    {
      "cell_type": "code",
      "metadata": {
        "id": "-Rz6VvrWFTY9"
      },
      "source": [
        "import numpy as np\n",
        "import csv\n",
        "import os\n",
        "import glob\n",
        "import pandas as pd\n",
        "import math\n",
        "from sklearn.feature_selection import SelectKBest, f_classif, mutual_info_classif, RFE\n",
        "from sklearn.ensemble import RandomForestClassifier\n",
        "from sklearn.tree import DecisionTreeClassifier\n",
        "from sklearn import svm\n",
        "from sklearn.model_selection import KFold \n",
        "from sklearn.linear_model import LogisticRegression\n",
        "from sklearn.neighbors import KNeighborsClassifier\n",
        "from sklearn.metrics import accuracy_score, f1_score, precision_score, recall_score, roc_curve, auc\n",
        "from tabulate import tabulate\n",
        "from plotnine import *\n",
        "import plotnine\n",
        "from sklearn.metrics import confusion_matrix\n",
        "from google.colab import files"
      ],
      "execution_count": null,
      "outputs": []
    },
    {
      "cell_type": "code",
      "metadata": {
        "colab": {
          "base_uri": "https://localhost:8080/"
        },
        "id": "32wEj5j8U3YN",
        "outputId": "0dce7f4e-b1f7-4ea4-aae6-a284d2bd8c16"
      },
      "source": [
        "from google.colab import drive\n",
        "drive.mount('/content/drive')"
      ],
      "execution_count": null,
      "outputs": [
        {
          "output_type": "stream",
          "text": [
            "Mounted at /content/drive\n"
          ],
          "name": "stdout"
        }
      ]
    },
    {
      "cell_type": "code",
      "metadata": {
        "colab": {
          "base_uri": "https://localhost:8080/"
        },
        "id": "BBytQCjuWMhE",
        "outputId": "03ef2f6b-5a3b-4b4a-b8e0-e916b25d4d4a"
      },
      "source": [
        "data=pd.read_csv('/content/drive/My Drive/combined_csv2.csv', delimiter=',', skipinitialspace=True)"
      ],
      "execution_count": null,
      "outputs": [
        {
          "output_type": "stream",
          "text": [
            "/usr/local/lib/python3.7/dist-packages/IPython/core/interactiveshell.py:2718: DtypeWarning: Columns (41,62,85) have mixed types.Specify dtype option on import or set low_memory=False.\n",
            "  interactivity=interactivity, compiler=compiler, result=result)\n"
          ],
          "name": "stderr"
        }
      ]
    },
    {
      "cell_type": "code",
      "metadata": {
        "colab": {
          "base_uri": "https://localhost:8080/"
        },
        "id": "fO6GPGILAO_P",
        "outputId": "c19dbed1-33ff-43f9-8aac-0f1db5564b21"
      },
      "source": [
        "df = pd.DataFrame(data)\n",
        "df.columns = list(map(str.lower, data.columns.astype(str)))\n",
        "target_col = 'label'\n",
        "print(df.columns)"
      ],
      "execution_count": null,
      "outputs": [
        {
          "output_type": "stream",
          "text": [
            "Index(['unnamed: 0', 'flow id', 'source ip', 'source port', 'destination ip',\n",
            "       'destination port', 'protocol', 'timestamp', 'flow duration',\n",
            "       'total fwd packets', 'total backward packets',\n",
            "       'total length of fwd packets', 'total length of bwd packets',\n",
            "       'fwd packet length max', 'fwd packet length min',\n",
            "       'fwd packet length mean', 'fwd packet length std',\n",
            "       'bwd packet length max', 'bwd packet length min',\n",
            "       'bwd packet length mean', 'bwd packet length std', 'flow bytes/s',\n",
            "       'flow packets/s', 'flow iat mean', 'flow iat std', 'flow iat max',\n",
            "       'flow iat min', 'fwd iat total', 'fwd iat mean', 'fwd iat std',\n",
            "       'fwd iat max', 'fwd iat min', 'bwd iat total', 'bwd iat mean',\n",
            "       'bwd iat std', 'bwd iat max', 'bwd iat min', 'fwd psh flags',\n",
            "       'bwd psh flags', 'fwd urg flags', 'bwd urg flags', 'fwd header length',\n",
            "       'bwd header length', 'fwd packets/s', 'bwd packets/s',\n",
            "       'min packet length', 'max packet length', 'packet length mean',\n",
            "       'packet length std', 'packet length variance', 'fin flag count',\n",
            "       'syn flag count', 'rst flag count', 'psh flag count', 'ack flag count',\n",
            "       'urg flag count', 'cwe flag count', 'ece flag count', 'down/up ratio',\n",
            "       'average packet size', 'avg fwd segment size', 'avg bwd segment size',\n",
            "       'fwd header length.1', 'fwd avg bytes/bulk', 'fwd avg packets/bulk',\n",
            "       'fwd avg bulk rate', 'bwd avg bytes/bulk', 'bwd avg packets/bulk',\n",
            "       'bwd avg bulk rate', 'subflow fwd packets', 'subflow fwd bytes',\n",
            "       'subflow bwd packets', 'subflow bwd bytes', 'init_win_bytes_forward',\n",
            "       'init_win_bytes_backward', 'act_data_pkt_fwd', 'min_seg_size_forward',\n",
            "       'active mean', 'active std', 'active max', 'active min', 'idle mean',\n",
            "       'idle std', 'idle max', 'idle min', 'simillarhttp', 'inbound', 'label'],\n",
            "      dtype='object')\n"
          ],
          "name": "stdout"
        }
      ]
    },
    {
      "cell_type": "code",
      "metadata": {
        "colab": {
          "base_uri": "https://localhost:8080/"
        },
        "id": "V-y2SuTNAd9O",
        "outputId": "95ed59e6-2f27-4017-f5c1-37fc11667e0c"
      },
      "source": [
        "print(df.shape)\n",
        "non_floats = []\n",
        "\n",
        "#cleaning data from columns which have a non int/float type \n",
        "for col in df:\n",
        "    if df[col].dtypes != \"float64\" and df[col].dtypes != \"int64\" and col != target_col:\n",
        "        non_floats.append(col)\n",
        "    elif df[col].dtypes == \"int64\":\n",
        "        df[col] = df[col].astype(float)\n",
        "df = df.drop(columns=non_floats)\n",
        "df.info()\n",
        "print(df.shape)"
      ],
      "execution_count": null,
      "outputs": [
        {
          "output_type": "stream",
          "text": [
            "(59990, 88)\n",
            "<class 'pandas.core.frame.DataFrame'>\n",
            "RangeIndex: 59990 entries, 0 to 59989\n",
            "Data columns (total 81 columns):\n",
            " #   Column                       Non-Null Count  Dtype  \n",
            "---  ------                       --------------  -----  \n",
            " 0   unnamed: 0                   59990 non-null  float64\n",
            " 1   source port                  59990 non-null  float64\n",
            " 2   destination port             59990 non-null  float64\n",
            " 3   protocol                     59990 non-null  float64\n",
            " 4   flow duration                59990 non-null  float64\n",
            " 5   total fwd packets            59990 non-null  float64\n",
            " 6   total backward packets       59990 non-null  float64\n",
            " 7   total length of fwd packets  59990 non-null  float64\n",
            " 8   total length of bwd packets  59990 non-null  float64\n",
            " 9   fwd packet length max        59990 non-null  float64\n",
            " 10  fwd packet length min        59990 non-null  float64\n",
            " 11  fwd packet length mean       59990 non-null  float64\n",
            " 12  fwd packet length std        59990 non-null  float64\n",
            " 13  bwd packet length max        59990 non-null  float64\n",
            " 14  bwd packet length min        59990 non-null  float64\n",
            " 15  bwd packet length mean       59990 non-null  float64\n",
            " 16  bwd packet length std        59990 non-null  float64\n",
            " 17  flow bytes/s                 59985 non-null  float64\n",
            " 18  flow packets/s               59990 non-null  float64\n",
            " 19  flow iat mean                59990 non-null  float64\n",
            " 20  flow iat std                 59990 non-null  float64\n",
            " 21  flow iat max                 59990 non-null  float64\n",
            " 22  flow iat min                 59990 non-null  float64\n",
            " 23  fwd iat total                59990 non-null  float64\n",
            " 24  fwd iat mean                 59990 non-null  float64\n",
            " 25  fwd iat std                  59990 non-null  float64\n",
            " 26  fwd iat max                  59990 non-null  float64\n",
            " 27  fwd iat min                  59990 non-null  float64\n",
            " 28  bwd iat total                59990 non-null  float64\n",
            " 29  bwd iat mean                 59990 non-null  float64\n",
            " 30  bwd iat std                  59990 non-null  float64\n",
            " 31  bwd iat max                  59990 non-null  float64\n",
            " 32  bwd iat min                  59990 non-null  float64\n",
            " 33  fwd psh flags                59990 non-null  float64\n",
            " 34  bwd psh flags                59990 non-null  float64\n",
            " 35  fwd urg flags                59990 non-null  float64\n",
            " 36  bwd urg flags                59990 non-null  float64\n",
            " 37  bwd header length            59990 non-null  float64\n",
            " 38  fwd packets/s                59990 non-null  float64\n",
            " 39  bwd packets/s                59990 non-null  float64\n",
            " 40  min packet length            59990 non-null  float64\n",
            " 41  max packet length            59990 non-null  float64\n",
            " 42  packet length mean           59990 non-null  float64\n",
            " 43  packet length std            59990 non-null  float64\n",
            " 44  packet length variance       59990 non-null  float64\n",
            " 45  fin flag count               59990 non-null  float64\n",
            " 46  syn flag count               59990 non-null  float64\n",
            " 47  rst flag count               59990 non-null  float64\n",
            " 48  psh flag count               59990 non-null  float64\n",
            " 49  ack flag count               59990 non-null  float64\n",
            " 50  urg flag count               59990 non-null  float64\n",
            " 51  cwe flag count               59990 non-null  float64\n",
            " 52  ece flag count               59990 non-null  float64\n",
            " 53  down/up ratio                59990 non-null  float64\n",
            " 54  average packet size          59990 non-null  float64\n",
            " 55  avg fwd segment size         59990 non-null  float64\n",
            " 56  avg bwd segment size         59990 non-null  float64\n",
            " 57  fwd avg bytes/bulk           59990 non-null  float64\n",
            " 58  fwd avg packets/bulk         59990 non-null  float64\n",
            " 59  fwd avg bulk rate            59990 non-null  float64\n",
            " 60  bwd avg bytes/bulk           59990 non-null  float64\n",
            " 61  bwd avg packets/bulk         59990 non-null  float64\n",
            " 62  bwd avg bulk rate            59990 non-null  float64\n",
            " 63  subflow fwd packets          59990 non-null  float64\n",
            " 64  subflow fwd bytes            59990 non-null  float64\n",
            " 65  subflow bwd packets          59990 non-null  float64\n",
            " 66  subflow bwd bytes            59990 non-null  float64\n",
            " 67  init_win_bytes_forward       59990 non-null  float64\n",
            " 68  init_win_bytes_backward      59990 non-null  float64\n",
            " 69  act_data_pkt_fwd             59990 non-null  float64\n",
            " 70  min_seg_size_forward         59990 non-null  float64\n",
            " 71  active mean                  59990 non-null  float64\n",
            " 72  active std                   59990 non-null  float64\n",
            " 73  active max                   59990 non-null  float64\n",
            " 74  active min                   59990 non-null  float64\n",
            " 75  idle mean                    59990 non-null  float64\n",
            " 76  idle std                     59990 non-null  float64\n",
            " 77  idle max                     59990 non-null  float64\n",
            " 78  idle min                     59990 non-null  float64\n",
            " 79  inbound                      59990 non-null  float64\n",
            " 80  label                        59990 non-null  object \n",
            "dtypes: float64(80), object(1)\n",
            "memory usage: 37.1+ MB\n",
            "(59990, 81)\n"
          ],
          "name": "stdout"
        }
      ]
    },
    {
      "cell_type": "code",
      "metadata": {
        "colab": {
          "base_uri": "https://localhost:8080/"
        },
        "id": "Q-TDwJELAoac",
        "outputId": "87e92785-446f-4296-ebd6-445fc25a5c67"
      },
      "source": [
        "#cleaning data from nan and infinite values\n",
        "df =df[~df.isin([np.nan, np.inf, -np.inf]).any(1)]\n",
        "\n",
        "#assigning binary values to our target column (binary classification)\n",
        "df.loc[df[target_col] != 'BENIGN', target_col] = 1\n",
        "df.loc[df[target_col] == 'BENIGN', target_col] = 0\n",
        "print(df.head())"
      ],
      "execution_count": null,
      "outputs": [
        {
          "output_type": "stream",
          "text": [
            "   unnamed: 0  source port  destination port  ...  idle min  inbound  label\n",
            "0       425.0        634.0           60495.0  ...       0.0      1.0      1\n",
            "1       430.0        634.0           60495.0  ...       0.0      0.0      1\n",
            "2      1654.0        634.0           46391.0  ...       0.0      1.0      1\n",
            "3      2927.0        634.0           11894.0  ...       0.0      1.0      1\n",
            "4       694.0        634.0           27878.0  ...       0.0      1.0      1\n",
            "\n",
            "[5 rows x 81 columns]\n"
          ],
          "name": "stdout"
        }
      ]
    },
    {
      "cell_type": "code",
      "metadata": {
        "id": "YKQ0pFo8BP8Z"
      },
      "source": [
        "X = df.iloc[:, 0:80]\n",
        "y = df.iloc[:, 80]"
      ],
      "execution_count": null,
      "outputs": []
    },
    {
      "cell_type": "markdown",
      "metadata": {
        "id": "5zLa6f-5LwA_"
      },
      "source": [
        "# **Feature Selection**"
      ]
    },
    {
      "cell_type": "markdown",
      "metadata": {
        "id": "v5QhPGge4L-A"
      },
      "source": [
        "### Feature selection using select k best"
      ]
    },
    {
      "cell_type": "code",
      "metadata": {
        "colab": {
          "base_uri": "https://localhost:8080/"
        },
        "id": "ZNUibg5nCE5l",
        "outputId": "f55bc197-68e3-4f4f-8b08-5a9baa16e34d"
      },
      "source": [
        "selector = SelectKBest(f_classif, k = 40)\n",
        "X_new = selector.fit_transform(X, y)\n",
        "\n",
        "names = X.columns.values[selector.get_support()]\n",
        "scores = selector.scores_[selector.get_support()]\n",
        "names_scores = list(zip(names, scores))\n",
        "ns_df = pd.DataFrame(data = names_scores, columns=['Feat_names', 'F_Scores'])\n",
        "#Sort the dataframe for better visualization\n",
        "ns_df_sorted = ns_df.sort_values(['F_Scores', 'Feat_names'], ascending = [False, True])\n",
        "print(ns_df_sorted)\n",
        "ns_df_sorted.to_excel('binaryKbest.xlsx')"
      ],
      "execution_count": null,
      "outputs": [
        {
          "output_type": "stream",
          "text": [
            "/usr/local/lib/python3.7/dist-packages/sklearn/feature_selection/_univariate_selection.py:114: UserWarning: Features [34 35 36 45 48 52 57 58 59 60 61 62] are constant.\n",
            "  UserWarning)\n",
            "/usr/local/lib/python3.7/dist-packages/sklearn/feature_selection/_univariate_selection.py:115: RuntimeWarning: invalid value encountered in true_divide\n",
            "  f = msb / msw\n"
          ],
          "name": "stderr"
        },
        {
          "output_type": "stream",
          "text": [
            "                 Feat_names       F_Scores\n",
            "39                  inbound  116236.323817\n",
            "31            down/up ratio   31834.036576\n",
            "3                  protocol   30836.095409\n",
            "1               source port   23838.686241\n",
            "24        min packet length   17751.827550\n",
            "6     fwd packet length min   17727.937943\n",
            "9     bwd packet length min   17516.361153\n",
            "33     avg fwd segment size   17501.811126\n",
            "7    fwd packet length mean   17501.811126\n",
            "29           urg flag count   16790.263332\n",
            "23            fwd packets/s   16477.944569\n",
            "13           flow packets/s   16290.848702\n",
            "25       packet length mean   15120.689988\n",
            "32      average packet size   14727.532095\n",
            "5     fwd packet length max   11705.234263\n",
            "12             flow bytes/s   10005.526385\n",
            "2          destination port    9541.005487\n",
            "34     avg bwd segment size    7142.234129\n",
            "10   bwd packet length mean    7142.234129\n",
            "30           cwe flag count    6826.413143\n",
            "28           ack flag count    6246.859719\n",
            "35   init_win_bytes_forward    5803.467585\n",
            "4             flow duration    5796.845456\n",
            "36  init_win_bytes_backward    5707.682307\n",
            "22            fwd psh flags    5560.577492\n",
            "27           rst flag count    5560.577492\n",
            "16            fwd iat total    5476.103297\n",
            "26        packet length std    5196.136242\n",
            "21              bwd iat min    4869.827977\n",
            "19            bwd iat total    4725.462428\n",
            "0                unnamed: 0    4678.758979\n",
            "15             flow iat max    4372.342487\n",
            "8     fwd packet length std    4201.263042\n",
            "18              fwd iat max    4095.036772\n",
            "38                 idle max    3987.939309\n",
            "14             flow iat std    3909.754665\n",
            "37                idle mean    3899.154524\n",
            "11    bwd packet length std    3686.616410\n",
            "17              fwd iat std    3683.787247\n",
            "20              bwd iat max    3680.995662\n"
          ],
          "name": "stdout"
        }
      ]
    },
    {
      "cell_type": "markdown",
      "metadata": {
        "id": "Z8S_D_BF5tIr"
      },
      "source": [
        "### Feature Selection using RFE and Random forest as it's method"
      ]
    },
    {
      "cell_type": "code",
      "metadata": {
        "id": "Y26_JFDQJp_m"
      },
      "source": [
        "clf = RandomForestClassifier()\n",
        "rfe = RFE(clf, n_features_to_select=40)\n",
        "y = y.astype('int')\n",
        "rfe.fit(X, y)"
      ],
      "execution_count": null,
      "outputs": []
    },
    {
      "cell_type": "code",
      "metadata": {
        "colab": {
          "base_uri": "https://localhost:8080/"
        },
        "id": "ovHRzaeh8kgy",
        "outputId": "beb5cf1b-4776-4241-a6e4-5448b50cdcf7"
      },
      "source": [
        "print(rfe.support_)\n",
        "print(rfe.ranking_)"
      ],
      "execution_count": null,
      "outputs": [
        {
          "output_type": "stream",
          "text": [
            "[False  True  True  True  True False  True  True False  True  True  True\n",
            " False  True False False False  True  True  True  True  True False  True\n",
            " False  True  True False  True  True False  True False False False False\n",
            " False  True  True  True  True  True  True  True  True False False False\n",
            " False False  True False False  True  True  True False False False False\n",
            " False False False  True  True  True False  True  True False  True False\n",
            " False False False False False False False  True]\n",
            "[17  1  1  1  1  3  1  1  9  1  1  1 21  1 10 12  4  1  1  1  1  1  5  1\n",
            "  2  1  1 15  1  1 19  1 18 29 41 38 40  1  1  1  1  1  1  1  1 36 23 28\n",
            " 32 11  1  7 37  1  1  1 13 31 39 30 33 34 35  1  1  1 14  1  1 22  1 16\n",
            " 25  6  8 24 20 26 27  1]\n"
          ],
          "name": "stdout"
        }
      ]
    },
    {
      "cell_type": "code",
      "metadata": {
        "id": "f5z2P3vv-LVb"
      },
      "source": [
        "names = X.columns.values[rfe.get_support()]\n",
        "scores = rfe.ranking_[rfe.get_support(indices = True)]\n",
        "names_scores = list(zip(names, scores))\n",
        "ns_df = pd.DataFrame(data = names_scores, columns=['Feat_names', 'F_Scores'])\n",
        "#Sort the dataframe for better visualization\n",
        "ns_df_sorted = ns_df.sort_values(['F_Scores', 'Feat_names'], ascending = [False, True])\n",
        "print(ns_df_sorted)\n",
        "ns_df_sorted.to_excel('binaryRFE.xlsx')"
      ],
      "execution_count": null,
      "outputs": []
    },
    {
      "cell_type": "code",
      "metadata": {
        "colab": {
          "base_uri": "https://localhost:8080/"
        },
        "id": "aXfy86qcO8GB",
        "outputId": "a09727a0-3700-430f-adc5-312b461bb4b7"
      },
      "source": [
        "names = X.columns.values[rfe.get_support()]\n",
        "scores = rfe.estimator_.feature_importances_\n",
        "names_scores = list(zip(names, scores))\n",
        "ns_df = pd.DataFrame(data = names_scores, columns=['Feat_names', 'F_Scores'])\n",
        "#Sort the dataframe for better visualization\n",
        "ns_df_sorted = ns_df.sort_values(['F_Scores', 'Feat_names'], ascending = [False, True])\n",
        "print(ns_df_sorted)\n",
        "ns_df_sorted.to_excel('binaryRFEscore.xlsx')"
      ],
      "execution_count": null,
      "outputs": [
        {
          "output_type": "stream",
          "text": [
            "                     Feat_names  F_Scores\n",
            "7         fwd packet length min  0.132466\n",
            "24            min packet length  0.103343\n",
            "32         avg fwd segment size  0.096691\n",
            "8        fwd packet length mean  0.088117\n",
            "39                      inbound  0.062347\n",
            "31          average packet size  0.059262\n",
            "38         min_seg_size_forward  0.041843\n",
            "10                 flow bytes/s  0.041077\n",
            "1              destination port  0.040494\n",
            "26           packet length mean  0.039182\n",
            "0                   source port  0.032853\n",
            "35          subflow bwd packets  0.030033\n",
            "23                bwd packets/s  0.027535\n",
            "4        total backward packets  0.022400\n",
            "21            bwd header length  0.017036\n",
            "36       init_win_bytes_forward  0.016302\n",
            "37      init_win_bytes_backward  0.015473\n",
            "25            max packet length  0.015065\n",
            "5   total length of fwd packets  0.014530\n",
            "6         fwd packet length max  0.009531\n",
            "27            packet length std  0.008057\n",
            "18                bwd iat total  0.007927\n",
            "29               urg flag count  0.007504\n",
            "34            subflow fwd bytes  0.007119\n",
            "28       packet length variance  0.006633\n",
            "14                 flow iat max  0.006274\n",
            "12                flow iat mean  0.006230\n",
            "22                fwd packets/s  0.005552\n",
            "15                fwd iat total  0.005431\n",
            "13                 flow iat std  0.004802\n",
            "19                 bwd iat mean  0.004468\n",
            "11               flow packets/s  0.003657\n",
            "9         bwd packet length max  0.003643\n",
            "2                      protocol  0.003225\n",
            "33          subflow fwd packets  0.002939\n",
            "3                 flow duration  0.002911\n",
            "17                  fwd iat max  0.002889\n",
            "16                  fwd iat std  0.002190\n",
            "20                  bwd iat max  0.001863\n",
            "30                down/up ratio  0.001108\n"
          ],
          "name": "stdout"
        }
      ]
    },
    {
      "cell_type": "code",
      "metadata": {
        "colab": {
          "base_uri": "https://localhost:8080/",
          "height": 419
        },
        "id": "5zkOfBu0_tYz",
        "outputId": "35ce0b08-6ff8-4bd0-d1fb-d6fed0f8ab23"
      },
      "source": [
        "pd.DataFrame(rfe.support_,index=X.columns,columns=['important'])"
      ],
      "execution_count": null,
      "outputs": [
        {
          "output_type": "execute_result",
          "data": {
            "text/html": [
              "<div>\n",
              "<style scoped>\n",
              "    .dataframe tbody tr th:only-of-type {\n",
              "        vertical-align: middle;\n",
              "    }\n",
              "\n",
              "    .dataframe tbody tr th {\n",
              "        vertical-align: top;\n",
              "    }\n",
              "\n",
              "    .dataframe thead th {\n",
              "        text-align: right;\n",
              "    }\n",
              "</style>\n",
              "<table border=\"1\" class=\"dataframe\">\n",
              "  <thead>\n",
              "    <tr style=\"text-align: right;\">\n",
              "      <th></th>\n",
              "      <th>important</th>\n",
              "    </tr>\n",
              "  </thead>\n",
              "  <tbody>\n",
              "    <tr>\n",
              "      <th>unnamed: 0</th>\n",
              "      <td>False</td>\n",
              "    </tr>\n",
              "    <tr>\n",
              "      <th>source port</th>\n",
              "      <td>True</td>\n",
              "    </tr>\n",
              "    <tr>\n",
              "      <th>destination port</th>\n",
              "      <td>True</td>\n",
              "    </tr>\n",
              "    <tr>\n",
              "      <th>protocol</th>\n",
              "      <td>True</td>\n",
              "    </tr>\n",
              "    <tr>\n",
              "      <th>flow duration</th>\n",
              "      <td>True</td>\n",
              "    </tr>\n",
              "    <tr>\n",
              "      <th>...</th>\n",
              "      <td>...</td>\n",
              "    </tr>\n",
              "    <tr>\n",
              "      <th>idle mean</th>\n",
              "      <td>False</td>\n",
              "    </tr>\n",
              "    <tr>\n",
              "      <th>idle std</th>\n",
              "      <td>False</td>\n",
              "    </tr>\n",
              "    <tr>\n",
              "      <th>idle max</th>\n",
              "      <td>False</td>\n",
              "    </tr>\n",
              "    <tr>\n",
              "      <th>idle min</th>\n",
              "      <td>False</td>\n",
              "    </tr>\n",
              "    <tr>\n",
              "      <th>inbound</th>\n",
              "      <td>True</td>\n",
              "    </tr>\n",
              "  </tbody>\n",
              "</table>\n",
              "<p>80 rows × 1 columns</p>\n",
              "</div>"
            ],
            "text/plain": [
              "                  important\n",
              "unnamed: 0            False\n",
              "source port            True\n",
              "destination port       True\n",
              "protocol               True\n",
              "flow duration          True\n",
              "...                     ...\n",
              "idle mean             False\n",
              "idle std              False\n",
              "idle max              False\n",
              "idle min              False\n",
              "inbound                True\n",
              "\n",
              "[80 rows x 1 columns]"
            ]
          },
          "metadata": {
            "tags": []
          },
          "execution_count": 14
        }
      ]
    },
    {
      "cell_type": "markdown",
      "metadata": {
        "id": "zSqhANvxaCWD"
      },
      "source": [
        "### Feature Selection using Random forest "
      ]
    },
    {
      "cell_type": "code",
      "metadata": {
        "colab": {
          "base_uri": "https://localhost:8080/"
        },
        "id": "I-OzeXoRaL_y",
        "outputId": "ae5e0a26-4bff-4ff8-b66f-d1e871394ccd"
      },
      "source": [
        "RF_model = RandomForestClassifier()\n",
        "RF_model.fit(X,y)\n"
      ],
      "execution_count": null,
      "outputs": [
        {
          "output_type": "execute_result",
          "data": {
            "text/plain": [
              "RandomForestClassifier(bootstrap=True, ccp_alpha=0.0, class_weight=None,\n",
              "                       criterion='gini', max_depth=None, max_features='auto',\n",
              "                       max_leaf_nodes=None, max_samples=None,\n",
              "                       min_impurity_decrease=0.0, min_impurity_split=None,\n",
              "                       min_samples_leaf=1, min_samples_split=2,\n",
              "                       min_weight_fraction_leaf=0.0, n_estimators=100,\n",
              "                       n_jobs=None, oob_score=False, random_state=None,\n",
              "                       verbose=0, warm_start=False)"
            ]
          },
          "metadata": {
            "tags": []
          },
          "execution_count": 15
        }
      ]
    },
    {
      "cell_type": "code",
      "metadata": {
        "colab": {
          "base_uri": "https://localhost:8080/"
        },
        "id": "iCqs-0JFdrLF",
        "outputId": "43c0fc2a-7f4a-4393-d192-8158329f0164"
      },
      "source": [
        "names = X.columns.values[rfe.get_support()]\n",
        "scores = RF_model.feature_importances_\n",
        "names_scores = list(zip(names, scores))\n",
        "ns_df = pd.DataFrame(data = names_scores, columns=['Feat_names', 'F_Scores'])\n",
        "#Sort the dataframe for better visualization\n",
        "ns_df_sorted = ns_df.sort_values(['F_Scores', 'Feat_names'], ascending = [False, True])\n",
        "print(ns_df_sorted)\n",
        "ns_df_sorted.to_excel('binaryRF.xlsx')"
      ],
      "execution_count": null,
      "outputs": [
        {
          "output_type": "stream",
          "text": [
            "                     Feat_names  F_Scores\n",
            "11                 flow bytes/s  0.061032\n",
            "10        bwd packet length max  0.056625\n",
            "37      init_win_bytes_backward  0.050518\n",
            "9        fwd packet length mean  0.047975\n",
            "17                 fwd iat mean  0.036585\n",
            "1              destination port  0.032213\n",
            "31          average packet size  0.031625\n",
            "7         fwd packet length max  0.023246\n",
            "19                bwd iat total  0.022645\n",
            "39                      inbound  0.020194\n",
            "29               urg flag count  0.019613\n",
            "28       packet length variance  0.019475\n",
            "2                      protocol  0.018300\n",
            "38         min_seg_size_forward  0.016339\n",
            "18                  fwd iat max  0.011796\n",
            "6   total length of fwd packets  0.011718\n",
            "13                flow iat mean  0.008480\n",
            "32         avg fwd segment size  0.006226\n",
            "20                 bwd iat mean  0.005295\n",
            "3                 flow duration  0.004903\n",
            "4             total fwd packets  0.004711\n",
            "23                bwd packets/s  0.003708\n",
            "5        total backward packets  0.003637\n",
            "21            bwd header length  0.003561\n",
            "26           packet length mean  0.003422\n",
            "22                fwd packets/s  0.003105\n",
            "24            min packet length  0.002735\n",
            "8         fwd packet length min  0.002520\n",
            "15                 flow iat max  0.002034\n",
            "25            max packet length  0.001835\n",
            "16                fwd iat total  0.001533\n",
            "0                   source port  0.001249\n",
            "14                 flow iat std  0.001088\n",
            "30                down/up ratio  0.000797\n",
            "27            packet length std  0.000628\n",
            "12               flow packets/s  0.000365\n",
            "33          subflow fwd packets  0.000096\n",
            "36       init_win_bytes_forward  0.000000\n",
            "35          subflow bwd packets  0.000000\n",
            "34            subflow fwd bytes  0.000000\n"
          ],
          "name": "stdout"
        }
      ]
    },
    {
      "cell_type": "markdown",
      "metadata": {
        "id": "HD-lrePrCmHs"
      },
      "source": [
        "### Feature selection using RFE with Decision tree as estimator"
      ]
    },
    {
      "cell_type": "code",
      "metadata": {
        "colab": {
          "base_uri": "https://localhost:8080/"
        },
        "id": "tPH85XP-Eak5",
        "outputId": "f33e1d5b-3d6e-463e-f347-0991b0dd870d"
      },
      "source": [
        "DT_clf = DecisionTreeClassifier()\n",
        "rfe = RFE(DT_clf, n_features_to_select=40)\n",
        "y = y.astype('int')\n",
        "rfe.fit(X, y)"
      ],
      "execution_count": null,
      "outputs": [
        {
          "output_type": "execute_result",
          "data": {
            "text/plain": [
              "RFE(estimator=DecisionTreeClassifier(ccp_alpha=0.0, class_weight=None,\n",
              "                                     criterion='gini', max_depth=None,\n",
              "                                     max_features=None, max_leaf_nodes=None,\n",
              "                                     min_impurity_decrease=0.0,\n",
              "                                     min_impurity_split=None,\n",
              "                                     min_samples_leaf=1, min_samples_split=2,\n",
              "                                     min_weight_fraction_leaf=0.0,\n",
              "                                     presort='deprecated', random_state=None,\n",
              "                                     splitter='best'),\n",
              "    n_features_to_select=40, step=1, verbose=0)"
            ]
          },
          "metadata": {
            "tags": []
          },
          "execution_count": 15
        }
      ]
    },
    {
      "cell_type": "code",
      "metadata": {
        "id": "HJ1DaF--E04E"
      },
      "source": [
        "names = X.columns.values[rfe.get_support()]\n",
        "scores = rfe.ranking_[rfe.get_support()]\n",
        "names_scores = list(zip(names, scores))\n",
        "ns_df = pd.DataFrame(data = names_scores, columns=['Feat_names', 'F_Scores'])\n",
        "#Sort the dataframe for better visualization\n",
        "ns_df_sorted = ns_df.sort_values(['F_Scores', 'Feat_names'], ascending = [False, True])\n",
        "print(ns_df_sorted)\n",
        "ns_df_sorted.to_excel('binaryRFE_DT.xlsx')"
      ],
      "execution_count": null,
      "outputs": []
    },
    {
      "cell_type": "code",
      "metadata": {
        "colab": {
          "base_uri": "https://localhost:8080/"
        },
        "id": "2Yrx7iXIU55P",
        "outputId": "23913f59-d738-4f71-9330-228fac9bf7cb"
      },
      "source": [
        "names = X.columns.values[rfe.get_support()]\n",
        "scores = rfe.estimator_.feature_importances_\n",
        "names_scores = list(zip(names, scores))\n",
        "ns_df = pd.DataFrame(data = names_scores, columns=['Feat_names', 'F_Scores'])\n",
        "#Sort the dataframe for better visualization\n",
        "ns_df_sorted = ns_df.sort_values(['F_Scores', 'Feat_names'], ascending = [False, True])\n",
        "print(ns_df_sorted)\n",
        "ns_df_sorted.to_excel('binaryRFE_DTscore.xlsx')"
      ],
      "execution_count": null,
      "outputs": [
        {
          "output_type": "stream",
          "text": [
            "                     Feat_names  F_Scores\n",
            "10        fwd packet length min  0.747430\n",
            "33         min_seg_size_forward  0.110986\n",
            "13        bwd packet length min  0.075676\n",
            "31      init_win_bytes_backward  0.031114\n",
            "20               urg flag count  0.008837\n",
            "34                   active min  0.005846\n",
            "2              destination port  0.005129\n",
            "29          subflow bwd packets  0.004589\n",
            "32             act_data_pkt_fwd  0.002025\n",
            "1                   source port  0.001636\n",
            "30       init_win_bytes_forward  0.001428\n",
            "17                 flow iat std  0.001314\n",
            "15                 flow bytes/s  0.001106\n",
            "39                      inbound  0.000721\n",
            "5             total fwd packets  0.000602\n",
            "16                flow iat mean  0.000514\n",
            "0                    unnamed: 0  0.000474\n",
            "4                 flow duration  0.000312\n",
            "24          average packet size  0.000133\n",
            "23                down/up ratio  0.000103\n",
            "19                 flow iat min  0.000026\n",
            "26         avg bwd segment size  0.000000\n",
            "25         avg fwd segment size  0.000000\n",
            "12        bwd packet length max  0.000000\n",
            "14       bwd packet length mean  0.000000\n",
            "21               cwe flag count  0.000000\n",
            "22               ece flag count  0.000000\n",
            "18                 flow iat max  0.000000\n",
            "27           fwd avg bytes/bulk  0.000000\n",
            "28         fwd avg packets/bulk  0.000000\n",
            "9         fwd packet length max  0.000000\n",
            "11       fwd packet length mean  0.000000\n",
            "37                     idle max  0.000000\n",
            "35                    idle mean  0.000000\n",
            "38                     idle min  0.000000\n",
            "36                     idle std  0.000000\n",
            "3                      protocol  0.000000\n",
            "6        total backward packets  0.000000\n",
            "8   total length of bwd packets  0.000000\n",
            "7   total length of fwd packets  0.000000\n"
          ],
          "name": "stdout"
        }
      ]
    },
    {
      "cell_type": "markdown",
      "metadata": {
        "id": "J48KaetbRyvF"
      },
      "source": [
        "# K-FOLD CROSS VALIDATION "
      ]
    },
    {
      "cell_type": "code",
      "metadata": {
        "colab": {
          "base_uri": "https://localhost:8080/",
          "height": 1000
        },
        "id": "VlBxVbMmkljx",
        "outputId": "15d01469-a31e-4d9e-e590-d13cd4888f5b"
      },
      "source": [
        "#features kept by the Random forest features selection\n",
        "colums_to_keep = ['flow packets/s', 'flow iat mean', 'flow bytes/s', 'fwd packet length min', 'init_win_bytes_backward', 'fwd iat std', 'flow duration',\n",
        " 'inbound', 'average packet size', 'destination port', 'fwd packet length mean', 'min_seg_size_forward', 'fwd iat max',\n",
        " 'packet length std', 'bwd iat max', 'bwd packet length max', 'packet length variance', 'total backward packets',\n",
        " 'bwd iat mean','fwd iat total', 'bwd iat total', 'total length of fwd packets', 'flow iat max', 'max packet length', \n",
        " 'flow iat std', 'fwd packets/s', 'fwd packet length max', 'bwd packets/s', 'bwd header length', 'packet length mean',\n",
        " 'flow iat min', 'urg flag count', 'fwd iat mean', 'min packet length', 'source port', 'avg fwd segment size', 'subflow fwd packets',\n",
        " 'init_win_bytes_forward', 'subflow bwd packets', 'subflow fwd bytes', 'label']\n",
        "\n",
        "df_filtered = df.reindex(columns = colums_to_keep)\n",
        "\n",
        "df_filtered['label'] = df_filtered['label'].astype(int)\n",
        "print(df_filtered.shape)\n",
        "print(df_filtered.dtypes)\n",
        "\n",
        "df_filtered.head()"
      ],
      "execution_count": null,
      "outputs": [
        {
          "output_type": "stream",
          "text": [
            "(59304, 41)\n",
            "flow packets/s                 float64\n",
            "flow iat mean                  float64\n",
            "flow bytes/s                   float64\n",
            "fwd packet length min          float64\n",
            "init_win_bytes_backward        float64\n",
            "fwd iat std                    float64\n",
            "flow duration                  float64\n",
            "inbound                        float64\n",
            "average packet size            float64\n",
            "destination port               float64\n",
            "fwd packet length mean         float64\n",
            "min_seg_size_forward           float64\n",
            "fwd iat max                    float64\n",
            "packet length std              float64\n",
            "bwd iat max                    float64\n",
            "bwd packet length max          float64\n",
            "packet length variance         float64\n",
            "total backward packets         float64\n",
            "bwd iat mean                   float64\n",
            "fwd iat total                  float64\n",
            "bwd iat total                  float64\n",
            "total length of fwd packets    float64\n",
            "flow iat max                   float64\n",
            "max packet length              float64\n",
            "flow iat std                   float64\n",
            "fwd packets/s                  float64\n",
            "fwd packet length max          float64\n",
            "bwd packets/s                  float64\n",
            "bwd header length              float64\n",
            "packet length mean             float64\n",
            "flow iat min                   float64\n",
            "urg flag count                 float64\n",
            "fwd iat mean                   float64\n",
            "min packet length              float64\n",
            "source port                    float64\n",
            "avg fwd segment size           float64\n",
            "subflow fwd packets            float64\n",
            "init_win_bytes_forward         float64\n",
            "subflow bwd packets            float64\n",
            "subflow fwd bytes              float64\n",
            "label                            int64\n",
            "dtype: object\n"
          ],
          "name": "stdout"
        },
        {
          "output_type": "execute_result",
          "data": {
            "text/html": [
              "<div>\n",
              "<style scoped>\n",
              "    .dataframe tbody tr th:only-of-type {\n",
              "        vertical-align: middle;\n",
              "    }\n",
              "\n",
              "    .dataframe tbody tr th {\n",
              "        vertical-align: top;\n",
              "    }\n",
              "\n",
              "    .dataframe thead th {\n",
              "        text-align: right;\n",
              "    }\n",
              "</style>\n",
              "<table border=\"1\" class=\"dataframe\">\n",
              "  <thead>\n",
              "    <tr style=\"text-align: right;\">\n",
              "      <th></th>\n",
              "      <th>flow packets/s</th>\n",
              "      <th>flow iat mean</th>\n",
              "      <th>flow bytes/s</th>\n",
              "      <th>fwd packet length min</th>\n",
              "      <th>init_win_bytes_backward</th>\n",
              "      <th>fwd iat std</th>\n",
              "      <th>flow duration</th>\n",
              "      <th>inbound</th>\n",
              "      <th>average packet size</th>\n",
              "      <th>destination port</th>\n",
              "      <th>fwd packet length mean</th>\n",
              "      <th>min_seg_size_forward</th>\n",
              "      <th>fwd iat max</th>\n",
              "      <th>packet length std</th>\n",
              "      <th>bwd iat max</th>\n",
              "      <th>bwd packet length max</th>\n",
              "      <th>packet length variance</th>\n",
              "      <th>total backward packets</th>\n",
              "      <th>bwd iat mean</th>\n",
              "      <th>fwd iat total</th>\n",
              "      <th>bwd iat total</th>\n",
              "      <th>total length of fwd packets</th>\n",
              "      <th>flow iat max</th>\n",
              "      <th>max packet length</th>\n",
              "      <th>flow iat std</th>\n",
              "      <th>fwd packets/s</th>\n",
              "      <th>fwd packet length max</th>\n",
              "      <th>bwd packets/s</th>\n",
              "      <th>bwd header length</th>\n",
              "      <th>packet length mean</th>\n",
              "      <th>flow iat min</th>\n",
              "      <th>urg flag count</th>\n",
              "      <th>fwd iat mean</th>\n",
              "      <th>min packet length</th>\n",
              "      <th>source port</th>\n",
              "      <th>avg fwd segment size</th>\n",
              "      <th>subflow fwd packets</th>\n",
              "      <th>init_win_bytes_forward</th>\n",
              "      <th>subflow bwd packets</th>\n",
              "      <th>subflow fwd bytes</th>\n",
              "      <th>label</th>\n",
              "    </tr>\n",
              "  </thead>\n",
              "  <tbody>\n",
              "    <tr>\n",
              "      <th>0</th>\n",
              "      <td>3413.689952</td>\n",
              "      <td>295.989583</td>\n",
              "      <td>1.502024e+06</td>\n",
              "      <td>440.0</td>\n",
              "      <td>-1.0</td>\n",
              "      <td>500.959301</td>\n",
              "      <td>28415.0</td>\n",
              "      <td>1.0</td>\n",
              "      <td>444.536082</td>\n",
              "      <td>60495.0</td>\n",
              "      <td>440.0</td>\n",
              "      <td>-1.0</td>\n",
              "      <td>3596.0</td>\n",
              "      <td>0.0</td>\n",
              "      <td>0.0</td>\n",
              "      <td>0.0</td>\n",
              "      <td>0.0</td>\n",
              "      <td>0.0</td>\n",
              "      <td>0.0</td>\n",
              "      <td>28415.0</td>\n",
              "      <td>0.0</td>\n",
              "      <td>42680.0</td>\n",
              "      <td>3596.0</td>\n",
              "      <td>440.0</td>\n",
              "      <td>500.959301</td>\n",
              "      <td>3413.689952</td>\n",
              "      <td>440.0</td>\n",
              "      <td>0.0</td>\n",
              "      <td>0.0</td>\n",
              "      <td>440.0</td>\n",
              "      <td>1.0</td>\n",
              "      <td>0.0</td>\n",
              "      <td>295.989583</td>\n",
              "      <td>440.0</td>\n",
              "      <td>634.0</td>\n",
              "      <td>440.0</td>\n",
              "      <td>97.0</td>\n",
              "      <td>-1.0</td>\n",
              "      <td>0.0</td>\n",
              "      <td>42680.0</td>\n",
              "      <td>1</td>\n",
              "    </tr>\n",
              "    <tr>\n",
              "      <th>1</th>\n",
              "      <td>1000000.000000</td>\n",
              "      <td>2.000000</td>\n",
              "      <td>4.400000e+08</td>\n",
              "      <td>440.0</td>\n",
              "      <td>-1.0</td>\n",
              "      <td>0.000000</td>\n",
              "      <td>2.0</td>\n",
              "      <td>0.0</td>\n",
              "      <td>660.000000</td>\n",
              "      <td>60495.0</td>\n",
              "      <td>440.0</td>\n",
              "      <td>-1.0</td>\n",
              "      <td>2.0</td>\n",
              "      <td>0.0</td>\n",
              "      <td>0.0</td>\n",
              "      <td>0.0</td>\n",
              "      <td>0.0</td>\n",
              "      <td>0.0</td>\n",
              "      <td>0.0</td>\n",
              "      <td>2.0</td>\n",
              "      <td>0.0</td>\n",
              "      <td>880.0</td>\n",
              "      <td>2.0</td>\n",
              "      <td>440.0</td>\n",
              "      <td>0.000000</td>\n",
              "      <td>1000000.000000</td>\n",
              "      <td>440.0</td>\n",
              "      <td>0.0</td>\n",
              "      <td>0.0</td>\n",
              "      <td>440.0</td>\n",
              "      <td>2.0</td>\n",
              "      <td>0.0</td>\n",
              "      <td>2.000000</td>\n",
              "      <td>440.0</td>\n",
              "      <td>634.0</td>\n",
              "      <td>440.0</td>\n",
              "      <td>2.0</td>\n",
              "      <td>-1.0</td>\n",
              "      <td>0.0</td>\n",
              "      <td>880.0</td>\n",
              "      <td>1</td>\n",
              "    </tr>\n",
              "    <tr>\n",
              "      <th>2</th>\n",
              "      <td>4119.549321</td>\n",
              "      <td>243.964824</td>\n",
              "      <td>1.812602e+06</td>\n",
              "      <td>440.0</td>\n",
              "      <td>-1.0</td>\n",
              "      <td>578.101371</td>\n",
              "      <td>48549.0</td>\n",
              "      <td>1.0</td>\n",
              "      <td>442.200000</td>\n",
              "      <td>46391.0</td>\n",
              "      <td>440.0</td>\n",
              "      <td>-1.0</td>\n",
              "      <td>5418.0</td>\n",
              "      <td>0.0</td>\n",
              "      <td>0.0</td>\n",
              "      <td>0.0</td>\n",
              "      <td>0.0</td>\n",
              "      <td>0.0</td>\n",
              "      <td>0.0</td>\n",
              "      <td>48549.0</td>\n",
              "      <td>0.0</td>\n",
              "      <td>88000.0</td>\n",
              "      <td>5418.0</td>\n",
              "      <td>440.0</td>\n",
              "      <td>578.101371</td>\n",
              "      <td>4119.549321</td>\n",
              "      <td>440.0</td>\n",
              "      <td>0.0</td>\n",
              "      <td>0.0</td>\n",
              "      <td>440.0</td>\n",
              "      <td>1.0</td>\n",
              "      <td>0.0</td>\n",
              "      <td>243.964824</td>\n",
              "      <td>440.0</td>\n",
              "      <td>634.0</td>\n",
              "      <td>440.0</td>\n",
              "      <td>200.0</td>\n",
              "      <td>-1.0</td>\n",
              "      <td>0.0</td>\n",
              "      <td>88000.0</td>\n",
              "      <td>1</td>\n",
              "    </tr>\n",
              "    <tr>\n",
              "      <th>3</th>\n",
              "      <td>4137.617146</td>\n",
              "      <td>242.899497</td>\n",
              "      <td>1.820552e+06</td>\n",
              "      <td>440.0</td>\n",
              "      <td>-1.0</td>\n",
              "      <td>485.292695</td>\n",
              "      <td>48337.0</td>\n",
              "      <td>1.0</td>\n",
              "      <td>442.200000</td>\n",
              "      <td>11894.0</td>\n",
              "      <td>440.0</td>\n",
              "      <td>-1.0</td>\n",
              "      <td>3337.0</td>\n",
              "      <td>0.0</td>\n",
              "      <td>0.0</td>\n",
              "      <td>0.0</td>\n",
              "      <td>0.0</td>\n",
              "      <td>0.0</td>\n",
              "      <td>0.0</td>\n",
              "      <td>48337.0</td>\n",
              "      <td>0.0</td>\n",
              "      <td>88000.0</td>\n",
              "      <td>3337.0</td>\n",
              "      <td>440.0</td>\n",
              "      <td>485.292695</td>\n",
              "      <td>4137.617146</td>\n",
              "      <td>440.0</td>\n",
              "      <td>0.0</td>\n",
              "      <td>0.0</td>\n",
              "      <td>440.0</td>\n",
              "      <td>1.0</td>\n",
              "      <td>0.0</td>\n",
              "      <td>242.899497</td>\n",
              "      <td>440.0</td>\n",
              "      <td>634.0</td>\n",
              "      <td>440.0</td>\n",
              "      <td>200.0</td>\n",
              "      <td>-1.0</td>\n",
              "      <td>0.0</td>\n",
              "      <td>88000.0</td>\n",
              "      <td>1</td>\n",
              "    </tr>\n",
              "    <tr>\n",
              "      <th>4</th>\n",
              "      <td>6244.925998</td>\n",
              "      <td>160.934673</td>\n",
              "      <td>2.747767e+06</td>\n",
              "      <td>440.0</td>\n",
              "      <td>-1.0</td>\n",
              "      <td>196.891271</td>\n",
              "      <td>32026.0</td>\n",
              "      <td>1.0</td>\n",
              "      <td>442.200000</td>\n",
              "      <td>27878.0</td>\n",
              "      <td>440.0</td>\n",
              "      <td>-1.0</td>\n",
              "      <td>1236.0</td>\n",
              "      <td>0.0</td>\n",
              "      <td>0.0</td>\n",
              "      <td>0.0</td>\n",
              "      <td>0.0</td>\n",
              "      <td>0.0</td>\n",
              "      <td>0.0</td>\n",
              "      <td>32026.0</td>\n",
              "      <td>0.0</td>\n",
              "      <td>88000.0</td>\n",
              "      <td>1236.0</td>\n",
              "      <td>440.0</td>\n",
              "      <td>196.891271</td>\n",
              "      <td>6244.925998</td>\n",
              "      <td>440.0</td>\n",
              "      <td>0.0</td>\n",
              "      <td>0.0</td>\n",
              "      <td>440.0</td>\n",
              "      <td>0.0</td>\n",
              "      <td>0.0</td>\n",
              "      <td>160.934673</td>\n",
              "      <td>440.0</td>\n",
              "      <td>634.0</td>\n",
              "      <td>440.0</td>\n",
              "      <td>200.0</td>\n",
              "      <td>-1.0</td>\n",
              "      <td>0.0</td>\n",
              "      <td>88000.0</td>\n",
              "      <td>1</td>\n",
              "    </tr>\n",
              "  </tbody>\n",
              "</table>\n",
              "</div>"
            ],
            "text/plain": [
              "   flow packets/s  flow iat mean  ...  subflow fwd bytes  label\n",
              "0     3413.689952     295.989583  ...            42680.0      1\n",
              "1  1000000.000000       2.000000  ...              880.0      1\n",
              "2     4119.549321     243.964824  ...            88000.0      1\n",
              "3     4137.617146     242.899497  ...            88000.0      1\n",
              "4     6244.925998     160.934673  ...            88000.0      1\n",
              "\n",
              "[5 rows x 41 columns]"
            ]
          },
          "metadata": {
            "tags": []
          },
          "execution_count": 9
        }
      ]
    },
    {
      "cell_type": "code",
      "metadata": {
        "id": "Mx2J37LIo9w_"
      },
      "source": [
        "X = df_filtered.iloc[:, 0:40]\n",
        "y = df_filtered.iloc[:, 40]"
      ],
      "execution_count": null,
      "outputs": []
    },
    {
      "cell_type": "markdown",
      "metadata": {
        "id": "xoxZGb83ED91"
      },
      "source": [
        "### Logisitic Regression "
      ]
    },
    {
      "cell_type": "code",
      "metadata": {
        "colab": {
          "base_uri": "https://localhost:8080/"
        },
        "id": "aBXyaxl_SLkk",
        "outputId": "656d984b-9dbd-4f1a-d32c-df76501cc174"
      },
      "source": [
        "k = 5\n",
        "kf = KFold(n_splits=k, random_state= 0)\n",
        "model = LogisticRegression(solver= 'liblinear')\n",
        "acc_score = []\n",
        "f1_sc = []\n",
        "precision_sc = []\n",
        "recall_sc = []\n",
        "specificity_sc = []\n",
        "auc_sc = []\n",
        "g_mean_sc = []\n",
        "\n",
        "for train_index , test_index in kf.split(X):\n",
        "  #print(\"TRAIN:\", train_index, \"TEST:\", test_index)\n",
        "\n",
        "  X_train , X_test = X.iloc[train_index,0:40],X.iloc[test_index,0:40]\n",
        "  y_train , y_test = y.iloc[train_index], y.iloc[test_index]\n",
        "     \n",
        "  model.fit(X_train,y_train)\n",
        "  pred_values = model.predict(X_test)\n",
        "     \n",
        "  acc = accuracy_score(pred_values , y_test)   #accuracy\n",
        "  f1 = f1_score(pred_values, y_test)            #f1\n",
        "  rec = recall_score(pred_values, y_test)     #recall\n",
        "  prec = precision_score(pred_values, y_test) #precision\n",
        "  tn, fp, fn, tp = confusion_matrix(y_test, pred_values).ravel()\n",
        "  specificity = tn / (tn+fp)   #specificity\n",
        "  fpr, tpr, thresholds = roc_curve(y_test, pred_values, drop_intermediate = False)\n",
        "  gmean = math.sqrt(rec * specificity)   #geometric mean\n",
        "  area_u_c = auc(fpr, tpr)               #Area under the curve\n",
        "\n",
        "  acc_score.append(acc)\n",
        "  f1_sc.append(f1)\n",
        "  recall_sc.append(rec)\n",
        "  precision_sc.append(prec)\n",
        "  specificity_sc.append(specificity)\n",
        "  auc_sc.append(area_u_c)\n",
        "  g_mean_sc.append(gmean)\n",
        "\n",
        "avg_acc_score = sum(acc_score)/k\n",
        "avg_f1_sc = sum(f1_sc)/k\n",
        "avg_recall_sc = sum(recall_sc)/k\n",
        "avg_precision_sc = sum(precision_sc)/k\n",
        "avg_specificity_sc = sum(specificity_sc)/k\n",
        "avg_auc_sc = sum(auc_sc)/k\n",
        "avg_g_mean_sc = sum(g_mean_sc)/k\n",
        "\n",
        " \n",
        "print('accuracy of each fold - {}'.format(acc_score))\n",
        "print('Avg accuracy : {}\\n'.format(avg_acc_score))\n",
        "\n",
        "print('f1 score of each fold - {}'.format(f1_sc))\n",
        "print('Avg f1 score : {}\\n'.format(avg_f1_sc))\n",
        "\n",
        "print('recall of each fold - {}'.format(recall_sc))\n",
        "print('Avg recall : {}\\n'.format(avg_recall_sc))\n",
        "\n",
        "print('precision of each fold - {}'.format(precision_sc))\n",
        "print('Avg precision : {}\\n'.format(avg_precision_sc))\n",
        "\n",
        "print('precision of each fold - {}'.format(precision_sc))\n",
        "print('Avg precision : {}\\n'.format(avg_precision_sc))\n",
        "\n",
        "print('specificity of each fold - {}'.format(specificity_sc))\n",
        "print('Avg specificity : {}\\n'.format(avg_specificity_sc))\n",
        "\n",
        "print('auc of each fold - {}'.format(auc_sc))\n",
        "print('Avg auc : {}\\n'.format(avg_auc_sc))\n",
        "\n",
        "print('gmean of each fold - {}'.format(g_mean_sc))\n",
        "print('Avg gmean : {}\\n'.format(avg_g_mean_sc))\n"
      ],
      "execution_count": null,
      "outputs": [
        {
          "output_type": "stream",
          "text": [
            "/usr/local/lib/python3.7/dist-packages/sklearn/model_selection/_split.py:296: FutureWarning: Setting a random_state has no effect since shuffle is False. This will raise an error in 0.24. You should leave random_state to its default (None), or set shuffle=True.\n",
            "  FutureWarning\n",
            "/usr/local/lib/python3.7/dist-packages/sklearn/svm/_base.py:947: ConvergenceWarning: Liblinear failed to converge, increase the number of iterations.\n",
            "  \"the number of iterations.\", ConvergenceWarning)\n"
          ],
          "name": "stderr"
        },
        {
          "output_type": "stream",
          "text": [
            "accuracy of each fold - [0.9453671697158755, 0.9994941404603321, 0.9984824213809965, 0.8431835427029761, 0.9598650927487352]\n",
            "Avg accuracy : 0.9492784734017832\n",
            "\n",
            "f1 score of each fold - [0.9696827921774119, 0.999746963562753, 0.9992401215805471, 0.8264925373134329, 0.9771855828220858]\n",
            "Avg f1 score : 0.9544695994912462\n",
            "\n",
            "recall of each fold - [0.9978815599422244, 1.0, 0.9998310382698319, 0.8058941240676732, 0.9848323833446044]\n",
            "Avg recall : 0.957687821124867\n",
            "\n",
            "precision of each fold - [0.9430339430339431, 0.9994940551479888, 0.9986499029617754, 0.8481715489182462, 0.9696566156187577]\n",
            "Avg precision : 0.9518012131361422\n",
            "\n",
            "precision of each fold - [0.9430339430339431, 0.9994940551479888, 0.9986499029617754, 0.8481715489182462, 0.9696566156187577]\n",
            "Avg precision : 0.9518012131361422\n",
            "\n",
            "specificity of each fold - [0.9747706422018348, 1.0, 0.8, 0.8392588128954505, 0.8834446919079436]\n",
            "Avg specificity : 0.8994948294010457\n",
            "\n",
            "auc of each fold - [0.958902292617889, 0.9997470275739944, 0.8993249514808878, 0.8437151809068484, 0.9265506537633507]\n",
            "Avg auc : 0.925648021268594\n",
            "\n",
            "gmean of each fold - [0.9862584088494509, 1.0, 0.894351625825025, 0.8224072871056374, 0.9327619961623865]\n",
            "Avg gmean : 0.9271558635885\n",
            "\n"
          ],
          "name": "stdout"
        }
      ]
    },
    {
      "cell_type": "code",
      "metadata": {
        "colab": {
          "base_uri": "https://localhost:8080/",
          "height": 503
        },
        "id": "-V7sM9GSlJ7p",
        "outputId": "33347480-bdc7-4182-debc-c802f7426374"
      },
      "source": [
        "df_fpr_tpr = pd.DataFrame({'FPR':fpr, 'TPR':tpr, 'Threshold':thresholds})\n",
        "df_fpr_tpr.head()\n",
        "\n",
        "\n",
        "plotnine.options.figure_size = (8, 4.8)\n",
        "(\n",
        "    ggplot(data = df_fpr_tpr)+\n",
        "    geom_point(aes(x = 'FPR',\n",
        "                   y = 'TPR'),\n",
        "               size = 0.4)+\n",
        "    geom_line(aes(x = 'FPR',\n",
        "                  y = 'TPR'))+\n",
        "    labs(title = 'ROC Curve')+\n",
        "    xlab('False Positive Rate')+\n",
        "    ylab('True Positive Rate')+\n",
        "    theme_minimal()\n",
        ")"
      ],
      "execution_count": null,
      "outputs": [
        {
          "output_type": "display_data",
          "data": {
            "image/png": "[encoded data removed]",
            "text/plain": [
              "<Figure size 800x480 with 1 Axes>"
            ]
          },
          "metadata": {
            "tags": [],
            "needs_background": "light"
          }
        },
        {
          "output_type": "execute_result",
          "data": {
            "text/plain": [
              "<ggplot: (8757253293621)>"
            ]
          },
          "metadata": {
            "tags": []
          },
          "execution_count": 31
        }
      ]
    },
    {
      "cell_type": "code",
      "metadata": {
        "colab": {
          "base_uri": "https://localhost:8080/",
          "height": 537
        },
        "id": "VPu10nsctvl6",
        "outputId": "26be1d19-6ac5-4451-d7ca-07ae84397ac4"
      },
      "source": [
        "# Calculate the G-mean\n",
        "gmean = np.sqrt(tpr * (1 - fpr))\n",
        "\n",
        "# Find the optimal threshold\n",
        "index = np.argmax(gmean)\n",
        "thresholdOpt = round(thresholds[index], ndigits = 4)\n",
        "gmeanOpt = round(gmean[index], ndigits = 4)\n",
        "fprOpt = round(fpr[index], ndigits = 4)\n",
        "tprOpt = round(tpr[index], ndigits = 4)\n",
        "print('Best Threshold: {} with G-Mean: {}'.format(thresholdOpt, gmeanOpt))\n",
        "print('FPR: {}, TPR: {}'.format(fprOpt, tprOpt))\n",
        "\n",
        "# Create data viz\n",
        "plotnine.options.figure_size = (8, 4.8)\n",
        "(\n",
        "    ggplot(data = df_fpr_tpr)+\n",
        "    geom_point(aes(x = 'FPR',\n",
        "                   y = 'TPR'),\n",
        "               size = 0.4)+\n",
        "    # Best threshold\n",
        "    geom_point(aes(x = fprOpt,\n",
        "                   y = tprOpt),\n",
        "               color = '#981220',\n",
        "               size = 4)+\n",
        "    geom_line(aes(x = 'FPR',\n",
        "                  y = 'TPR'))+\n",
        "    geom_text(aes(x = fprOpt,\n",
        "                  y = tprOpt),\n",
        "              label = 'Optimal threshold \\n for class: {}'.format(thresholdOpt),\n",
        "              nudge_x = 0.14,\n",
        "              nudge_y = -0.10,\n",
        "              size = 10,\n",
        "              fontstyle = 'italic')+\n",
        "    labs(title = 'ROC Curve')+\n",
        "    xlab('False Positive Rate (FPR)')+\n",
        "    ylab('True Positive Rate (TPR)')+\n",
        "    theme_minimal()\n",
        ")"
      ],
      "execution_count": null,
      "outputs": [
        {
          "output_type": "stream",
          "text": [
            "Best Threshold: 1 with G-Mean: 0.9255\n",
            "FPR: 0.1166, TPR: 0.9697\n"
          ],
          "name": "stdout"
        },
        {
          "output_type": "display_data",
          "data": {
            "image/png": "[encoded data removed]",
            "text/plain": [
              "<Figure size 800x480 with 1 Axes>"
            ]
          },
          "metadata": {
            "tags": [],
            "needs_background": "light"
          }
        },
        {
          "output_type": "execute_result",
          "data": {
            "text/plain": [
              "<ggplot: (8757253122769)>"
            ]
          },
          "metadata": {
            "tags": []
          },
          "execution_count": 32
        }
      ]
    },
    {
      "cell_type": "code",
      "metadata": {
        "colab": {
          "base_uri": "https://localhost:8080/"
        },
        "id": "hkKOkGSJlrV4",
        "outputId": "eff89434-1470-4dd5-ee2a-6401febd1479"
      },
      "source": [
        "print(pred_values)"
      ],
      "execution_count": null,
      "outputs": [
        {
          "output_type": "stream",
          "text": [
            "[0 1 0 ... 1 1 1]\n"
          ],
          "name": "stdout"
        }
      ]
    },
    {
      "cell_type": "markdown",
      "metadata": {
        "id": "5wLLSUkXEM71"
      },
      "source": [
        "### Support Vector Machines"
      ]
    },
    {
      "cell_type": "code",
      "metadata": {
        "colab": {
          "base_uri": "https://localhost:8080/"
        },
        "id": "S-dlHu6pESpk",
        "outputId": "49f909e4-4691-4391-fe33-11ce7d80f173"
      },
      "source": [
        "k = 5\n",
        "kf = KFold(n_splits=k, random_state= 0)\n",
        "model = svm.LinearSVC()\n",
        "acc_score = []\n",
        "f1_sc = []\n",
        "precision_sc = []\n",
        "recall_sc = []\n",
        "specificity_sc = []\n",
        "auc_sc = []\n",
        "g_mean_sc = []\n",
        "\n",
        "for train_index , test_index in kf.split(X):\n",
        "  #print(\"TRAIN:\", train_index, \"TEST:\", test_index)\n",
        "\n",
        "  X_train , X_test = X.iloc[train_index,0:40],X.iloc[test_index,0:40]\n",
        "  y_train , y_test = y.iloc[train_index], y.iloc[test_index]\n",
        "     \n",
        "  model.fit(X_train,y_train)\n",
        "  pred_values = model.predict(X_test)\n",
        "     \n",
        "  acc = accuracy_score(pred_values , y_test)   #accuracy\n",
        "  f1 = f1_score(pred_values, y_test)            #f1\n",
        "  rec = recall_score(pred_values, y_test)     #recall\n",
        "  prec = precision_score(pred_values, y_test)  #precision\n",
        "  tn, fp, fn, tp = confusion_matrix(y_test, pred_values).ravel()\n",
        "  specificity = tn / (tn+fp)   #specificity\n",
        "  fpr, tpr, thresholds = roc_curve(y_test, pred_values, drop_intermediate = False)\n",
        "  gmean = math.sqrt(rec * specificity)   #geometric mean\n",
        "  area_u_c = auc(fpr, tpr)               #Area under the curve\n",
        "\n",
        "  acc_score.append(acc)\n",
        "  f1_sc.append(f1)\n",
        "  recall_sc.append(rec)\n",
        "  precision_sc.append(prec)\n",
        "  specificity_sc.append(specificity)\n",
        "  auc_sc.append(area_u_c)\n",
        "  g_mean_sc.append(gmean)\n",
        "\n",
        "avg_acc_score = sum(acc_score)/k\n",
        "avg_f1_sc = sum(f1_sc)/k\n",
        "avg_recall_sc = sum(recall_sc)/k\n",
        "avg_precision_sc = sum(precision_sc)/k\n",
        "avg_specificity_sc = sum(specificity_sc)/k\n",
        "avg_auc_sc = sum(auc_sc)/k\n",
        "avg_g_mean_sc = sum(g_mean_sc)/k\n",
        "\n",
        " \n",
        "print('accuracy of each fold - {}'.format(acc_score))\n",
        "print('Avg accuracy : {}\\n'.format(avg_acc_score))\n",
        "\n",
        "print('f1 score of each fold - {}'.format(f1_sc))\n",
        "print('Avg f1 score : {}\\n'.format(avg_f1_sc))\n",
        "\n",
        "print('recall of each fold - {}'.format(recall_sc))\n",
        "print('Avg recall : {}\\n'.format(avg_recall_sc))\n",
        "\n",
        "print('precision of each fold - {}'.format(precision_sc))\n",
        "print('Avg precision : {}\\n'.format(avg_precision_sc))\n",
        "\n",
        "print('precision of each fold - {}'.format(precision_sc))\n",
        "print('Avg precision : {}\\n'.format(avg_precision_sc))\n",
        "\n",
        "print('specificity of each fold - {}'.format(specificity_sc))\n",
        "print('Avg specificity : {}\\n'.format(avg_specificity_sc))\n",
        "\n",
        "print('auc of each fold - {}'.format(auc_sc))\n",
        "print('Avg auc : {}\\n'.format(avg_auc_sc))\n",
        "\n",
        "print('gmean of each fold - {}'.format(g_mean_sc))\n",
        "print('Avg gmean : {}\\n'.format(avg_g_mean_sc))\n"
      ],
      "execution_count": null,
      "outputs": [
        {
          "output_type": "stream",
          "text": [
            "/usr/local/lib/python3.7/dist-packages/sklearn/model_selection/_split.py:296: FutureWarning: Setting a random_state has no effect since shuffle is False. This will raise an error in 0.24. You should leave random_state to its default (None), or set shuffle=True.\n",
            "  FutureWarning\n",
            "/usr/local/lib/python3.7/dist-packages/sklearn/svm/_base.py:947: ConvergenceWarning: Liblinear failed to converge, increase the number of iterations.\n",
            "  \"the number of iterations.\", ConvergenceWarning)\n",
            "/usr/local/lib/python3.7/dist-packages/sklearn/svm/_base.py:947: ConvergenceWarning: Liblinear failed to converge, increase the number of iterations.\n",
            "  \"the number of iterations.\", ConvergenceWarning)\n",
            "/usr/local/lib/python3.7/dist-packages/sklearn/svm/_base.py:947: ConvergenceWarning: Liblinear failed to converge, increase the number of iterations.\n",
            "  \"the number of iterations.\", ConvergenceWarning)\n",
            "/usr/local/lib/python3.7/dist-packages/sklearn/svm/_base.py:947: ConvergenceWarning: Liblinear failed to converge, increase the number of iterations.\n",
            "  \"the number of iterations.\", ConvergenceWarning)\n"
          ],
          "name": "stderr"
        },
        {
          "output_type": "stream",
          "text": [
            "accuracy of each fold - [0.38285136160526095, 0.91611162633842, 0.7321473737458899, 0.5540848157828177, 0.8846543001686341]\n",
            "Avg accuracy : 0.6939698955282045\n",
            "\n",
            "f1 score of each fold - [0.511283215382561, 0.9562156215621561, 0.8452131546894033, 0.22140438686883554, 0.9326041974578776]\n",
            "Avg f1 score : 0.6933441151921667\n",
            "\n",
            "recall of each fold - [0.959889696665831, 0.999907969814099, 1.0, 0.4789808917197452, 0.9672968829841594]\n",
            "Avg recall : 0.881215088236767\n",
            "\n",
            "precision of each fold - [0.34843934843934843, 0.916181802850156, 0.7319213568475235, 0.14397855638521923, 0.9003138970798059]\n",
            "Avg precision : 0.6081669923204107\n",
            "\n",
            "precision of each fold - [0.34843934843934843, 0.916181802850156, 0.7319213568475235, 0.14397855638521923, 0.9003138970798059]\n",
            "Avg precision : 0.6081669923204107\n",
            "\n",
            "specificity of each fold - [0.8165137614678899, 0.5, 1.0, 0.8767701114793612, 0.7624350408314774]\n",
            "Avg specificity : 0.7911437827557457\n",
            "\n",
            "auc of each fold - [0.5824765549536192, 0.708090901425078, 0.8659606784237617, 0.5103743339322903, 0.8313744689556416]\n",
            "Avg auc : 0.6996553875380782\n",
            "\n",
            "gmean of each fold - [0.8853039855433215, 0.7070742428536408, 1.0, 0.6480402223856209, 0.8587788064887188]\n",
            "Avg gmean : 0.8198394514542604\n",
            "\n"
          ],
          "name": "stdout"
        },
        {
          "output_type": "stream",
          "text": [
            "/usr/local/lib/python3.7/dist-packages/sklearn/svm/_base.py:947: ConvergenceWarning: Liblinear failed to converge, increase the number of iterations.\n",
            "  \"the number of iterations.\", ConvergenceWarning)\n"
          ],
          "name": "stderr"
        }
      ]
    },
    {
      "cell_type": "code",
      "metadata": {
        "colab": {
          "base_uri": "https://localhost:8080/",
          "height": 503
        },
        "id": "kVdGQ_vks5YN",
        "outputId": "fcd52c9b-ff00-4e60-bd5a-1d35896689ed"
      },
      "source": [
        "df_fpr_tpr = pd.DataFrame({'FPR':fpr, 'TPR':tpr, 'Threshold':thresholds})\n",
        "df_fpr_tpr.head()\n",
        "\n",
        "plotnine.options.figure_size = (8, 4.8)\n",
        "(\n",
        "    ggplot(data = df_fpr_tpr)+\n",
        "    geom_point(aes(x = 'FPR',\n",
        "                   y = 'TPR'),\n",
        "               size = 0.4)+\n",
        "    geom_line(aes(x = 'FPR',\n",
        "                  y = 'TPR'))+\n",
        "    labs(title = 'ROC Curve')+\n",
        "    xlab('False Positive Rate')+\n",
        "    ylab('True Positive Rate')+\n",
        "    theme_minimal()\n",
        ")"
      ],
      "execution_count": null,
      "outputs": [
        {
          "output_type": "display_data",
          "data": {
            "image/png": "[encoded data removed]",
            "text/plain": [
              "<Figure size 800x480 with 1 Axes>"
            ]
          },
          "metadata": {
            "tags": [],
            "needs_background": "light"
          }
        },
        {
          "output_type": "execute_result",
          "data": {
            "text/plain": [
              "<ggplot: (8757253182177)>"
            ]
          },
          "metadata": {
            "tags": []
          },
          "execution_count": 34
        }
      ]
    },
    {
      "cell_type": "code",
      "metadata": {
        "colab": {
          "base_uri": "https://localhost:8080/",
          "height": 537
        },
        "id": "_Myp9Uist72x",
        "outputId": "9db5f680-58a4-43ca-cb9d-7397330983bd"
      },
      "source": [
        "# Calculate the G-mean\n",
        "gmean = np.sqrt(tpr * (1 - fpr))\n",
        "\n",
        "# Find the optimal threshold\n",
        "index = np.argmax(gmean)\n",
        "thresholdOpt = round(thresholds[index], ndigits = 4)\n",
        "gmeanOpt = round(gmean[index], ndigits = 4)\n",
        "fprOpt = round(fpr[index], ndigits = 4)\n",
        "tprOpt = round(tpr[index], ndigits = 4)\n",
        "print('Best Threshold: {} with G-Mean: {}'.format(thresholdOpt, gmeanOpt))\n",
        "print('FPR: {}, TPR: {}'.format(fprOpt, tprOpt))\n",
        "\n",
        "# Create data viz\n",
        "plotnine.options.figure_size = (8, 4.8)\n",
        "(\n",
        "    ggplot(data = df_fpr_tpr)+\n",
        "    geom_point(aes(x = 'FPR',\n",
        "                   y = 'TPR'),\n",
        "               size = 0.4)+\n",
        "    # Best threshold\n",
        "    geom_point(aes(x = fprOpt,\n",
        "                   y = tprOpt),\n",
        "               color = '#981220',\n",
        "               size = 4)+\n",
        "    geom_line(aes(x = 'FPR',\n",
        "                  y = 'TPR'))+\n",
        "    geom_text(aes(x = fprOpt,\n",
        "                  y = tprOpt),\n",
        "              label = 'Optimal threshold \\n for class: {}'.format(thresholdOpt),\n",
        "              nudge_x = 0.14,\n",
        "              nudge_y = -0.10,\n",
        "              size = 10,\n",
        "              fontstyle = 'italic')+\n",
        "    labs(title = 'ROC Curve')+\n",
        "    xlab('False Positive Rate (FPR)')+\n",
        "    ylab('True Positive Rate (TPR)')+\n",
        "    theme_minimal()\n",
        ")"
      ],
      "execution_count": null,
      "outputs": [
        {
          "output_type": "stream",
          "text": [
            "Best Threshold: 1 with G-Mean: 0.8087\n",
            "FPR: 0.2331, TPR: 0.8528\n"
          ],
          "name": "stdout"
        },
        {
          "output_type": "display_data",
          "data": {
            "image/png": "[encoded data removed]",
            "text/plain": [
              "<Figure size 800x480 with 1 Axes>"
            ]
          },
          "metadata": {
            "tags": [],
            "needs_background": "light"
          }
        },
        {
          "output_type": "execute_result",
          "data": {
            "text/plain": [
              "<ggplot: (8757253149925)>"
            ]
          },
          "metadata": {
            "tags": []
          },
          "execution_count": 35
        }
      ]
    },
    {
      "cell_type": "markdown",
      "metadata": {
        "id": "G7SNGivvFI1m"
      },
      "source": [
        "### Random Forests"
      ]
    },
    {
      "cell_type": "code",
      "metadata": {
        "colab": {
          "base_uri": "https://localhost:8080/"
        },
        "id": "sLuRPW4-FOxm",
        "outputId": "4454d3fb-c4a0-4c98-bbe9-e448b551554b"
      },
      "source": [
        "k = 5\n",
        "kf = KFold(n_splits=k, random_state= 0)\n",
        "model = RandomForestClassifier()\n",
        "acc_score = []\n",
        "f1_sc = []\n",
        "precision_sc = []\n",
        "recall_sc = []\n",
        "specificity_sc = []\n",
        "auc_sc = []\n",
        "g_mean_sc = []\n",
        "\n",
        "for train_index , test_index in kf.split(X):\n",
        "  #print(\"TRAIN:\", train_index, \"TEST:\", test_index)\n",
        "\n",
        "  X_train , X_test = X.iloc[train_index,0:40],X.iloc[test_index,0:40]\n",
        "  y_train , y_test = y.iloc[train_index], y.iloc[test_index]\n",
        "     \n",
        "  model.fit(X_train,y_train)\n",
        "  pred_values = model.predict(X_test)\n",
        "     \n",
        "  acc = accuracy_score(pred_values , y_test)   #accuracy\n",
        "  f1 = f1_score(pred_values, y_test)            #f1\n",
        "  rec = recall_score(pred_values, y_test)      #recall\n",
        "  prec = precision_score(pred_values, y_test)  #precision\n",
        "  tn, fp, fn, tp = confusion_matrix(y_test, pred_values).ravel()\n",
        "  specificity = tn / (tn+fp)   #specificity\n",
        "  fpr, tpr, thresholds = roc_curve(y_test, pred_values, drop_intermediate = False)\n",
        "  gmean = math.sqrt(rec * specificity)   #geometric mean\n",
        "  area_u_c = auc(fpr, tpr)               #Area under the curve\n",
        "\n",
        "  acc_score.append(acc)\n",
        "  f1_sc.append(f1)\n",
        "  recall_sc.append(rec)\n",
        "  precision_sc.append(prec)\n",
        "  specificity_sc.append(specificity)\n",
        "  auc_sc.append(area_u_c)\n",
        "  g_mean_sc.append(gmean)\n",
        "\n",
        "avg_acc_score = sum(acc_score)/k\n",
        "avg_f1_sc = sum(f1_sc)/k\n",
        "avg_recall_sc = sum(recall_sc)/k\n",
        "avg_precision_sc = sum(precision_sc)/k\n",
        "avg_specificity_sc = sum(specificity_sc)/k\n",
        "avg_auc_sc = sum(auc_sc)/k\n",
        "avg_g_mean_sc = sum(g_mean_sc)/k\n",
        "\n",
        " \n",
        "print('accuracy of each fold - {}'.format(acc_score))\n",
        "print('Avg accuracy : {}\\n'.format(avg_acc_score))\n",
        "\n",
        "print('f1 score of each fold - {}'.format(f1_sc))\n",
        "print('Avg f1 score : {}\\n'.format(avg_f1_sc))\n",
        "\n",
        "print('recall of each fold - {}'.format(recall_sc))\n",
        "print('Avg recall : {}\\n'.format(avg_recall_sc))\n",
        "\n",
        "print('precision of each fold - {}'.format(precision_sc))\n",
        "print('Avg precision : {}\\n'.format(avg_precision_sc))\n",
        "\n",
        "print('precision of each fold - {}'.format(precision_sc))\n",
        "print('Avg precision : {}\\n'.format(avg_precision_sc))\n",
        "\n",
        "print('specificity of each fold - {}'.format(specificity_sc))\n",
        "print('Avg specificity : {}\\n'.format(avg_specificity_sc))\n",
        "\n",
        "print('auc of each fold - {}'.format(auc_sc))\n",
        "print('Avg auc : {}\\n'.format(avg_auc_sc))\n",
        "\n",
        "print('gmean of each fold - {}'.format(g_mean_sc))\n",
        "print('Avg gmean : {}\\n'.format(avg_g_mean_sc))\n"
      ],
      "execution_count": null,
      "outputs": [
        {
          "output_type": "stream",
          "text": [
            "/usr/local/lib/python3.7/dist-packages/sklearn/model_selection/_split.py:296: FutureWarning: Setting a random_state has no effect since shuffle is False. This will raise an error in 0.24. You should leave random_state to its default (None), or set shuffle=True.\n",
            "  FutureWarning\n"
          ],
          "name": "stderr"
        },
        {
          "output_type": "stream",
          "text": [
            "accuracy of each fold - [0.9984824213809965, 1.0, 1.0, 0.9981451816878847, 1.0]\n",
            "Avg accuracy : 0.9993255206137762\n",
            "\n",
            "f1 score of each fold - [0.9991803278688524, 1.0, 1.0, 0.9978975535168196, 1.0]\n",
            "Avg f1 score : 0.9994155762771344\n",
            "\n",
            "recall of each fold - [1.0, 1.0, 1.0, 0.996183934363671, 1.0]\n",
            "Avg recall : 0.9992367868727342\n",
            "\n",
            "precision of each fold - [0.9983619983619983, 1.0, 1.0, 0.9996170783074861, 1.0]\n",
            "Avg precision : 0.9995958153338969\n",
            "\n",
            "precision of each fold - [0.9983619983619983, 1.0, 1.0, 0.9996170783074861, 1.0]\n",
            "Avg precision : 0.9995958153338969\n",
            "\n",
            "specificity of each fold - [1.0, 1.0, 1.0, 0.9969870442904489, 1.0]\n",
            "Avg specificity : 0.9993974088580899\n",
            "\n",
            "auc of each fold - [0.9991809991809992, 1.0, 1.0, 0.9983020612989675, 1.0]\n",
            "Avg auc : 0.9994966120959934\n",
            "\n",
            "gmean of each fold - [1.0, 1.0, 1.0, 0.9965854084276304, 1.0]\n",
            "Avg gmean : 0.9993170816855261\n",
            "\n"
          ],
          "name": "stdout"
        }
      ]
    },
    {
      "cell_type": "code",
      "metadata": {
        "colab": {
          "base_uri": "https://localhost:8080/",
          "height": 503
        },
        "id": "6PlEUPckpdNL",
        "outputId": "28faadec-a3bf-46b6-e9d3-485f91dac5c0"
      },
      "source": [
        "df_fpr_tpr = pd.DataFrame({'FPR':fpr, 'TPR':tpr, 'Threshold':thresholds})\n",
        "df_fpr_tpr.head()\n",
        "\n",
        "plotnine.options.figure_size = (8, 4.8)\n",
        "(\n",
        "    ggplot(data = df_fpr_tpr)+\n",
        "    geom_point(aes(x = 'FPR',\n",
        "                   y = 'TPR'),\n",
        "               size = 0.4)+\n",
        "    geom_line(aes(x = 'FPR',\n",
        "                  y = 'TPR'))+\n",
        "    labs(title = 'ROC Curve')+\n",
        "    xlab('False Positive Rate')+\n",
        "    ylab('True Positive Rate')+\n",
        "    theme_minimal()\n",
        ")"
      ],
      "execution_count": null,
      "outputs": [
        {
          "output_type": "display_data",
          "data": {
            "image/png": "[encoded data removed]",
            "text/plain": [
              "<Figure size 800x480 with 1 Axes>"
            ]
          },
          "metadata": {
            "tags": [],
            "needs_background": "light"
          }
        },
        {
          "output_type": "execute_result",
          "data": {
            "text/plain": [
              "<ggplot: (8757244453693)>"
            ]
          },
          "metadata": {
            "tags": []
          },
          "execution_count": 42
        }
      ]
    },
    {
      "cell_type": "code",
      "metadata": {
        "colab": {
          "base_uri": "https://localhost:8080/",
          "height": 537
        },
        "id": "i5wph4E2ukvY",
        "outputId": "2b47e675-6154-439e-f854-11764b6d613a"
      },
      "source": [
        "# Calculate the G-mean\n",
        "gmean = np.sqrt(tpr * (1 - fpr))\n",
        "\n",
        "# Find the optimal threshold\n",
        "index = np.argmax(gmean)\n",
        "thresholdOpt = round(thresholds[index], ndigits = 4)\n",
        "gmeanOpt = round(gmean[index], ndigits = 4)\n",
        "fprOpt = round(fpr[index], ndigits = 4)\n",
        "tprOpt = round(tpr[index], ndigits = 4)\n",
        "print('Best Threshold: {} with G-Mean: {}'.format(thresholdOpt, gmeanOpt))\n",
        "print('FPR: {}, TPR: {}'.format(fprOpt, tprOpt))\n",
        "\n",
        "# Create data viz\n",
        "plotnine.options.figure_size = (8, 4.8)\n",
        "(\n",
        "    ggplot(data = df_fpr_tpr)+\n",
        "    geom_point(aes(x = 'FPR',\n",
        "                   y = 'TPR'),\n",
        "               size = 0.4)+\n",
        "    # Best threshold\n",
        "    geom_point(aes(x = fprOpt,\n",
        "                   y = tprOpt),\n",
        "               color = '#981220',\n",
        "               size = 4)+\n",
        "    geom_line(aes(x = 'FPR',\n",
        "                  y = 'TPR'))+\n",
        "    geom_text(aes(x = fprOpt,\n",
        "                  y = tprOpt),\n",
        "              label = 'Optimal threshold \\n for class: {}'.format(thresholdOpt),\n",
        "              nudge_x = 0.14,\n",
        "              nudge_y = -0.10,\n",
        "              size = 10,\n",
        "              fontstyle = 'italic')+\n",
        "    labs(title = 'ROC Curve')+\n",
        "    xlab('False Positive Rate (FPR)')+\n",
        "    ylab('True Positive Rate (TPR)')+\n",
        "    theme_minimal()\n",
        ")"
      ],
      "execution_count": null,
      "outputs": [
        {
          "output_type": "stream",
          "text": [
            "Best Threshold: 1 with G-Mean: 1.0\n",
            "FPR: 0.0, TPR: 1.0\n"
          ],
          "name": "stdout"
        },
        {
          "output_type": "display_data",
          "data": {
            "image/png": "[encoded data removed]",
            "text/plain": [
              "<Figure size 800x480 with 1 Axes>"
            ]
          },
          "metadata": {
            "tags": [],
            "needs_background": "light"
          }
        },
        {
          "output_type": "execute_result",
          "data": {
            "text/plain": [
              "<ggplot: (8757253157237)>"
            ]
          },
          "metadata": {
            "tags": []
          },
          "execution_count": 43
        }
      ]
    }
  ]
}