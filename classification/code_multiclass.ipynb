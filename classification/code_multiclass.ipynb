{
  "nbformat": 4,
  "nbformat_minor": 0,
  "metadata": {
    "colab": {
      "name": "code_multiclass.ipynb",
      "provenance": [],
      "collapsed_sections": [],
      "toc_visible": true
    },
    "kernelspec": {
      "name": "python3",
      "display_name": "Python 3"
    }
  },
  "cells": [
    {
      "cell_type": "code",
      "metadata": {
        "id": "r_mA3WV_wWVj"
      },
      "source": [
        "import numpy as np\n",
        "import csv\n",
        "import os\n",
        "import glob\n",
        "import pandas as pd\n",
        "from sklearn.feature_selection import SelectKBest, f_classif, mutual_info_classif, RFE\n",
        "from sklearn.ensemble import RandomForestClassifier\n",
        "from sklearn.tree import DecisionTreeClassifier\n",
        "from sklearn import svm\n",
        "from sklearn.model_selection import KFold, StratifiedKFold\n",
        "from sklearn.linear_model import LogisticRegression\n",
        "from sklearn.naive_bayes import GaussianNB \n",
        "from sklearn.neighbors import KNeighborsClassifier\n",
        "from sklearn.neural_network import MLPClassifier\n",
        "from sklearn.metrics import accuracy_score, f1_score, precision_score, recall_score\n",
        "from sklearn.metrics import confusion_matrix, classification_report\n",
        "from tabulate import tabulate\n",
        "from google.colab import files"
      ],
      "execution_count": null,
      "outputs": []
    },
    {
      "cell_type": "code",
      "metadata": {
        "colab": {
          "base_uri": "https://localhost:8080/"
        },
        "id": "2PCL_u-bwbem",
        "outputId": "45eacfb0-8be3-46b8-9dd7-09183e940976"
      },
      "source": [
        "from google.colab import drive\n",
        "drive.mount('/content/drive')"
      ],
      "execution_count": null,
      "outputs": [
        {
          "output_type": "stream",
          "text": [
            "Mounted at /content/drive\n"
          ],
          "name": "stdout"
        }
      ]
    },
    {
      "cell_type": "code",
      "metadata": {
        "colab": {
          "base_uri": "https://localhost:8080/"
        },
        "id": "rbns5Z7HwrLY",
        "outputId": "4d6650fb-8cf9-4101-8f5f-122474c36410"
      },
      "source": [
        "data=pd.read_csv('/content/drive/My Drive/combined_csv2.csv', delimiter=',', skipinitialspace=True)"
      ],
      "execution_count": null,
      "outputs": [
        {
          "output_type": "stream",
          "text": [
            "/usr/local/lib/python3.7/dist-packages/IPython/core/interactiveshell.py:2718: DtypeWarning: Columns (41,62,85) have mixed types.Specify dtype option on import or set low_memory=False.\n",
            "  interactivity=interactivity, compiler=compiler, result=result)\n"
          ],
          "name": "stderr"
        }
      ]
    },
    {
      "cell_type": "code",
      "metadata": {
        "colab": {
          "base_uri": "https://localhost:8080/"
        },
        "id": "undirpyowvnh",
        "outputId": "1b3cc79d-e2ea-47ad-f34a-266529107bbd"
      },
      "source": [
        "df = pd.DataFrame(data)\n",
        "df.columns = list(map(str.lower, data.columns.astype(str)))\n",
        "target_col = 'label'\n",
        "print(df.columns)"
      ],
      "execution_count": null,
      "outputs": [
        {
          "output_type": "stream",
          "text": [
            "Index(['unnamed: 0', 'flow id', 'source ip', 'source port', 'destination ip',\n",
            "       'destination port', 'protocol', 'timestamp', 'flow duration',\n",
            "       'total fwd packets', 'total backward packets',\n",
            "       'total length of fwd packets', 'total length of bwd packets',\n",
            "       'fwd packet length max', 'fwd packet length min',\n",
            "       'fwd packet length mean', 'fwd packet length std',\n",
            "       'bwd packet length max', 'bwd packet length min',\n",
            "       'bwd packet length mean', 'bwd packet length std', 'flow bytes/s',\n",
            "       'flow packets/s', 'flow iat mean', 'flow iat std', 'flow iat max',\n",
            "       'flow iat min', 'fwd iat total', 'fwd iat mean', 'fwd iat std',\n",
            "       'fwd iat max', 'fwd iat min', 'bwd iat total', 'bwd iat mean',\n",
            "       'bwd iat std', 'bwd iat max', 'bwd iat min', 'fwd psh flags',\n",
            "       'bwd psh flags', 'fwd urg flags', 'bwd urg flags', 'fwd header length',\n",
            "       'bwd header length', 'fwd packets/s', 'bwd packets/s',\n",
            "       'min packet length', 'max packet length', 'packet length mean',\n",
            "       'packet length std', 'packet length variance', 'fin flag count',\n",
            "       'syn flag count', 'rst flag count', 'psh flag count', 'ack flag count',\n",
            "       'urg flag count', 'cwe flag count', 'ece flag count', 'down/up ratio',\n",
            "       'average packet size', 'avg fwd segment size', 'avg bwd segment size',\n",
            "       'fwd header length.1', 'fwd avg bytes/bulk', 'fwd avg packets/bulk',\n",
            "       'fwd avg bulk rate', 'bwd avg bytes/bulk', 'bwd avg packets/bulk',\n",
            "       'bwd avg bulk rate', 'subflow fwd packets', 'subflow fwd bytes',\n",
            "       'subflow bwd packets', 'subflow bwd bytes', 'init_win_bytes_forward',\n",
            "       'init_win_bytes_backward', 'act_data_pkt_fwd', 'min_seg_size_forward',\n",
            "       'active mean', 'active std', 'active max', 'active min', 'idle mean',\n",
            "       'idle std', 'idle max', 'idle min', 'simillarhttp', 'inbound', 'label'],\n",
            "      dtype='object')\n"
          ],
          "name": "stdout"
        }
      ]
    },
    {
      "cell_type": "code",
      "metadata": {
        "colab": {
          "base_uri": "https://localhost:8080/"
        },
        "id": "wQfcSzNdwzwx",
        "outputId": "64462eb5-fffa-42de-a49e-ae79d234fcb1"
      },
      "source": [
        "print(df.shape)\n",
        "non_floats = []\n",
        "\n",
        "#cleaning data from columns which have a non int/float type\n",
        "for col in df:\n",
        "    if df[col].dtypes != \"float64\" and df[col].dtypes != \"int64\" and col != target_col:\n",
        "        non_floats.append(col)\n",
        "    elif df[col].dtypes == \"int64\":\n",
        "        df[col] = df[col].astype(float)\n",
        "df = df.drop(columns=non_floats)\n",
        "df.info()\n",
        "print(df.shape)"
      ],
      "execution_count": null,
      "outputs": [
        {
          "output_type": "stream",
          "text": [
            "(59990, 88)\n",
            "<class 'pandas.core.frame.DataFrame'>\n",
            "RangeIndex: 59990 entries, 0 to 59989\n",
            "Data columns (total 81 columns):\n",
            " #   Column                       Non-Null Count  Dtype  \n",
            "---  ------                       --------------  -----  \n",
            " 0   unnamed: 0                   59990 non-null  float64\n",
            " 1   source port                  59990 non-null  float64\n",
            " 2   destination port             59990 non-null  float64\n",
            " 3   protocol                     59990 non-null  float64\n",
            " 4   flow duration                59990 non-null  float64\n",
            " 5   total fwd packets            59990 non-null  float64\n",
            " 6   total backward packets       59990 non-null  float64\n",
            " 7   total length of fwd packets  59990 non-null  float64\n",
            " 8   total length of bwd packets  59990 non-null  float64\n",
            " 9   fwd packet length max        59990 non-null  float64\n",
            " 10  fwd packet length min        59990 non-null  float64\n",
            " 11  fwd packet length mean       59990 non-null  float64\n",
            " 12  fwd packet length std        59990 non-null  float64\n",
            " 13  bwd packet length max        59990 non-null  float64\n",
            " 14  bwd packet length min        59990 non-null  float64\n",
            " 15  bwd packet length mean       59990 non-null  float64\n",
            " 16  bwd packet length std        59990 non-null  float64\n",
            " 17  flow bytes/s                 59985 non-null  float64\n",
            " 18  flow packets/s               59990 non-null  float64\n",
            " 19  flow iat mean                59990 non-null  float64\n",
            " 20  flow iat std                 59990 non-null  float64\n",
            " 21  flow iat max                 59990 non-null  float64\n",
            " 22  flow iat min                 59990 non-null  float64\n",
            " 23  fwd iat total                59990 non-null  float64\n",
            " 24  fwd iat mean                 59990 non-null  float64\n",
            " 25  fwd iat std                  59990 non-null  float64\n",
            " 26  fwd iat max                  59990 non-null  float64\n",
            " 27  fwd iat min                  59990 non-null  float64\n",
            " 28  bwd iat total                59990 non-null  float64\n",
            " 29  bwd iat mean                 59990 non-null  float64\n",
            " 30  bwd iat std                  59990 non-null  float64\n",
            " 31  bwd iat max                  59990 non-null  float64\n",
            " 32  bwd iat min                  59990 non-null  float64\n",
            " 33  fwd psh flags                59990 non-null  float64\n",
            " 34  bwd psh flags                59990 non-null  float64\n",
            " 35  fwd urg flags                59990 non-null  float64\n",
            " 36  bwd urg flags                59990 non-null  float64\n",
            " 37  bwd header length            59990 non-null  float64\n",
            " 38  fwd packets/s                59990 non-null  float64\n",
            " 39  bwd packets/s                59990 non-null  float64\n",
            " 40  min packet length            59990 non-null  float64\n",
            " 41  max packet length            59990 non-null  float64\n",
            " 42  packet length mean           59990 non-null  float64\n",
            " 43  packet length std            59990 non-null  float64\n",
            " 44  packet length variance       59990 non-null  float64\n",
            " 45  fin flag count               59990 non-null  float64\n",
            " 46  syn flag count               59990 non-null  float64\n",
            " 47  rst flag count               59990 non-null  float64\n",
            " 48  psh flag count               59990 non-null  float64\n",
            " 49  ack flag count               59990 non-null  float64\n",
            " 50  urg flag count               59990 non-null  float64\n",
            " 51  cwe flag count               59990 non-null  float64\n",
            " 52  ece flag count               59990 non-null  float64\n",
            " 53  down/up ratio                59990 non-null  float64\n",
            " 54  average packet size          59990 non-null  float64\n",
            " 55  avg fwd segment size         59990 non-null  float64\n",
            " 56  avg bwd segment size         59990 non-null  float64\n",
            " 57  fwd avg bytes/bulk           59990 non-null  float64\n",
            " 58  fwd avg packets/bulk         59990 non-null  float64\n",
            " 59  fwd avg bulk rate            59990 non-null  float64\n",
            " 60  bwd avg bytes/bulk           59990 non-null  float64\n",
            " 61  bwd avg packets/bulk         59990 non-null  float64\n",
            " 62  bwd avg bulk rate            59990 non-null  float64\n",
            " 63  subflow fwd packets          59990 non-null  float64\n",
            " 64  subflow fwd bytes            59990 non-null  float64\n",
            " 65  subflow bwd packets          59990 non-null  float64\n",
            " 66  subflow bwd bytes            59990 non-null  float64\n",
            " 67  init_win_bytes_forward       59990 non-null  float64\n",
            " 68  init_win_bytes_backward      59990 non-null  float64\n",
            " 69  act_data_pkt_fwd             59990 non-null  float64\n",
            " 70  min_seg_size_forward         59990 non-null  float64\n",
            " 71  active mean                  59990 non-null  float64\n",
            " 72  active std                   59990 non-null  float64\n",
            " 73  active max                   59990 non-null  float64\n",
            " 74  active min                   59990 non-null  float64\n",
            " 75  idle mean                    59990 non-null  float64\n",
            " 76  idle std                     59990 non-null  float64\n",
            " 77  idle max                     59990 non-null  float64\n",
            " 78  idle min                     59990 non-null  float64\n",
            " 79  inbound                      59990 non-null  float64\n",
            " 80  label                        59990 non-null  object \n",
            "dtypes: float64(80), object(1)\n",
            "memory usage: 37.1+ MB\n",
            "(59990, 81)\n"
          ],
          "name": "stdout"
        }
      ]
    },
    {
      "cell_type": "code",
      "metadata": {
        "colab": {
          "base_uri": "https://localhost:8080/"
        },
        "id": "KsfGgA0a2PVg",
        "outputId": "baf8e1a9-b96a-462a-98a3-24c1348dd65d"
      },
      "source": [
        "a = df[target_col].unique()\n",
        "print(a)"
      ],
      "execution_count": null,
      "outputs": [
        {
          "output_type": "stream",
          "text": [
            "['DrDoS_DNS' 'BENIGN' 'DrDoS_LDAP' 'DrDoS_MSSQL' 'DrDoS_NetBIOS'\n",
            " 'DrDoS_NTP' 'DrDoS_SNMP']\n"
          ],
          "name": "stdout"
        }
      ]
    },
    {
      "cell_type": "code",
      "metadata": {
        "colab": {
          "base_uri": "https://localhost:8080/"
        },
        "id": "_cMSCPO429yN",
        "outputId": "1e082e27-47d5-4cfe-b821-4eb1d7ac8cae"
      },
      "source": [
        "#cleaning data from nan and infinite values\n",
        "df =df[~df.isin([np.nan, np.inf, -np.inf]).any(1)]\n",
        "\n",
        "#assigning numerical values to our target column (multiclass classification)\n",
        "df.loc[df[target_col] == 'BENIGN', target_col] = 0\n",
        "df.loc[df[target_col] == 'DrDoS_DNS', target_col] = 1\n",
        "df.loc[df[target_col] == 'DrDoS_LDAP', target_col] = 2\n",
        "df.loc[df[target_col] == 'DrDoS_MSSQL', target_col] = 3\n",
        "df.loc[df[target_col] == 'DrDoS_NetBIOS', target_col] = 4\n",
        "df.loc[df[target_col] == 'DrDoS_NTP', target_col] = 5\n",
        "df.loc[df[target_col] == 'DrDoS_SNMP', target_col] = 6\n",
        "print(df.head())"
      ],
      "execution_count": null,
      "outputs": [
        {
          "output_type": "stream",
          "text": [
            "   unnamed: 0  source port  destination port  ...  idle min  inbound  label\n",
            "0       425.0        634.0           60495.0  ...       0.0      1.0      1\n",
            "1       430.0        634.0           60495.0  ...       0.0      0.0      1\n",
            "2      1654.0        634.0           46391.0  ...       0.0      1.0      1\n",
            "3      2927.0        634.0           11894.0  ...       0.0      1.0      1\n",
            "4       694.0        634.0           27878.0  ...       0.0      1.0      1\n",
            "\n",
            "[5 rows x 81 columns]\n"
          ],
          "name": "stdout"
        }
      ]
    },
    {
      "cell_type": "code",
      "metadata": {
        "id": "skAoM5gr3t3k"
      },
      "source": [
        "X = df.iloc[:, 0:80]\n",
        "y = df.iloc[:, 80]"
      ],
      "execution_count": null,
      "outputs": []
    },
    {
      "cell_type": "markdown",
      "metadata": {
        "id": "kq7lJIKojFLG"
      },
      "source": [
        "#  Feature Selection"
      ]
    },
    {
      "cell_type": "markdown",
      "metadata": {
        "id": "j4wwdH90F5tR"
      },
      "source": [
        "### Feature selection using select k"
      ]
    },
    {
      "cell_type": "code",
      "metadata": {
        "colab": {
          "base_uri": "https://localhost:8080/"
        },
        "id": "4knlBVgx3w2J",
        "outputId": "f71e634c-74e0-4592-d098-b11b8ae44a32"
      },
      "source": [
        "selector = SelectKBest(f_classif, k = 40)\n",
        "X_new = selector.fit_transform(X, y)\n",
        "\n",
        "names = X.columns.values[selector.get_support()]\n",
        "scores = selector.scores_[selector.get_support()]\n",
        "names_scores = list(zip(names, scores))\n",
        "ns_df = pd.DataFrame(data = names_scores, columns=['Feat_names', 'F_Scores'])\n",
        "#Sort the dataframe for better visualization\n",
        "ns_df_sorted = ns_df.sort_values(['F_Scores', 'Feat_names'], ascending = [False, True])\n",
        "print(ns_df_sorted)\n",
        "ns_df_sorted.to_excel('multiKbest.xlsx')"
      ],
      "execution_count": null,
      "outputs": [
        {
          "output_type": "stream",
          "text": [
            "/usr/local/lib/python3.7/dist-packages/sklearn/feature_selection/_univariate_selection.py:114: UserWarning: Features [34 35 36 45 48 52 57 58 59 60 61 62] are constant.\n",
            "  UserWarning)\n",
            "/usr/local/lib/python3.7/dist-packages/sklearn/feature_selection/_univariate_selection.py:115: RuntimeWarning: invalid value encountered in true_divide\n",
            "  f = msb / msw\n"
          ],
          "name": "stderr"
        },
        {
          "output_type": "stream",
          "text": [
            "                     Feat_names      F_Scores\n",
            "33         avg fwd segment size  88255.924949\n",
            "8        fwd packet length mean  88255.924949\n",
            "23            min packet length  85041.967924\n",
            "7         fwd packet length min  84672.433032\n",
            "32          average packet size  73849.406425\n",
            "25           packet length mean  70927.227555\n",
            "6         fwd packet length max  43467.815425\n",
            "1                   source port  24050.149376\n",
            "13                 flow bytes/s  23602.284422\n",
            "39                      inbound  22047.667954\n",
            "35            subflow fwd bytes  20207.309944\n",
            "5   total length of fwd packets  20207.309944\n",
            "38             act_data_pkt_fwd  19892.764067\n",
            "3                      protocol  16227.677657\n",
            "0                    unnamed: 0  15297.163455\n",
            "22                fwd packets/s  14274.539267\n",
            "14               flow packets/s  14053.508216\n",
            "31                down/up ratio   8104.784129\n",
            "29               urg flag count   6173.076123\n",
            "30               cwe flag count   4658.683379\n",
            "24            max packet length   3583.036183\n",
            "10        bwd packet length min   2919.147379\n",
            "28               ack flag count   2411.242576\n",
            "36       init_win_bytes_forward   2255.223453\n",
            "2              destination port   1920.157110\n",
            "34         avg bwd segment size   1335.474556\n",
            "11       bwd packet length mean   1335.474556\n",
            "20                  bwd iat min   1110.797073\n",
            "26            packet length std   1021.921009\n",
            "37      init_win_bytes_backward   1008.548362\n",
            "9         fwd packet length std    997.770869\n",
            "4                 flow duration    986.040095\n",
            "21                fwd psh flags    929.568556\n",
            "27               rst flag count    929.568556\n",
            "17                fwd iat total    925.240672\n",
            "12        bwd packet length std    817.225309\n",
            "19                bwd iat total    795.115953\n",
            "16                 flow iat max    791.040571\n",
            "15                 flow iat std    753.250690\n",
            "18                  fwd iat max    721.908050\n"
          ],
          "name": "stdout"
        }
      ]
    },
    {
      "cell_type": "markdown",
      "metadata": {
        "id": "t4IT_gUc6LjV"
      },
      "source": [
        "### **Feature Selection using RFE and Random forest as it's method**"
      ]
    },
    {
      "cell_type": "code",
      "metadata": {
        "colab": {
          "base_uri": "https://localhost:8080/"
        },
        "id": "x_c6Mn0M6MzO",
        "outputId": "af120283-59a6-4274-88c6-f1ff17e0ec95"
      },
      "source": [
        "clf = RandomForestClassifier()\n",
        "rfe = RFE(clf, n_features_to_select=40)\n",
        "y = y.astype('int')\n",
        "rfe.fit(X, y)"
      ],
      "execution_count": null,
      "outputs": [
        {
          "output_type": "execute_result",
          "data": {
            "text/plain": [
              "RFE(estimator=RandomForestClassifier(bootstrap=True, ccp_alpha=0.0,\n",
              "                                     class_weight=None, criterion='gini',\n",
              "                                     max_depth=None, max_features='auto',\n",
              "                                     max_leaf_nodes=None, max_samples=None,\n",
              "                                     min_impurity_decrease=0.0,\n",
              "                                     min_impurity_split=None,\n",
              "                                     min_samples_leaf=1, min_samples_split=2,\n",
              "                                     min_weight_fraction_leaf=0.0,\n",
              "                                     n_estimators=100, n_jobs=None,\n",
              "                                     oob_score=False, random_state=None,\n",
              "                                     verbose=0, warm_start=False),\n",
              "    n_features_to_select=40, step=1, verbose=0)"
            ]
          },
          "metadata": {
            "tags": []
          },
          "execution_count": 10
        }
      ]
    },
    {
      "cell_type": "code",
      "metadata": {
        "colab": {
          "base_uri": "https://localhost:8080/"
        },
        "id": "eF4kND487mHh",
        "outputId": "8b534ad5-3df2-4d1d-b309-8ba9bb60e8f9"
      },
      "source": [
        "print(rfe.support_)\n",
        "print(rfe.ranking_)"
      ],
      "execution_count": null,
      "outputs": [
        {
          "output_type": "stream",
          "text": [
            "[ True  True  True  True  True  True  True  True False  True  True  True\n",
            " False False False False False  True  True  True  True  True  True  True\n",
            "  True  True  True  True  True False False False False False False False\n",
            " False  True  True  True  True  True  True  True False False False False\n",
            " False False False False False False  True  True False False False False\n",
            " False False False  True  True  True False  True  True  True  True False\n",
            " False False False False False False False  True]\n",
            "[ 1  1  1  1  1  1  1  1 17  1  1  1 13 11  8 21 20  1  1  1  1  1  1  1\n",
            "  1  1  1  1  1  6  7  4  9 19 32 39 33  1  1  1  1  1  1  1  2 31 24 23\n",
            " 30 10  3 16 40  5  1  1 14 38 34 41 35 37 36  1  1  1 12  1  1  1  1 18\n",
            " 29 15 22 28 27 25 26  1]\n"
          ],
          "name": "stdout"
        }
      ]
    },
    {
      "cell_type": "code",
      "metadata": {
        "colab": {
          "base_uri": "https://localhost:8080/"
        },
        "id": "JI1Raemx7qX4",
        "outputId": "0ba2af66-afb9-4058-d43c-3a5d52db4323"
      },
      "source": [
        "names = X.columns.values[rfe.get_support()]\n",
        "scores = rfe.ranking_[rfe.get_support()]\n",
        "names_scores = list(zip(names, scores))\n",
        "ns_df = pd.DataFrame(data = names_scores, columns=['Feat_names', 'F_Scores'])\n",
        "#Sort the dataframe for better visualization\n",
        "ns_df_sorted = ns_df.sort_values(['F_Scores', 'Feat_names'], ascending = [False, True])\n",
        "print(ns_df_sorted)\n",
        "ns_df_sorted.to_excel('multiRFE.xlsx')"
      ],
      "execution_count": null,
      "outputs": [
        {
          "output_type": "stream",
          "text": [
            "                     Feat_names  F_Scores\n",
            "37             act_data_pkt_fwd         1\n",
            "30          average packet size         1\n",
            "31         avg fwd segment size         1\n",
            "23            bwd header length         1\n",
            "22                bwd iat total         1\n",
            "25                bwd packets/s         1\n",
            "2              destination port         1\n",
            "11                 flow bytes/s         1\n",
            "4                 flow duration         1\n",
            "15                 flow iat max         1\n",
            "13                flow iat mean         1\n",
            "16                 flow iat min         1\n",
            "14                 flow iat std         1\n",
            "12               flow packets/s         1\n",
            "20                  fwd iat max         1\n",
            "18                 fwd iat mean         1\n",
            "21                  fwd iat min         1\n",
            "19                  fwd iat std         1\n",
            "17                fwd iat total         1\n",
            "8         fwd packet length max         1\n",
            "10       fwd packet length mean         1\n",
            "9         fwd packet length min         1\n",
            "24                fwd packets/s         1\n",
            "39                      inbound         1\n",
            "36      init_win_bytes_backward         1\n",
            "35       init_win_bytes_forward         1\n",
            "27            max packet length         1\n",
            "26            min packet length         1\n",
            "38         min_seg_size_forward         1\n",
            "28           packet length mean         1\n",
            "29            packet length std         1\n",
            "3                      protocol         1\n",
            "1                   source port         1\n",
            "34          subflow bwd packets         1\n",
            "33            subflow fwd bytes         1\n",
            "32          subflow fwd packets         1\n",
            "6        total backward packets         1\n",
            "5             total fwd packets         1\n",
            "7   total length of fwd packets         1\n",
            "0                    unnamed: 0         1\n"
          ],
          "name": "stdout"
        }
      ]
    },
    {
      "cell_type": "code",
      "metadata": {
        "colab": {
          "base_uri": "https://localhost:8080/"
        },
        "id": "lUX1jIHgcqMt",
        "outputId": "6c4e0a08-5757-4c0c-cbe5-9383affaf7a4"
      },
      "source": [
        "names = X.columns.values[rfe.get_support()]\n",
        "scores = rfe.estimator_.feature_importances_\n",
        "names_scores = list(zip(names, scores))\n",
        "ns_df = pd.DataFrame(data = names_scores, columns=['Feat_names', 'F_Scores'])\n",
        "#Sort the dataframe for better visualization\n",
        "ns_df_sorted = ns_df.sort_values(['F_Scores', 'Feat_names'], ascending = [False, True])\n",
        "print(ns_df_sorted)\n",
        "ns_df_sorted.to_excel('multiRFEscore.xlsx')"
      ],
      "execution_count": null,
      "outputs": [
        {
          "output_type": "stream",
          "text": [
            "                     Feat_names  F_Scores\n",
            "1                   source port  0.155529\n",
            "0                    unnamed: 0  0.123280\n",
            "31         avg fwd segment size  0.075087\n",
            "26            min packet length  0.056841\n",
            "10       fwd packet length mean  0.051492\n",
            "9         fwd packet length min  0.050787\n",
            "8         fwd packet length max  0.042727\n",
            "30          average packet size  0.041894\n",
            "28           packet length mean  0.038435\n",
            "38         min_seg_size_forward  0.034779\n",
            "27            max packet length  0.034671\n",
            "2              destination port  0.029060\n",
            "11                 flow bytes/s  0.027933\n",
            "33            subflow fwd bytes  0.027761\n",
            "7   total length of fwd packets  0.024003\n",
            "4                 flow duration  0.015484\n",
            "24                fwd packets/s  0.014224\n",
            "14                 flow iat std  0.013881\n",
            "39                      inbound  0.012040\n",
            "19                  fwd iat std  0.011171\n",
            "32          subflow fwd packets  0.010721\n",
            "15                 flow iat max  0.010661\n",
            "12               flow packets/s  0.010070\n",
            "37             act_data_pkt_fwd  0.009844\n",
            "13                flow iat mean  0.009085\n",
            "17                fwd iat total  0.008219\n",
            "35       init_win_bytes_forward  0.007847\n",
            "25                bwd packets/s  0.007143\n",
            "23            bwd header length  0.007106\n",
            "5             total fwd packets  0.006382\n",
            "20                  fwd iat max  0.005337\n",
            "36      init_win_bytes_backward  0.004356\n",
            "6        total backward packets  0.003734\n",
            "22                bwd iat total  0.003205\n",
            "16                 flow iat min  0.003126\n",
            "34          subflow bwd packets  0.002704\n",
            "18                 fwd iat mean  0.002653\n",
            "29            packet length std  0.002453\n",
            "21                  fwd iat min  0.002206\n",
            "3                      protocol  0.002069\n"
          ],
          "name": "stdout"
        }
      ]
    },
    {
      "cell_type": "code",
      "metadata": {
        "colab": {
          "base_uri": "https://localhost:8080/",
          "height": 419
        },
        "id": "6-fXZZ427zRN",
        "outputId": "4a01c315-ec55-417a-fde2-b0f1c2220135"
      },
      "source": [
        "pd.DataFrame(rfe.support_,index=X.columns,columns=['important'])"
      ],
      "execution_count": null,
      "outputs": [
        {
          "output_type": "execute_result",
          "data": {
            "text/html": [
              "<div>\n",
              "<style scoped>\n",
              "    .dataframe tbody tr th:only-of-type {\n",
              "        vertical-align: middle;\n",
              "    }\n",
              "\n",
              "    .dataframe tbody tr th {\n",
              "        vertical-align: top;\n",
              "    }\n",
              "\n",
              "    .dataframe thead th {\n",
              "        text-align: right;\n",
              "    }\n",
              "</style>\n",
              "<table border=\"1\" class=\"dataframe\">\n",
              "  <thead>\n",
              "    <tr style=\"text-align: right;\">\n",
              "      <th></th>\n",
              "      <th>important</th>\n",
              "    </tr>\n",
              "  </thead>\n",
              "  <tbody>\n",
              "    <tr>\n",
              "      <th>unnamed: 0</th>\n",
              "      <td>True</td>\n",
              "    </tr>\n",
              "    <tr>\n",
              "      <th>source port</th>\n",
              "      <td>True</td>\n",
              "    </tr>\n",
              "    <tr>\n",
              "      <th>destination port</th>\n",
              "      <td>True</td>\n",
              "    </tr>\n",
              "    <tr>\n",
              "      <th>protocol</th>\n",
              "      <td>True</td>\n",
              "    </tr>\n",
              "    <tr>\n",
              "      <th>flow duration</th>\n",
              "      <td>True</td>\n",
              "    </tr>\n",
              "    <tr>\n",
              "      <th>...</th>\n",
              "      <td>...</td>\n",
              "    </tr>\n",
              "    <tr>\n",
              "      <th>idle mean</th>\n",
              "      <td>False</td>\n",
              "    </tr>\n",
              "    <tr>\n",
              "      <th>idle std</th>\n",
              "      <td>False</td>\n",
              "    </tr>\n",
              "    <tr>\n",
              "      <th>idle max</th>\n",
              "      <td>False</td>\n",
              "    </tr>\n",
              "    <tr>\n",
              "      <th>idle min</th>\n",
              "      <td>False</td>\n",
              "    </tr>\n",
              "    <tr>\n",
              "      <th>inbound</th>\n",
              "      <td>True</td>\n",
              "    </tr>\n",
              "  </tbody>\n",
              "</table>\n",
              "<p>80 rows × 1 columns</p>\n",
              "</div>"
            ],
            "text/plain": [
              "                  important\n",
              "unnamed: 0             True\n",
              "source port            True\n",
              "destination port       True\n",
              "protocol               True\n",
              "flow duration          True\n",
              "...                     ...\n",
              "idle mean             False\n",
              "idle std              False\n",
              "idle max              False\n",
              "idle min              False\n",
              "inbound                True\n",
              "\n",
              "[80 rows x 1 columns]"
            ]
          },
          "metadata": {
            "tags": []
          },
          "execution_count": 20
        }
      ]
    },
    {
      "cell_type": "markdown",
      "metadata": {
        "id": "EsuGRDS_74_j"
      },
      "source": [
        "### **Feature Selection using Random forest**"
      ]
    },
    {
      "cell_type": "code",
      "metadata": {
        "colab": {
          "base_uri": "https://localhost:8080/"
        },
        "id": "KEIdGV2K76FY",
        "outputId": "67684b1d-5999-4cea-b0de-78d6a113d6e8"
      },
      "source": [
        "RF_model = RandomForestClassifier()\n",
        "RF_model.fit(X,y)"
      ],
      "execution_count": null,
      "outputs": [
        {
          "output_type": "execute_result",
          "data": {
            "text/plain": [
              "RandomForestClassifier(bootstrap=True, ccp_alpha=0.0, class_weight=None,\n",
              "                       criterion='gini', max_depth=None, max_features='auto',\n",
              "                       max_leaf_nodes=None, max_samples=None,\n",
              "                       min_impurity_decrease=0.0, min_impurity_split=None,\n",
              "                       min_samples_leaf=1, min_samples_split=2,\n",
              "                       min_weight_fraction_leaf=0.0, n_estimators=100,\n",
              "                       n_jobs=None, oob_score=False, random_state=None,\n",
              "                       verbose=0, warm_start=False)"
            ]
          },
          "metadata": {
            "tags": []
          },
          "execution_count": 21
        }
      ]
    },
    {
      "cell_type": "code",
      "metadata": {
        "colab": {
          "base_uri": "https://localhost:8080/"
        },
        "id": "OGOZ_cEf8V7z",
        "outputId": "efcd1117-4436-48d0-c374-1861f671ebe7"
      },
      "source": [
        "names = X.columns.values[rfe.get_support()]\n",
        "scores = RF_model.feature_importances_\n",
        "names_scores = list(zip(names, scores))\n",
        "ns_df = pd.DataFrame(data = names_scores, columns=['Feat_names', 'F_Scores'])\n",
        "#Sort the dataframe for better visualization\n",
        "ns_df_sorted = ns_df.sort_values(['F_Scores', 'Feat_names'], ascending = [False, True])\n",
        "print(ns_df_sorted)\n",
        "ns_df_sorted.to_excel('multiRF.xlsx')"
      ],
      "execution_count": null,
      "outputs": [
        {
          "output_type": "stream",
          "text": [
            "                     Feat_names  F_Scores\n",
            "1                   source port  0.138221\n",
            "0                    unnamed: 0  0.110655\n",
            "10       fwd packet length mean  0.043973\n",
            "7   total length of fwd packets  0.041650\n",
            "11                 flow bytes/s  0.036292\n",
            "9         fwd packet length min  0.031901\n",
            "2              destination port  0.030950\n",
            "17                fwd iat total  0.026078\n",
            "4                 flow duration  0.025687\n",
            "21                  fwd iat min  0.023253\n",
            "18                 fwd iat mean  0.014772\n",
            "38         min_seg_size_forward  0.014216\n",
            "25                bwd packets/s  0.013722\n",
            "20                  fwd iat max  0.009461\n",
            "19                  fwd iat std  0.008928\n",
            "5             total fwd packets  0.008901\n",
            "24                fwd packets/s  0.006678\n",
            "6        total backward packets  0.006051\n",
            "23            bwd header length  0.005349\n",
            "29            packet length std  0.004931\n",
            "39                      inbound  0.004733\n",
            "26            min packet length  0.004210\n",
            "37             act_data_pkt_fwd  0.003614\n",
            "31         avg fwd segment size  0.003128\n",
            "22                bwd iat total  0.002323\n",
            "27            max packet length  0.002316\n",
            "28           packet length mean  0.001980\n",
            "3                      protocol  0.001791\n",
            "32          subflow fwd packets  0.001516\n",
            "15                 flow iat max  0.001014\n",
            "16                 flow iat min  0.000871\n",
            "13                flow iat mean  0.000848\n",
            "8         fwd packet length max  0.000499\n",
            "30          average packet size  0.000492\n",
            "14                 flow iat std  0.000483\n",
            "12               flow packets/s  0.000435\n",
            "33            subflow fwd bytes  0.000250\n",
            "36      init_win_bytes_backward  0.000000\n",
            "35       init_win_bytes_forward  0.000000\n",
            "34          subflow bwd packets  0.000000\n"
          ],
          "name": "stdout"
        }
      ]
    },
    {
      "cell_type": "markdown",
      "metadata": {
        "id": "9D44szk2FHhD"
      },
      "source": [
        "### **Feature selection using RFE with Decision tree as estimator**"
      ]
    },
    {
      "cell_type": "code",
      "metadata": {
        "colab": {
          "base_uri": "https://localhost:8080/"
        },
        "id": "zwdhaxkoFLBF",
        "outputId": "0d7641ae-8a41-4c2d-bbbf-d57b52d34862"
      },
      "source": [
        "DT_clf = DecisionTreeClassifier()\n",
        "rfe = RFE(DT_clf, n_features_to_select=40)\n",
        "y = y.astype('int')\n",
        "rfe.fit(X, y)"
      ],
      "execution_count": null,
      "outputs": [
        {
          "output_type": "execute_result",
          "data": {
            "text/plain": [
              "RFE(estimator=DecisionTreeClassifier(ccp_alpha=0.0, class_weight=None,\n",
              "                                     criterion='gini', max_depth=None,\n",
              "                                     max_features=None, max_leaf_nodes=None,\n",
              "                                     min_impurity_decrease=0.0,\n",
              "                                     min_impurity_split=None,\n",
              "                                     min_samples_leaf=1, min_samples_split=2,\n",
              "                                     min_weight_fraction_leaf=0.0,\n",
              "                                     presort='deprecated', random_state=None,\n",
              "                                     splitter='best'),\n",
              "    n_features_to_select=40, step=1, verbose=0)"
            ]
          },
          "metadata": {
            "tags": []
          },
          "execution_count": 14
        }
      ]
    },
    {
      "cell_type": "code",
      "metadata": {
        "colab": {
          "base_uri": "https://localhost:8080/"
        },
        "id": "J3GfNl0HFMB6",
        "outputId": "12795830-bbce-40ed-fe7b-993424cef1f6"
      },
      "source": [
        "names = X.columns.values[rfe.get_support()]\n",
        "scores = rfe.ranking_[rfe.get_support()]\n",
        "names_scores = list(zip(names, scores))\n",
        "ns_df = pd.DataFrame(data = names_scores, columns=['Feat_names', 'F_Scores'])\n",
        "#Sort the dataframe for better visualization\n",
        "ns_df_sorted = ns_df.sort_values(['F_Scores', 'Feat_names'], ascending = [False, True])\n",
        "print(ns_df_sorted)\n",
        "ns_df_sorted.to_excel('multiRFE_DT.xlsx')"
      ],
      "execution_count": null,
      "outputs": [
        {
          "output_type": "stream",
          "text": [
            "                     Feat_names  F_Scores\n",
            "30               ack flag count         1\n",
            "39                   active min         1\n",
            "32          average packet size         1\n",
            "33         avg fwd segment size         1\n",
            "22                  bwd iat max         1\n",
            "23                  bwd iat min         1\n",
            "21                  bwd iat std         1\n",
            "20                bwd iat total         1\n",
            "9         bwd packet length min         1\n",
            "25                bwd packets/s         1\n",
            "2              destination port         1\n",
            "31                down/up ratio         1\n",
            "10                 flow bytes/s         1\n",
            "3                 flow duration         1\n",
            "13                 flow iat max         1\n",
            "12                flow iat mean         1\n",
            "14                 flow iat min         1\n",
            "11               flow packets/s         1\n",
            "18                  fwd iat max         1\n",
            "16                 fwd iat mean         1\n",
            "19                  fwd iat min         1\n",
            "17                  fwd iat std         1\n",
            "15                fwd iat total         1\n",
            "6         fwd packet length max         1\n",
            "8        fwd packet length mean         1\n",
            "7         fwd packet length min         1\n",
            "24                fwd packets/s         1\n",
            "37      init_win_bytes_backward         1\n",
            "36       init_win_bytes_forward         1\n",
            "27            max packet length         1\n",
            "26            min packet length         1\n",
            "38         min_seg_size_forward         1\n",
            "28           packet length mean         1\n",
            "1                   source port         1\n",
            "35          subflow bwd packets         1\n",
            "34            subflow fwd bytes         1\n",
            "29               syn flag count         1\n",
            "4             total fwd packets         1\n",
            "5   total length of fwd packets         1\n",
            "0                    unnamed: 0         1\n"
          ],
          "name": "stdout"
        }
      ]
    },
    {
      "cell_type": "code",
      "metadata": {
        "colab": {
          "base_uri": "https://localhost:8080/"
        },
        "id": "mVqcPiCmeQz2",
        "outputId": "de5bf348-2cc3-4823-d64e-cf17d3bfd269"
      },
      "source": [
        "names = X.columns.values[rfe.get_support()]\n",
        "scores = rfe.estimator_.feature_importances_\n",
        "names_scores = list(zip(names, scores))\n",
        "ns_df = pd.DataFrame(data = names_scores, columns=['Feat_names', 'F_Scores'])\n",
        "#Sort the dataframe for better visualization\n",
        "ns_df_sorted = ns_df.sort_values(['F_Scores', 'Feat_names'], ascending = [False, True])\n",
        "print(ns_df_sorted)\n",
        "ns_df_sorted.to_excel('multiRFE_DT_score.xlsx')"
      ],
      "execution_count": null,
      "outputs": [
        {
          "output_type": "stream",
          "text": [
            "                     Feat_names  F_Scores\n",
            "1                   source port  0.285845\n",
            "8        fwd packet length mean  0.173971\n",
            "7         fwd packet length min  0.172540\n",
            "32          average packet size  0.144859\n",
            "0                    unnamed: 0  0.111438\n",
            "38         min_seg_size_forward  0.040632\n",
            "9         bwd packet length min  0.019751\n",
            "2              destination port  0.019667\n",
            "37      init_win_bytes_backward  0.011144\n",
            "10                 flow bytes/s  0.002832\n",
            "22                  bwd iat max  0.002114\n",
            "25                bwd packets/s  0.001482\n",
            "31                down/up ratio  0.001402\n",
            "34            subflow fwd bytes  0.001294\n",
            "39                   active min  0.001248\n",
            "35          subflow bwd packets  0.001218\n",
            "12                flow iat mean  0.000751\n",
            "5   total length of fwd packets  0.000735\n",
            "24                fwd packets/s  0.000697\n",
            "3                 flow duration  0.000624\n",
            "14                 flow iat min  0.000562\n",
            "15                fwd iat total  0.000559\n",
            "27            max packet length  0.000514\n",
            "26            min packet length  0.000405\n",
            "16                 fwd iat mean  0.000340\n",
            "23                  bwd iat min  0.000333\n",
            "11               flow packets/s  0.000332\n",
            "6         fwd packet length max  0.000303\n",
            "19                  fwd iat min  0.000302\n",
            "13                 flow iat max  0.000302\n",
            "28           packet length mean  0.000300\n",
            "4             total fwd packets  0.000285\n",
            "18                  fwd iat max  0.000277\n",
            "36       init_win_bytes_forward  0.000264\n",
            "33         avg fwd segment size  0.000202\n",
            "30               ack flag count  0.000150\n",
            "17                  fwd iat std  0.000136\n",
            "29               syn flag count  0.000112\n",
            "21                  bwd iat std  0.000048\n",
            "20                bwd iat total  0.000030\n"
          ],
          "name": "stdout"
        }
      ]
    },
    {
      "cell_type": "markdown",
      "metadata": {
        "id": "LzX5F0_qA_5F"
      },
      "source": [
        "# **K-FOLD CROSS VALIDATION**"
      ]
    },
    {
      "cell_type": "code",
      "metadata": {
        "colab": {
          "base_uri": "https://localhost:8080/",
          "height": 1000
        },
        "id": "mzEmCDw6BEpg",
        "outputId": "49445767-bb83-4c9e-84ab-c164e0bd0b72"
      },
      "source": [
        "#features kept by the Random forest features selection\n",
        "colums_to_keep = ['flow packets/s', 'flow iat mean', 'flow bytes/s', 'fwd packet length min', 'init_win_bytes_backward', 'fwd iat std', 'flow duration',\n",
        " 'inbound', 'average packet size', 'destination port', 'fwd packet length mean', 'min_seg_size_forward', 'fwd iat max',\n",
        " 'packet length std', 'bwd iat max', 'bwd packet length max', 'packet length variance', 'total backward packets',\n",
        " 'bwd iat mean','fwd iat total', 'bwd iat total', 'total length of fwd packets', 'flow iat max', 'max packet length', \n",
        " 'flow iat std', 'fwd packets/s', 'fwd packet length max', 'bwd packets/s', 'bwd header length', 'packet length mean',\n",
        " 'flow iat min', 'urg flag count', 'fwd iat mean', 'min packet length', 'source port', 'avg fwd segment size', 'subflow fwd packets',\n",
        " 'init_win_bytes_forward', 'subflow bwd packets', 'subflow fwd bytes', 'label']\n",
        "\n",
        "df_filtered = df.reindex(columns = colums_to_keep)\n",
        "\n",
        "df_filtered['label'] = df_filtered['label'].astype(int)\n",
        "print(df_filtered.shape)\n",
        "print(df_filtered.dtypes)\n",
        "\n",
        "df_filtered.head()"
      ],
      "execution_count": null,
      "outputs": [
        {
          "output_type": "stream",
          "text": [
            "(59304, 41)\n",
            "flow packets/s                 float64\n",
            "flow iat mean                  float64\n",
            "flow bytes/s                   float64\n",
            "fwd packet length min          float64\n",
            "init_win_bytes_backward        float64\n",
            "fwd iat std                    float64\n",
            "flow duration                  float64\n",
            "inbound                        float64\n",
            "average packet size            float64\n",
            "destination port               float64\n",
            "fwd packet length mean         float64\n",
            "min_seg_size_forward           float64\n",
            "fwd iat max                    float64\n",
            "packet length std              float64\n",
            "bwd iat max                    float64\n",
            "bwd packet length max          float64\n",
            "packet length variance         float64\n",
            "total backward packets         float64\n",
            "bwd iat mean                   float64\n",
            "fwd iat total                  float64\n",
            "bwd iat total                  float64\n",
            "total length of fwd packets    float64\n",
            "flow iat max                   float64\n",
            "max packet length              float64\n",
            "flow iat std                   float64\n",
            "fwd packets/s                  float64\n",
            "fwd packet length max          float64\n",
            "bwd packets/s                  float64\n",
            "bwd header length              float64\n",
            "packet length mean             float64\n",
            "flow iat min                   float64\n",
            "urg flag count                 float64\n",
            "fwd iat mean                   float64\n",
            "min packet length              float64\n",
            "source port                    float64\n",
            "avg fwd segment size           float64\n",
            "subflow fwd packets            float64\n",
            "init_win_bytes_forward         float64\n",
            "subflow bwd packets            float64\n",
            "subflow fwd bytes              float64\n",
            "label                            int64\n",
            "dtype: object\n"
          ],
          "name": "stdout"
        },
        {
          "output_type": "execute_result",
          "data": {
            "text/html": [
              "<div>\n",
              "<style scoped>\n",
              "    .dataframe tbody tr th:only-of-type {\n",
              "        vertical-align: middle;\n",
              "    }\n",
              "\n",
              "    .dataframe tbody tr th {\n",
              "        vertical-align: top;\n",
              "    }\n",
              "\n",
              "    .dataframe thead th {\n",
              "        text-align: right;\n",
              "    }\n",
              "</style>\n",
              "<table border=\"1\" class=\"dataframe\">\n",
              "  <thead>\n",
              "    <tr style=\"text-align: right;\">\n",
              "      <th></th>\n",
              "      <th>flow packets/s</th>\n",
              "      <th>flow iat mean</th>\n",
              "      <th>flow bytes/s</th>\n",
              "      <th>fwd packet length min</th>\n",
              "      <th>init_win_bytes_backward</th>\n",
              "      <th>fwd iat std</th>\n",
              "      <th>flow duration</th>\n",
              "      <th>inbound</th>\n",
              "      <th>average packet size</th>\n",
              "      <th>destination port</th>\n",
              "      <th>fwd packet length mean</th>\n",
              "      <th>min_seg_size_forward</th>\n",
              "      <th>fwd iat max</th>\n",
              "      <th>packet length std</th>\n",
              "      <th>bwd iat max</th>\n",
              "      <th>bwd packet length max</th>\n",
              "      <th>packet length variance</th>\n",
              "      <th>total backward packets</th>\n",
              "      <th>bwd iat mean</th>\n",
              "      <th>fwd iat total</th>\n",
              "      <th>bwd iat total</th>\n",
              "      <th>total length of fwd packets</th>\n",
              "      <th>flow iat max</th>\n",
              "      <th>max packet length</th>\n",
              "      <th>flow iat std</th>\n",
              "      <th>fwd packets/s</th>\n",
              "      <th>fwd packet length max</th>\n",
              "      <th>bwd packets/s</th>\n",
              "      <th>bwd header length</th>\n",
              "      <th>packet length mean</th>\n",
              "      <th>flow iat min</th>\n",
              "      <th>urg flag count</th>\n",
              "      <th>fwd iat mean</th>\n",
              "      <th>min packet length</th>\n",
              "      <th>source port</th>\n",
              "      <th>avg fwd segment size</th>\n",
              "      <th>subflow fwd packets</th>\n",
              "      <th>init_win_bytes_forward</th>\n",
              "      <th>subflow bwd packets</th>\n",
              "      <th>subflow fwd bytes</th>\n",
              "      <th>label</th>\n",
              "    </tr>\n",
              "  </thead>\n",
              "  <tbody>\n",
              "    <tr>\n",
              "      <th>0</th>\n",
              "      <td>3413.689952</td>\n",
              "      <td>295.989583</td>\n",
              "      <td>1.502024e+06</td>\n",
              "      <td>440.0</td>\n",
              "      <td>-1.0</td>\n",
              "      <td>500.959301</td>\n",
              "      <td>28415.0</td>\n",
              "      <td>1.0</td>\n",
              "      <td>444.536082</td>\n",
              "      <td>60495.0</td>\n",
              "      <td>440.0</td>\n",
              "      <td>-1.0</td>\n",
              "      <td>3596.0</td>\n",
              "      <td>0.0</td>\n",
              "      <td>0.0</td>\n",
              "      <td>0.0</td>\n",
              "      <td>0.0</td>\n",
              "      <td>0.0</td>\n",
              "      <td>0.0</td>\n",
              "      <td>28415.0</td>\n",
              "      <td>0.0</td>\n",
              "      <td>42680.0</td>\n",
              "      <td>3596.0</td>\n",
              "      <td>440.0</td>\n",
              "      <td>500.959301</td>\n",
              "      <td>3413.689952</td>\n",
              "      <td>440.0</td>\n",
              "      <td>0.0</td>\n",
              "      <td>0.0</td>\n",
              "      <td>440.0</td>\n",
              "      <td>1.0</td>\n",
              "      <td>0.0</td>\n",
              "      <td>295.989583</td>\n",
              "      <td>440.0</td>\n",
              "      <td>634.0</td>\n",
              "      <td>440.0</td>\n",
              "      <td>97.0</td>\n",
              "      <td>-1.0</td>\n",
              "      <td>0.0</td>\n",
              "      <td>42680.0</td>\n",
              "      <td>1</td>\n",
              "    </tr>\n",
              "    <tr>\n",
              "      <th>1</th>\n",
              "      <td>1000000.000000</td>\n",
              "      <td>2.000000</td>\n",
              "      <td>4.400000e+08</td>\n",
              "      <td>440.0</td>\n",
              "      <td>-1.0</td>\n",
              "      <td>0.000000</td>\n",
              "      <td>2.0</td>\n",
              "      <td>0.0</td>\n",
              "      <td>660.000000</td>\n",
              "      <td>60495.0</td>\n",
              "      <td>440.0</td>\n",
              "      <td>-1.0</td>\n",
              "      <td>2.0</td>\n",
              "      <td>0.0</td>\n",
              "      <td>0.0</td>\n",
              "      <td>0.0</td>\n",
              "      <td>0.0</td>\n",
              "      <td>0.0</td>\n",
              "      <td>0.0</td>\n",
              "      <td>2.0</td>\n",
              "      <td>0.0</td>\n",
              "      <td>880.0</td>\n",
              "      <td>2.0</td>\n",
              "      <td>440.0</td>\n",
              "      <td>0.000000</td>\n",
              "      <td>1000000.000000</td>\n",
              "      <td>440.0</td>\n",
              "      <td>0.0</td>\n",
              "      <td>0.0</td>\n",
              "      <td>440.0</td>\n",
              "      <td>2.0</td>\n",
              "      <td>0.0</td>\n",
              "      <td>2.000000</td>\n",
              "      <td>440.0</td>\n",
              "      <td>634.0</td>\n",
              "      <td>440.0</td>\n",
              "      <td>2.0</td>\n",
              "      <td>-1.0</td>\n",
              "      <td>0.0</td>\n",
              "      <td>880.0</td>\n",
              "      <td>1</td>\n",
              "    </tr>\n",
              "    <tr>\n",
              "      <th>2</th>\n",
              "      <td>4119.549321</td>\n",
              "      <td>243.964824</td>\n",
              "      <td>1.812602e+06</td>\n",
              "      <td>440.0</td>\n",
              "      <td>-1.0</td>\n",
              "      <td>578.101371</td>\n",
              "      <td>48549.0</td>\n",
              "      <td>1.0</td>\n",
              "      <td>442.200000</td>\n",
              "      <td>46391.0</td>\n",
              "      <td>440.0</td>\n",
              "      <td>-1.0</td>\n",
              "      <td>5418.0</td>\n",
              "      <td>0.0</td>\n",
              "      <td>0.0</td>\n",
              "      <td>0.0</td>\n",
              "      <td>0.0</td>\n",
              "      <td>0.0</td>\n",
              "      <td>0.0</td>\n",
              "      <td>48549.0</td>\n",
              "      <td>0.0</td>\n",
              "      <td>88000.0</td>\n",
              "      <td>5418.0</td>\n",
              "      <td>440.0</td>\n",
              "      <td>578.101371</td>\n",
              "      <td>4119.549321</td>\n",
              "      <td>440.0</td>\n",
              "      <td>0.0</td>\n",
              "      <td>0.0</td>\n",
              "      <td>440.0</td>\n",
              "      <td>1.0</td>\n",
              "      <td>0.0</td>\n",
              "      <td>243.964824</td>\n",
              "      <td>440.0</td>\n",
              "      <td>634.0</td>\n",
              "      <td>440.0</td>\n",
              "      <td>200.0</td>\n",
              "      <td>-1.0</td>\n",
              "      <td>0.0</td>\n",
              "      <td>88000.0</td>\n",
              "      <td>1</td>\n",
              "    </tr>\n",
              "    <tr>\n",
              "      <th>3</th>\n",
              "      <td>4137.617146</td>\n",
              "      <td>242.899497</td>\n",
              "      <td>1.820552e+06</td>\n",
              "      <td>440.0</td>\n",
              "      <td>-1.0</td>\n",
              "      <td>485.292695</td>\n",
              "      <td>48337.0</td>\n",
              "      <td>1.0</td>\n",
              "      <td>442.200000</td>\n",
              "      <td>11894.0</td>\n",
              "      <td>440.0</td>\n",
              "      <td>-1.0</td>\n",
              "      <td>3337.0</td>\n",
              "      <td>0.0</td>\n",
              "      <td>0.0</td>\n",
              "      <td>0.0</td>\n",
              "      <td>0.0</td>\n",
              "      <td>0.0</td>\n",
              "      <td>0.0</td>\n",
              "      <td>48337.0</td>\n",
              "      <td>0.0</td>\n",
              "      <td>88000.0</td>\n",
              "      <td>3337.0</td>\n",
              "      <td>440.0</td>\n",
              "      <td>485.292695</td>\n",
              "      <td>4137.617146</td>\n",
              "      <td>440.0</td>\n",
              "      <td>0.0</td>\n",
              "      <td>0.0</td>\n",
              "      <td>440.0</td>\n",
              "      <td>1.0</td>\n",
              "      <td>0.0</td>\n",
              "      <td>242.899497</td>\n",
              "      <td>440.0</td>\n",
              "      <td>634.0</td>\n",
              "      <td>440.0</td>\n",
              "      <td>200.0</td>\n",
              "      <td>-1.0</td>\n",
              "      <td>0.0</td>\n",
              "      <td>88000.0</td>\n",
              "      <td>1</td>\n",
              "    </tr>\n",
              "    <tr>\n",
              "      <th>4</th>\n",
              "      <td>6244.925998</td>\n",
              "      <td>160.934673</td>\n",
              "      <td>2.747767e+06</td>\n",
              "      <td>440.0</td>\n",
              "      <td>-1.0</td>\n",
              "      <td>196.891271</td>\n",
              "      <td>32026.0</td>\n",
              "      <td>1.0</td>\n",
              "      <td>442.200000</td>\n",
              "      <td>27878.0</td>\n",
              "      <td>440.0</td>\n",
              "      <td>-1.0</td>\n",
              "      <td>1236.0</td>\n",
              "      <td>0.0</td>\n",
              "      <td>0.0</td>\n",
              "      <td>0.0</td>\n",
              "      <td>0.0</td>\n",
              "      <td>0.0</td>\n",
              "      <td>0.0</td>\n",
              "      <td>32026.0</td>\n",
              "      <td>0.0</td>\n",
              "      <td>88000.0</td>\n",
              "      <td>1236.0</td>\n",
              "      <td>440.0</td>\n",
              "      <td>196.891271</td>\n",
              "      <td>6244.925998</td>\n",
              "      <td>440.0</td>\n",
              "      <td>0.0</td>\n",
              "      <td>0.0</td>\n",
              "      <td>440.0</td>\n",
              "      <td>0.0</td>\n",
              "      <td>0.0</td>\n",
              "      <td>160.934673</td>\n",
              "      <td>440.0</td>\n",
              "      <td>634.0</td>\n",
              "      <td>440.0</td>\n",
              "      <td>200.0</td>\n",
              "      <td>-1.0</td>\n",
              "      <td>0.0</td>\n",
              "      <td>88000.0</td>\n",
              "      <td>1</td>\n",
              "    </tr>\n",
              "  </tbody>\n",
              "</table>\n",
              "</div>"
            ],
            "text/plain": [
              "   flow packets/s  flow iat mean  ...  subflow fwd bytes  label\n",
              "0     3413.689952     295.989583  ...            42680.0      1\n",
              "1  1000000.000000       2.000000  ...              880.0      1\n",
              "2     4119.549321     243.964824  ...            88000.0      1\n",
              "3     4137.617146     242.899497  ...            88000.0      1\n",
              "4     6244.925998     160.934673  ...            88000.0      1\n",
              "\n",
              "[5 rows x 41 columns]"
            ]
          },
          "metadata": {
            "tags": []
          },
          "execution_count": 10
        }
      ]
    },
    {
      "cell_type": "code",
      "metadata": {
        "id": "9qjKRi7TGZmB"
      },
      "source": [
        "X = df_filtered.iloc[:, 0:40]\n",
        "y = df_filtered.iloc[:, 40]"
      ],
      "execution_count": null,
      "outputs": []
    },
    {
      "cell_type": "markdown",
      "metadata": {
        "id": "mdxgr-DQGFId"
      },
      "source": [
        "### Decision tree classification "
      ]
    },
    {
      "cell_type": "code",
      "metadata": {
        "colab": {
          "base_uri": "https://localhost:8080/"
        },
        "id": "k57BusTgGLmw",
        "outputId": "d5bd8c05-dca9-401e-9b61-cbbc0047afb5"
      },
      "source": [
        "k = 5\n",
        "kf = KFold(n_splits=k, random_state=None)\n",
        "model = DecisionTreeClassifier()\n",
        "acc_score = []\n",
        "f1_sc = []\n",
        "precision_sc = []\n",
        "recall_sc = []\n",
        " \n",
        "n = 1\n",
        "for train_index , test_index in kf.split(X, y):\n",
        "  #print(\"TRAIN:\", train_index, \"TEST:\", test_index)\n",
        "\n",
        "  X_train , X_test = X.iloc[train_index,0:40],X.iloc[test_index,0:40]\n",
        "  y_train , y_test = y.iloc[train_index], y.iloc[test_index]\n",
        "     \n",
        "  model.fit(X_train,y_train)\n",
        "  pred_values = model.predict(X_test)\n",
        "     \n",
        "  acc = accuracy_score(pred_values , y_test)  #accuracy\n",
        "  #print(classification_report(y_test, pred_values, digits=3, target_names= target_N))\n",
        "  precision,recall,fscore,support=score(y_test, pred_values,average='macro')\n",
        "\n",
        "  print ('Results for fold #', n)\n",
        "  print ('Precision : ', precision)\n",
        "  print ('Recall    : ', recall)\n",
        "  print ('F-score   : ', fscore)\n",
        "  print ('accuracy : ', acc, '\\n')\n",
        "  n = n + 1\n",
        "\n",
        "  acc_score.append(acc)\n",
        "  f1_sc.append(fscore)\n",
        "  recall_sc.append(recall)\n",
        "  precision_sc.append(precision)   \n",
        "                  \n",
        "\n",
        "avg_acc_score = sum(acc_score)/k\n",
        "avg_f1_sc = sum(f1_sc)/k\n",
        "avg_recall_sc = sum(recall_sc)/k\n",
        "avg_precision_sc = sum(precision_sc)/k\n",
        "\n",
        "print('\\nAvg precision : {}\\n'.format(avg_precision_sc))\n",
        "\n",
        "print('Avg recall : {}\\n'.format(avg_recall_sc))\n",
        "\n",
        "print('Avg f1 score : {}\\n'.format(avg_f1_sc))\n",
        "\n",
        "print('Avg accuracy : {}\\n'.format(avg_acc_score))"
      ],
      "execution_count": null,
      "outputs": [
        {
          "output_type": "stream",
          "text": [
            "/usr/local/lib/python3.7/dist-packages/sklearn/metrics/_classification.py:1272: UndefinedMetricWarning: Precision and F-score are ill-defined and being set to 0.0 in labels with no predicted samples. Use `zero_division` parameter to control this behavior.\n",
            "  _warn_prf(average, modifier, msg_start, len(result))\n",
            "/usr/local/lib/python3.7/dist-packages/sklearn/metrics/_classification.py:1272: UndefinedMetricWarning: Recall and F-score are ill-defined and being set to 0.0 in labels with no true samples. Use `zero_division` parameter to control this behavior.\n",
            "  _warn_prf(average, modifier, msg_start, len(result))\n"
          ],
          "name": "stderr"
        },
        {
          "output_type": "stream",
          "text": [
            "Results for fold # 1\n",
            "Precision :  0.21264405457201518\n",
            "Recall    :  0.22958785309946736\n",
            "F-score   :  0.22040390654711262\n",
            "accuracy :  0.1701374251749431 \n",
            "\n"
          ],
          "name": "stdout"
        },
        {
          "output_type": "stream",
          "text": [
            "/usr/local/lib/python3.7/dist-packages/sklearn/metrics/_classification.py:1272: UndefinedMetricWarning: Recall and F-score are ill-defined and being set to 0.0 in labels with no true samples. Use `zero_division` parameter to control this behavior.\n",
            "  _warn_prf(average, modifier, msg_start, len(result))\n"
          ],
          "name": "stderr"
        },
        {
          "output_type": "stream",
          "text": [
            "Results for fold # 2\n",
            "Precision :  0.2417400487378371\n",
            "Recall    :  0.33492748304295483\n",
            "F-score   :  0.25014780267349196\n",
            "accuracy :  0.24365567827333276 \n",
            "\n"
          ],
          "name": "stdout"
        },
        {
          "output_type": "stream",
          "text": [
            "/usr/local/lib/python3.7/dist-packages/sklearn/metrics/_classification.py:1272: UndefinedMetricWarning: Recall and F-score are ill-defined and being set to 0.0 in labels with no true samples. Use `zero_division` parameter to control this behavior.\n",
            "  _warn_prf(average, modifier, msg_start, len(result))\n"
          ],
          "name": "stderr"
        },
        {
          "output_type": "stream",
          "text": [
            "Results for fold # 3\n",
            "Precision :  0.4227524003491417\n",
            "Recall    :  0.2980240270157963\n",
            "F-score   :  0.3420182305355023\n",
            "accuracy :  0.5432931456032375 \n",
            "\n"
          ],
          "name": "stdout"
        },
        {
          "output_type": "stream",
          "text": [
            "/usr/local/lib/python3.7/dist-packages/sklearn/metrics/_classification.py:1272: UndefinedMetricWarning: Recall and F-score are ill-defined and being set to 0.0 in labels with no true samples. Use `zero_division` parameter to control this behavior.\n",
            "  _warn_prf(average, modifier, msg_start, len(result))\n"
          ],
          "name": "stderr"
        },
        {
          "output_type": "stream",
          "text": [
            "Results for fold # 4\n",
            "Precision :  0.4990752644835516\n",
            "Recall    :  0.441900000217158\n",
            "F-score   :  0.46692979854715055\n",
            "accuracy :  0.9392968552398617 \n",
            "\n",
            "Results for fold # 5\n",
            "Precision :  0.49873435088045853\n",
            "Recall    :  0.46345069714462017\n",
            "F-score   :  0.47976142034534713\n",
            "accuracy :  0.15227655986509275 \n",
            "\n",
            "\n",
            "Avg precision : 0.3749892238046008\n",
            "\n",
            "Avg recall : 0.35357801210399936\n",
            "\n",
            "Avg f1 score : 0.3518522317297209\n",
            "\n",
            "Avg accuracy : 0.40973193283129355\n",
            "\n"
          ],
          "name": "stdout"
        },
        {
          "output_type": "stream",
          "text": [
            "/usr/local/lib/python3.7/dist-packages/sklearn/metrics/_classification.py:1272: UndefinedMetricWarning: Precision and F-score are ill-defined and being set to 0.0 in labels with no predicted samples. Use `zero_division` parameter to control this behavior.\n",
            "  _warn_prf(average, modifier, msg_start, len(result))\n",
            "/usr/local/lib/python3.7/dist-packages/sklearn/metrics/_classification.py:1272: UndefinedMetricWarning: Recall and F-score are ill-defined and being set to 0.0 in labels with no true samples. Use `zero_division` parameter to control this behavior.\n",
            "  _warn_prf(average, modifier, msg_start, len(result))\n"
          ],
          "name": "stderr"
        }
      ]
    },
    {
      "cell_type": "markdown",
      "metadata": {
        "id": "Za9IgKlkGL7b"
      },
      "source": [
        "### Random Forest classification"
      ]
    },
    {
      "cell_type": "code",
      "metadata": {
        "colab": {
          "base_uri": "https://localhost:8080/"
        },
        "id": "uabYZABSGSwu",
        "outputId": "8e23d507-c1e2-4d28-80ea-72b617db22c9"
      },
      "source": [
        "k = 5\n",
        "kf = KFold(n_splits=k, random_state=None)\n",
        "model = RandomForestClassifier()\n",
        "acc_score = []\n",
        "f1_sc = []\n",
        "precision_sc = []\n",
        "recall_sc = []\n",
        " \n",
        "n = 1\n",
        "for train_index , test_index in kf.split(X, y):\n",
        "  #print(\"TRAIN:\", train_index, \"TEST:\", test_index)\n",
        "\n",
        "  X_train , X_test = X.iloc[train_index,0:40],X.iloc[test_index,0:40]\n",
        "  y_train , y_test = y.iloc[train_index], y.iloc[test_index]\n",
        "     \n",
        "  model.fit(X_train,y_train)\n",
        "  pred_values = model.predict(X_test)\n",
        "     \n",
        "  acc = accuracy_score(pred_values , y_test)  #accuracy\n",
        "  #print(classification_report(y_test, pred_values, digits=3, target_names= target_N))\n",
        "  precision,recall,fscore,support=score(y_test, pred_values,average='macro')\n",
        "\n",
        "  print ('Results for fold #', n)\n",
        "  print ('Precision : ', precision)\n",
        "  print ('Recall    : ', recall)\n",
        "  print ('F-score   : ', fscore)\n",
        "  print ('accuracy : ', acc, '\\n')\n",
        "  n = n + 1\n",
        "\n",
        "  acc_score.append(acc)\n",
        "  f1_sc.append(fscore)\n",
        "  recall_sc.append(recall)\n",
        "  precision_sc.append(precision)   \n",
        "                  \n",
        "\n",
        "avg_acc_score = sum(acc_score)/k\n",
        "avg_f1_sc = sum(f1_sc)/k\n",
        "avg_recall_sc = sum(recall_sc)/k\n",
        "avg_precision_sc = sum(precision_sc)/k\n",
        "\n",
        "print('\\nAvg precision : {}\\n'.format(avg_precision_sc))\n",
        "\n",
        "print('Avg recall : {}\\n'.format(avg_recall_sc))\n",
        "\n",
        "print('Avg f1 score : {}\\n'.format(avg_f1_sc))\n",
        "\n",
        "print('Avg accuracy : {}\\n'.format(avg_acc_score))"
      ],
      "execution_count": null,
      "outputs": [
        {
          "output_type": "stream",
          "text": [
            "/usr/local/lib/python3.7/dist-packages/sklearn/metrics/_classification.py:1272: UndefinedMetricWarning: Precision and F-score are ill-defined and being set to 0.0 in labels with no predicted samples. Use `zero_division` parameter to control this behavior.\n",
            "  _warn_prf(average, modifier, msg_start, len(result))\n",
            "/usr/local/lib/python3.7/dist-packages/sklearn/metrics/_classification.py:1272: UndefinedMetricWarning: Recall and F-score are ill-defined and being set to 0.0 in labels with no true samples. Use `zero_division` parameter to control this behavior.\n",
            "  _warn_prf(average, modifier, msg_start, len(result))\n"
          ],
          "name": "stderr"
        },
        {
          "output_type": "stream",
          "text": [
            "Results for fold # 1\n",
            "Precision :  0.21816001125241907\n",
            "Recall    :  0.23465045592705167\n",
            "F-score   :  0.21458831850215138\n",
            "accuracy :  0.17536464041817723 \n",
            "\n"
          ],
          "name": "stdout"
        },
        {
          "output_type": "stream",
          "text": [
            "/usr/local/lib/python3.7/dist-packages/sklearn/metrics/_classification.py:1272: UndefinedMetricWarning: Recall and F-score are ill-defined and being set to 0.0 in labels with no true samples. Use `zero_division` parameter to control this behavior.\n",
            "  _warn_prf(average, modifier, msg_start, len(result))\n"
          ],
          "name": "stderr"
        },
        {
          "output_type": "stream",
          "text": [
            "Results for fold # 2\n",
            "Precision :  0.2543006533611068\n",
            "Recall    :  0.28358336391696765\n",
            "F-score   :  0.24443779585133688\n",
            "accuracy :  0.25402579883652304 \n",
            "\n"
          ],
          "name": "stdout"
        },
        {
          "output_type": "stream",
          "text": [
            "/usr/local/lib/python3.7/dist-packages/sklearn/metrics/_classification.py:1272: UndefinedMetricWarning: Recall and F-score are ill-defined and being set to 0.0 in labels with no true samples. Use `zero_division` parameter to control this behavior.\n",
            "  _warn_prf(average, modifier, msg_start, len(result))\n"
          ],
          "name": "stderr"
        },
        {
          "output_type": "stream",
          "text": [
            "Results for fold # 3\n",
            "Precision :  0.5993636884630786\n",
            "Recall    :  0.514201475251137\n",
            "F-score   :  0.5464212145801876\n",
            "accuracy :  0.7851783154877329 \n",
            "\n"
          ],
          "name": "stdout"
        },
        {
          "output_type": "stream",
          "text": [
            "/usr/local/lib/python3.7/dist-packages/sklearn/metrics/_classification.py:1272: UndefinedMetricWarning: Recall and F-score are ill-defined and being set to 0.0 in labels with no true samples. Use `zero_division` parameter to control this behavior.\n",
            "  _warn_prf(average, modifier, msg_start, len(result))\n"
          ],
          "name": "stderr"
        },
        {
          "output_type": "stream",
          "text": [
            "Results for fold # 4\n",
            "Precision :  0.4998099007975496\n",
            "Recall    :  0.46487368807757884\n",
            "F-score   :  0.48051033117859393\n",
            "accuracy :  0.9710816963156563 \n",
            "\n",
            "Results for fold # 5\n",
            "Precision :  0.49981454005934717\n",
            "Recall    :  0.4819109461966605\n",
            "F-score   :  0.49052321252238756\n",
            "accuracy :  0.15573355817875212 \n",
            "\n",
            "\n",
            "Avg precision : 0.41428975878670027\n",
            "\n",
            "Avg recall : 0.3958439858738791\n",
            "\n",
            "Avg f1 score : 0.39529617452693144\n",
            "\n",
            "Avg accuracy : 0.4682768018473683\n",
            "\n"
          ],
          "name": "stdout"
        },
        {
          "output_type": "stream",
          "text": [
            "/usr/local/lib/python3.7/dist-packages/sklearn/metrics/_classification.py:1272: UndefinedMetricWarning: Precision and F-score are ill-defined and being set to 0.0 in labels with no predicted samples. Use `zero_division` parameter to control this behavior.\n",
            "  _warn_prf(average, modifier, msg_start, len(result))\n",
            "/usr/local/lib/python3.7/dist-packages/sklearn/metrics/_classification.py:1272: UndefinedMetricWarning: Recall and F-score are ill-defined and being set to 0.0 in labels with no true samples. Use `zero_division` parameter to control this behavior.\n",
            "  _warn_prf(average, modifier, msg_start, len(result))\n"
          ],
          "name": "stderr"
        }
      ]
    },
    {
      "cell_type": "markdown",
      "metadata": {
        "id": "zSs-Rf9UxmaE"
      },
      "source": [
        "### Naive bayes classifier "
      ]
    },
    {
      "cell_type": "code",
      "metadata": {
        "colab": {
          "base_uri": "https://localhost:8080/"
        },
        "id": "-FhC8PwSx0bO",
        "outputId": "f7893d13-9fe9-4f9f-b8ad-508c48c3e91c"
      },
      "source": [
        "k = 5\n",
        "kf = KFold(n_splits=k, random_state=None)\n",
        "model = GaussianNB()\n",
        "acc_score = []\n",
        "f1_sc = []\n",
        "precision_sc = []\n",
        "recall_sc = []\n",
        " \n",
        "n = 1\n",
        "for train_index , test_index in kf.split(X, y):\n",
        "  #print(\"TRAIN:\", train_index, \"TEST:\", test_index)\n",
        "\n",
        "  X_train , X_test = X.iloc[train_index,0:40],X.iloc[test_index,0:40]\n",
        "  y_train , y_test = y.iloc[train_index], y.iloc[test_index]\n",
        "     \n",
        "  model.fit(X_train,y_train)\n",
        "  pred_values = model.predict(X_test)\n",
        "     \n",
        "  acc = accuracy_score(pred_values , y_test)  #accuracy\n",
        "  #print(classification_report(y_test, pred_values, digits=3, target_names= target_N))\n",
        "  precision,recall,fscore,support=score(y_test, pred_values,average='macro')\n",
        "\n",
        "  print ('Results for fold #', n)\n",
        "  print ('Precision : ', precision)\n",
        "  print ('Recall    : ', recall)\n",
        "  print ('F-score   : ', fscore)\n",
        "  print ('accuracy : ', acc, '\\n')\n",
        "  n = n + 1\n",
        "\n",
        "  acc_score.append(acc)\n",
        "  f1_sc.append(fscore)\n",
        "  recall_sc.append(recall)\n",
        "  precision_sc.append(precision)   \n",
        "                  \n",
        "\n",
        "avg_acc_score = sum(acc_score)/k\n",
        "avg_f1_sc = sum(f1_sc)/k\n",
        "avg_recall_sc = sum(recall_sc)/k\n",
        "avg_precision_sc = sum(precision_sc)/k\n",
        "\n",
        "print('\\nAvg precision : {}\\n'.format(avg_precision_sc))\n",
        "\n",
        "print('Avg recall : {}\\n'.format(avg_recall_sc))\n",
        "\n",
        "print('Avg f1 score : {}\\n'.format(avg_f1_sc))\n",
        "\n",
        "print('Avg accuracy : {}\\n'.format(avg_acc_score))"
      ],
      "execution_count": null,
      "outputs": [
        {
          "output_type": "stream",
          "text": [
            "/usr/local/lib/python3.7/dist-packages/sklearn/metrics/_classification.py:1272: UndefinedMetricWarning: Precision and F-score are ill-defined and being set to 0.0 in labels with no predicted samples. Use `zero_division` parameter to control this behavior.\n",
            "  _warn_prf(average, modifier, msg_start, len(result))\n",
            "/usr/local/lib/python3.7/dist-packages/sklearn/metrics/_classification.py:1272: UndefinedMetricWarning: Recall and F-score are ill-defined and being set to 0.0 in labels with no true samples. Use `zero_division` parameter to control this behavior.\n",
            "  _warn_prf(average, modifier, msg_start, len(result))\n",
            "/usr/local/lib/python3.7/dist-packages/sklearn/metrics/_classification.py:1272: UndefinedMetricWarning: Recall and F-score are ill-defined and being set to 0.0 in labels with no true samples. Use `zero_division` parameter to control this behavior.\n",
            "  _warn_prf(average, modifier, msg_start, len(result))\n"
          ],
          "name": "stderr"
        },
        {
          "output_type": "stream",
          "text": [
            "Results for fold # 1\n",
            "Precision :  0.206415748605949\n",
            "Recall    :  0.1554299935863473\n",
            "F-score   :  0.13653732853499784\n",
            "accuracy :  0.15841834583930528 \n",
            "\n",
            "Results for fold # 2\n",
            "Precision :  0.10818857744440058\n",
            "Recall    :  0.13805625524769102\n",
            "F-score   :  0.12131105208794453\n",
            "accuracy :  0.5545063653992075 \n",
            "\n"
          ],
          "name": "stdout"
        },
        {
          "output_type": "stream",
          "text": [
            "/usr/local/lib/python3.7/dist-packages/sklearn/metrics/_classification.py:1272: UndefinedMetricWarning: Recall and F-score are ill-defined and being set to 0.0 in labels with no true samples. Use `zero_division` parameter to control this behavior.\n",
            "  _warn_prf(average, modifier, msg_start, len(result))\n",
            "/usr/local/lib/python3.7/dist-packages/sklearn/metrics/_classification.py:1272: UndefinedMetricWarning: Precision and F-score are ill-defined and being set to 0.0 in labels with no predicted samples. Use `zero_division` parameter to control this behavior.\n",
            "  _warn_prf(average, modifier, msg_start, len(result))\n",
            "/usr/local/lib/python3.7/dist-packages/sklearn/metrics/_classification.py:1272: UndefinedMetricWarning: Recall and F-score are ill-defined and being set to 0.0 in labels with no true samples. Use `zero_division` parameter to control this behavior.\n",
            "  _warn_prf(average, modifier, msg_start, len(result))\n"
          ],
          "name": "stderr"
        },
        {
          "output_type": "stream",
          "text": [
            "Results for fold # 3\n",
            "Precision :  0.26785714285714285\n",
            "Recall    :  0.10754169688179839\n",
            "F-score   :  0.12543815340343786\n",
            "accuracy :  0.02689486552567237 \n",
            "\n",
            "Results for fold # 4\n",
            "Precision :  0.23386356736062042\n",
            "Recall    :  0.07507552283562488\n",
            "F-score   :  0.10163839292025391\n",
            "accuracy :  0.11592614450720849 \n",
            "\n",
            "Results for fold # 5\n",
            "Precision :  0.25813547295453304\n",
            "Recall    :  0.07879669381419302\n",
            "F-score   :  0.11133691775959119\n",
            "accuracy :  0.031197301854974706 \n",
            "\n",
            "\n",
            "Avg precision : 0.2148921018445292\n",
            "\n",
            "Avg recall : 0.11098003247313093\n",
            "\n",
            "Avg f1 score : 0.11925236894124507\n",
            "\n",
            "Avg accuracy : 0.17738860462527367\n",
            "\n"
          ],
          "name": "stdout"
        },
        {
          "output_type": "stream",
          "text": [
            "/usr/local/lib/python3.7/dist-packages/sklearn/metrics/_classification.py:1272: UndefinedMetricWarning: Precision and F-score are ill-defined and being set to 0.0 in labels with no predicted samples. Use `zero_division` parameter to control this behavior.\n",
            "  _warn_prf(average, modifier, msg_start, len(result))\n",
            "/usr/local/lib/python3.7/dist-packages/sklearn/metrics/_classification.py:1272: UndefinedMetricWarning: Recall and F-score are ill-defined and being set to 0.0 in labels with no true samples. Use `zero_division` parameter to control this behavior.\n",
            "  _warn_prf(average, modifier, msg_start, len(result))\n"
          ],
          "name": "stderr"
        }
      ]
    },
    {
      "cell_type": "markdown",
      "metadata": {
        "id": "cNEy1mIyydzP"
      },
      "source": [
        "### KNN (k-nearest neighbors)"
      ]
    },
    {
      "cell_type": "code",
      "metadata": {
        "colab": {
          "base_uri": "https://localhost:8080/"
        },
        "id": "UC1xZFW7zAxZ",
        "outputId": "8e4d0e90-3592-45bd-df5c-e14ace22e42d"
      },
      "source": [
        "k = 5\n",
        "kf = KFold(n_splits=k, random_state=None)\n",
        "model = KNeighborsClassifier(n_neighbors = 5)\n",
        "acc_score = []\n",
        "f1_sc = []\n",
        "precision_sc = []\n",
        "recall_sc = []\n",
        " \n",
        "n = 1\n",
        "for train_index , test_index in kf.split(X, y):\n",
        "  #print(\"TRAIN:\", train_index, \"TEST:\", test_index)\n",
        "\n",
        "  X_train , X_test = X.iloc[train_index,0:40],X.iloc[test_index,0:40]\n",
        "  y_train , y_test = y.iloc[train_index], y.iloc[test_index]\n",
        "     \n",
        "  model.fit(X_train,y_train)\n",
        "  pred_values = model.predict(X_test)\n",
        "     \n",
        "  acc = accuracy_score(pred_values , y_test)  #accuracy\n",
        "  #print(classification_report(y_test, pred_values, digits=3, target_names= target_N))\n",
        "  precision,recall,fscore,support=score(y_test, pred_values,average='macro')\n",
        "\n",
        "  print ('Results for fold #', n)\n",
        "  print ('Precision : ', precision)\n",
        "  print ('Recall    : ', recall)\n",
        "  print ('F-score   : ', fscore)\n",
        "  print ('accuracy : ', acc, '\\n')\n",
        "  n = n + 1\n",
        "\n",
        "  acc_score.append(acc)\n",
        "  f1_sc.append(fscore)\n",
        "  recall_sc.append(recall)\n",
        "  precision_sc.append(precision)   \n",
        "                  \n",
        "\n",
        "avg_acc_score = sum(acc_score)/k\n",
        "avg_f1_sc = sum(f1_sc)/k\n",
        "avg_recall_sc = sum(recall_sc)/k\n",
        "avg_precision_sc = sum(precision_sc)/k\n",
        "\n",
        "print('\\nAvg precision : {}\\n'.format(avg_precision_sc))\n",
        "\n",
        "print('Avg recall : {}\\n'.format(avg_recall_sc))\n",
        "\n",
        "print('Avg f1 score : {}\\n'.format(avg_f1_sc))\n",
        "\n",
        "print('Avg accuracy : {}\\n'.format(avg_acc_score))"
      ],
      "execution_count": null,
      "outputs": [
        {
          "output_type": "stream",
          "text": [
            "/usr/local/lib/python3.7/dist-packages/sklearn/metrics/_classification.py:1272: UndefinedMetricWarning: Precision and F-score are ill-defined and being set to 0.0 in labels with no predicted samples. Use `zero_division` parameter to control this behavior.\n",
            "  _warn_prf(average, modifier, msg_start, len(result))\n",
            "/usr/local/lib/python3.7/dist-packages/sklearn/metrics/_classification.py:1272: UndefinedMetricWarning: Recall and F-score are ill-defined and being set to 0.0 in labels with no true samples. Use `zero_division` parameter to control this behavior.\n",
            "  _warn_prf(average, modifier, msg_start, len(result))\n"
          ],
          "name": "stderr"
        },
        {
          "output_type": "stream",
          "text": [
            "Results for fold # 1\n",
            "Precision :  0.10184625485766155\n",
            "Recall    :  0.2369970162572154\n",
            "F-score   :  0.12805115099918815\n",
            "accuracy :  0.17991737627518758 \n",
            "\n"
          ],
          "name": "stdout"
        },
        {
          "output_type": "stream",
          "text": [
            "/usr/local/lib/python3.7/dist-packages/sklearn/metrics/_classification.py:1272: UndefinedMetricWarning: Recall and F-score are ill-defined and being set to 0.0 in labels with no true samples. Use `zero_division` parameter to control this behavior.\n",
            "  _warn_prf(average, modifier, msg_start, len(result))\n"
          ],
          "name": "stderr"
        },
        {
          "output_type": "stream",
          "text": [
            "Results for fold # 2\n",
            "Precision :  0.22834203513178042\n",
            "Recall    :  0.29225677930595456\n",
            "F-score   :  0.21911840628505877\n",
            "accuracy :  0.43225697664615126 \n",
            "\n"
          ],
          "name": "stdout"
        },
        {
          "output_type": "stream",
          "text": [
            "/usr/local/lib/python3.7/dist-packages/sklearn/metrics/_classification.py:1272: UndefinedMetricWarning: Recall and F-score are ill-defined and being set to 0.0 in labels with no true samples. Use `zero_division` parameter to control this behavior.\n",
            "  _warn_prf(average, modifier, msg_start, len(result))\n"
          ],
          "name": "stderr"
        },
        {
          "output_type": "stream",
          "text": [
            "Results for fold # 3\n",
            "Precision :  0.39319847415461545\n",
            "Recall    :  0.3167881558066942\n",
            "F-score   :  0.3237699320389939\n",
            "accuracy :  0.6082117865272743 \n",
            "\n"
          ],
          "name": "stdout"
        },
        {
          "output_type": "stream",
          "text": [
            "/usr/local/lib/python3.7/dist-packages/sklearn/metrics/_classification.py:1272: UndefinedMetricWarning: Recall and F-score are ill-defined and being set to 0.0 in labels with no true samples. Use `zero_division` parameter to control this behavior.\n",
            "  _warn_prf(average, modifier, msg_start, len(result))\n"
          ],
          "name": "stderr"
        },
        {
          "output_type": "stream",
          "text": [
            "Results for fold # 4\n",
            "Precision :  0.4068367110675751\n",
            "Recall    :  0.380199446799247\n",
            "F-score   :  0.3925846335111088\n",
            "accuracy :  0.9319618919146784 \n",
            "\n",
            "Results for fold # 5\n",
            "Precision :  0.2738035892323031\n",
            "Recall    :  0.2582015654148739\n",
            "F-score   :  0.26543840228331145\n",
            "accuracy :  0.14839797639123103 \n",
            "\n",
            "\n",
            "Avg precision : 0.28080541288878713\n",
            "\n",
            "Avg recall : 0.2968885927167971\n",
            "\n",
            "Avg f1 score : 0.2657925050235322\n",
            "\n",
            "Avg accuracy : 0.4601492015509045\n",
            "\n"
          ],
          "name": "stdout"
        },
        {
          "output_type": "stream",
          "text": [
            "/usr/local/lib/python3.7/dist-packages/sklearn/metrics/_classification.py:1272: UndefinedMetricWarning: Precision and F-score are ill-defined and being set to 0.0 in labels with no predicted samples. Use `zero_division` parameter to control this behavior.\n",
            "  _warn_prf(average, modifier, msg_start, len(result))\n",
            "/usr/local/lib/python3.7/dist-packages/sklearn/metrics/_classification.py:1272: UndefinedMetricWarning: Recall and F-score are ill-defined and being set to 0.0 in labels with no true samples. Use `zero_division` parameter to control this behavior.\n",
            "  _warn_prf(average, modifier, msg_start, len(result))\n"
          ],
          "name": "stderr"
        }
      ]
    },
    {
      "cell_type": "markdown",
      "metadata": {
        "id": "_uXIwR0iz3rv"
      },
      "source": [
        "### Neural network"
      ]
    },
    {
      "cell_type": "code",
      "metadata": {
        "colab": {
          "base_uri": "https://localhost:8080/"
        },
        "id": "TTPmLGORz5hx",
        "outputId": "4a5b0903-5f6f-4db8-d7d1-85a4731f7c1a"
      },
      "source": [
        "k = 5\n",
        "kf = KFold(n_splits=k, random_state=None)\n",
        "model = MLPClassifier()\n",
        "acc_score = []\n",
        "f1_sc = []\n",
        "precision_sc = []\n",
        "recall_sc = []\n",
        " \n",
        "n = 1\n",
        "for train_index , test_index in kf.split(X, y):\n",
        "  #print(\"TRAIN:\", train_index, \"TEST:\", test_index)\n",
        "\n",
        "  X_train , X_test = X.iloc[train_index,0:40],X.iloc[test_index,0:40]\n",
        "  y_train , y_test = y.iloc[train_index], y.iloc[test_index]\n",
        "     \n",
        "  model.fit(X_train,y_train)\n",
        "  pred_values = model.predict(X_test)\n",
        "     \n",
        "  acc = accuracy_score(pred_values , y_test)  #accuracy\n",
        "  #print(classification_report(y_test, pred_values, digits=3, target_names= target_N))\n",
        "  precision,recall,fscore,support=score(y_test, pred_values,average='macro')\n",
        "\n",
        "  print ('Results for fold #', n)\n",
        "  print ('Precision : ', precision)\n",
        "  print ('Recall    : ', recall)\n",
        "  print ('F-score   : ', fscore)\n",
        "  print ('accuracy : ', acc, '\\n')\n",
        "  n = n + 1\n",
        "\n",
        "  acc_score.append(acc)\n",
        "  f1_sc.append(fscore)\n",
        "  recall_sc.append(recall)\n",
        "  precision_sc.append(precision)   \n",
        "                  \n",
        "\n",
        "avg_acc_score = sum(acc_score)/k\n",
        "avg_f1_sc = sum(f1_sc)/k\n",
        "avg_recall_sc = sum(recall_sc)/k\n",
        "avg_precision_sc = sum(precision_sc)/k\n",
        "\n",
        "print('\\nAvg precision : {}\\n'.format(avg_precision_sc))\n",
        "\n",
        "print('Avg recall : {}\\n'.format(avg_recall_sc))\n",
        "\n",
        "print('Avg f1 score : {}\\n'.format(avg_f1_sc))\n",
        "\n",
        "print('Avg accuracy : {}\\n'.format(avg_acc_score))"
      ],
      "execution_count": null,
      "outputs": [
        {
          "output_type": "stream",
          "text": [
            "/usr/local/lib/python3.7/dist-packages/sklearn/neural_network/_multilayer_perceptron.py:571: ConvergenceWarning: Stochastic Optimizer: Maximum iterations (200) reached and the optimization hasn't converged yet.\n",
            "  % self.max_iter, ConvergenceWarning)\n",
            "/usr/local/lib/python3.7/dist-packages/sklearn/metrics/_classification.py:1272: UndefinedMetricWarning: Precision and F-score are ill-defined and being set to 0.0 in labels with no predicted samples. Use `zero_division` parameter to control this behavior.\n",
            "  _warn_prf(average, modifier, msg_start, len(result))\n",
            "/usr/local/lib/python3.7/dist-packages/sklearn/metrics/_classification.py:1272: UndefinedMetricWarning: Recall and F-score are ill-defined and being set to 0.0 in labels with no true samples. Use `zero_division` parameter to control this behavior.\n",
            "  _warn_prf(average, modifier, msg_start, len(result))\n"
          ],
          "name": "stderr"
        },
        {
          "output_type": "stream",
          "text": [
            "Results for fold # 1\n",
            "Precision :  0.12592047128129602\n",
            "Recall    :  0.14007208387942333\n",
            "F-score   :  0.1326198231735691\n",
            "accuracy :  0.0720849844026642 \n",
            "\n"
          ],
          "name": "stdout"
        },
        {
          "output_type": "stream",
          "text": [
            "/usr/local/lib/python3.7/dist-packages/sklearn/neural_network/_multilayer_perceptron.py:571: ConvergenceWarning: Stochastic Optimizer: Maximum iterations (200) reached and the optimization hasn't converged yet.\n",
            "  % self.max_iter, ConvergenceWarning)\n",
            "/usr/local/lib/python3.7/dist-packages/sklearn/metrics/_classification.py:1272: UndefinedMetricWarning: Precision and F-score are ill-defined and being set to 0.0 in labels with no predicted samples. Use `zero_division` parameter to control this behavior.\n",
            "  _warn_prf(average, modifier, msg_start, len(result))\n",
            "/usr/local/lib/python3.7/dist-packages/sklearn/metrics/_classification.py:1272: UndefinedMetricWarning: Recall and F-score are ill-defined and being set to 0.0 in labels with no true samples. Use `zero_division` parameter to control this behavior.\n",
            "  _warn_prf(average, modifier, msg_start, len(result))\n"
          ],
          "name": "stderr"
        },
        {
          "output_type": "stream",
          "text": [
            "Results for fold # 2\n",
            "Precision :  0.12353908668730651\n",
            "Recall    :  0.3166624138810921\n",
            "F-score   :  0.17771208097409433\n",
            "accuracy :  0.29752971924795546 \n",
            "\n"
          ],
          "name": "stdout"
        },
        {
          "output_type": "stream",
          "text": [
            "/usr/local/lib/python3.7/dist-packages/sklearn/neural_network/_multilayer_perceptron.py:571: ConvergenceWarning: Stochastic Optimizer: Maximum iterations (200) reached and the optimization hasn't converged yet.\n",
            "  % self.max_iter, ConvergenceWarning)\n",
            "/usr/local/lib/python3.7/dist-packages/sklearn/metrics/_classification.py:1272: UndefinedMetricWarning: Recall and F-score are ill-defined and being set to 0.0 in labels with no true samples. Use `zero_division` parameter to control this behavior.\n",
            "  _warn_prf(average, modifier, msg_start, len(result))\n"
          ],
          "name": "stderr"
        },
        {
          "output_type": "stream",
          "text": [
            "Results for fold # 3\n",
            "Precision :  0.4037225308840929\n",
            "Recall    :  0.35221877427611137\n",
            "F-score   :  0.3745270730240656\n",
            "accuracy :  0.9324677514543461 \n",
            "\n"
          ],
          "name": "stdout"
        },
        {
          "output_type": "stream",
          "text": [
            "/usr/local/lib/python3.7/dist-packages/sklearn/neural_network/_multilayer_perceptron.py:571: ConvergenceWarning: Stochastic Optimizer: Maximum iterations (200) reached and the optimization hasn't converged yet.\n",
            "  % self.max_iter, ConvergenceWarning)\n",
            "/usr/local/lib/python3.7/dist-packages/sklearn/metrics/_classification.py:1272: UndefinedMetricWarning: Recall and F-score are ill-defined and being set to 0.0 in labels with no true samples. Use `zero_division` parameter to control this behavior.\n",
            "  _warn_prf(average, modifier, msg_start, len(result))\n"
          ],
          "name": "stderr"
        },
        {
          "output_type": "stream",
          "text": [
            "Results for fold # 4\n",
            "Precision :  0.41303094622392106\n",
            "Recall    :  0.35011875743613396\n",
            "F-score   :  0.3747676235903087\n",
            "accuracy :  0.9066689149312874 \n",
            "\n",
            "Results for fold # 5\n",
            "Precision :  0.32411838318410774\n",
            "Recall    :  0.31576847517032053\n",
            "F-score   :  0.31985995205735773\n",
            "accuracy :  0.15261382799325462 \n",
            "\n",
            "\n",
            "Avg precision : 0.2780662836521448\n",
            "\n",
            "Avg recall : 0.29496810092861625\n",
            "\n",
            "Avg f1 score : 0.27589731056387906\n",
            "\n",
            "Avg accuracy : 0.4722730396059015\n",
            "\n"
          ],
          "name": "stdout"
        },
        {
          "output_type": "stream",
          "text": [
            "/usr/local/lib/python3.7/dist-packages/sklearn/neural_network/_multilayer_perceptron.py:571: ConvergenceWarning: Stochastic Optimizer: Maximum iterations (200) reached and the optimization hasn't converged yet.\n",
            "  % self.max_iter, ConvergenceWarning)\n",
            "/usr/local/lib/python3.7/dist-packages/sklearn/metrics/_classification.py:1272: UndefinedMetricWarning: Precision and F-score are ill-defined and being set to 0.0 in labels with no predicted samples. Use `zero_division` parameter to control this behavior.\n",
            "  _warn_prf(average, modifier, msg_start, len(result))\n",
            "/usr/local/lib/python3.7/dist-packages/sklearn/metrics/_classification.py:1272: UndefinedMetricWarning: Recall and F-score are ill-defined and being set to 0.0 in labels with no true samples. Use `zero_division` parameter to control this behavior.\n",
            "  _warn_prf(average, modifier, msg_start, len(result))\n"
          ],
          "name": "stderr"
        }
      ]
    },
    {
      "cell_type": "markdown",
      "metadata": {
        "id": "HDqDFF7yT0Ll"
      },
      "source": [
        "# Stratified K-FOLD CROSS VALIDATION "
      ]
    },
    {
      "cell_type": "code",
      "metadata": {
        "id": "WJJ7lezCC-gJ"
      },
      "source": [
        "from sklearn.metrics import precision_recall_fscore_support as score\n",
        "target_N = ['BENIGN', 'DrDoS_DNS', 'DrDoS_LDAP', 'DrDoS_MSSQL', 'DrDoS_NetBIOS', 'DrDoS_NTP', 'DrDoS_SNMP']\n",
        "\n"
      ],
      "execution_count": null,
      "outputs": []
    },
    {
      "cell_type": "markdown",
      "metadata": {
        "id": "A3i9_uVHT6-b"
      },
      "source": [
        "### Decision tree classification"
      ]
    },
    {
      "cell_type": "code",
      "metadata": {
        "colab": {
          "base_uri": "https://localhost:8080/"
        },
        "id": "-4R0lSE7UEqc",
        "outputId": "3b84c76f-c4a4-47cb-f73c-0aa6b4c72cc8"
      },
      "source": [
        "k = 5\n",
        "skf = StratifiedKFold(n_splits=k, random_state=0)\n",
        "model = DecisionTreeClassifier()\n",
        "acc_score = []\n",
        "f1_sc = []\n",
        "precision_sc = []\n",
        "recall_sc = []\n",
        " \n",
        "n = 1\n",
        "for train_index , test_index in skf.split(X, y):\n",
        "  #print(\"TRAIN:\", train_index, \"TEST:\", test_index)\n",
        "\n",
        "  X_train , X_test = X.iloc[train_index,0:40],X.iloc[test_index,0:40]\n",
        "  y_train , y_test = y.iloc[train_index], y.iloc[test_index]\n",
        "     \n",
        "  model.fit(X_train,y_train)\n",
        "  pred_values = model.predict(X_test)\n",
        "     \n",
        "  acc = accuracy_score(pred_values , y_test)  #accuracy\n",
        "  #print(classification_report(y_test, pred_values, digits=3, target_names= target_N))\n",
        "  precision,recall,fscore,support=score(y_test, pred_values,average='macro')\n",
        "\n",
        "  print ('Results for fold #', n)\n",
        "  print ('Precision : ', precision)\n",
        "  print ('Recall    : ', recall)\n",
        "  print ('F-score   : ', fscore)\n",
        "  print ('accuracy : ', acc, '\\n')\n",
        "  n = n + 1\n",
        "\n",
        "  acc_score.append(acc)\n",
        "  f1_sc.append(fscore)\n",
        "  recall_sc.append(recall)\n",
        "  precision_sc.append(precision)   \n",
        "                  \n",
        "\n",
        "avg_acc_score = sum(acc_score)/k\n",
        "avg_f1_sc = sum(f1_sc)/k\n",
        "avg_recall_sc = sum(recall_sc)/k\n",
        "avg_precision_sc = sum(precision_sc)/k\n",
        "\n",
        "print('\\nAvg precision : {}\\n'.format(avg_precision_sc))\n",
        "\n",
        "print('Avg recall : {}\\n'.format(avg_recall_sc))\n",
        "\n",
        "print('Avg f1 score : {}\\n'.format(avg_f1_sc))\n",
        "\n",
        "print('Avg accuracy : {}\\n'.format(avg_acc_score))"
      ],
      "execution_count": null,
      "outputs": [
        {
          "output_type": "stream",
          "text": [
            "/usr/local/lib/python3.7/dist-packages/sklearn/model_selection/_split.py:296: FutureWarning: Setting a random_state has no effect since shuffle is False. This will raise an error in 0.24. You should leave random_state to its default (None), or set shuffle=True.\n",
            "  FutureWarning\n"
          ],
          "name": "stderr"
        },
        {
          "output_type": "stream",
          "text": [
            "Results for fold # 1\n",
            "Precision :  0.8622890945155115\n",
            "Recall    :  0.841194701021796\n",
            "F-score   :  0.8162461259697851\n",
            "accuracy :  0.8307056740578366 \n",
            "\n",
            "Results for fold # 2\n",
            "Precision :  0.9136631216442196\n",
            "Recall    :  0.9008305926080117\n",
            "F-score   :  0.9062433604359658\n",
            "accuracy :  0.9061630553916196 \n",
            "\n",
            "Results for fold # 3\n",
            "Precision :  0.8712255046667844\n",
            "Recall    :  0.8608435455627751\n",
            "F-score   :  0.8600355288835824\n",
            "accuracy :  0.8500126464884917 \n",
            "\n",
            "Results for fold # 4\n",
            "Precision :  0.8820139967376116\n",
            "Recall    :  0.8833786267492396\n",
            "F-score   :  0.8816568424423528\n",
            "accuracy :  0.8813759379478965 \n",
            "\n",
            "Results for fold # 5\n",
            "Precision :  0.8901366701999492\n",
            "Recall    :  0.88381243642677\n",
            "F-score   :  0.8863819959579297\n",
            "accuracy :  0.8844856661045531 \n",
            "\n",
            "\n",
            "Avg precision : 0.8838656775528152\n",
            "\n",
            "Avg recall : 0.8740119804737185\n",
            "\n",
            "Avg f1 score : 0.870112770737923\n",
            "\n",
            "Avg accuracy : 0.8705485959980794\n",
            "\n"
          ],
          "name": "stdout"
        }
      ]
    },
    {
      "cell_type": "markdown",
      "metadata": {
        "id": "faQDpFWWVLAI"
      },
      "source": [
        "### Random Forest classification"
      ]
    },
    {
      "cell_type": "code",
      "metadata": {
        "colab": {
          "base_uri": "https://localhost:8080/"
        },
        "id": "DZfAIfscVOzV",
        "outputId": "11b11196-2fc3-4f15-ca87-de1e0a2e3720"
      },
      "source": [
        "k = 5\n",
        "skf = StratifiedKFold(n_splits=k, random_state=None)\n",
        "model = RandomForestClassifier()\n",
        "acc_score = []\n",
        "f1_sc = []\n",
        "precision_sc = []\n",
        "recall_sc = []\n",
        " \n",
        "n = 1\n",
        "for train_index , test_index in skf.split(X, y):\n",
        "  #print(\"TRAIN:\", train_index, \"TEST:\", test_index)\n",
        "\n",
        "  X_train , X_test = X.iloc[train_index,0:40],X.iloc[test_index,0:40]\n",
        "  y_train , y_test = y.iloc[train_index], y.iloc[test_index]\n",
        "     \n",
        "  model.fit(X_train,y_train)\n",
        "  pred_values = model.predict(X_test)\n",
        "     \n",
        "  acc = accuracy_score(pred_values , y_test)  #accuracy\n",
        "  #print(classification_report(y_test, pred_values, digits=3, target_names= target_N))\n",
        "  precision,recall,fscore,support=score(y_test, pred_values,average='macro')\n",
        "\n",
        "  print ('Results for fold #', n)\n",
        "  print ('Precision : ', precision)\n",
        "  print ('Recall    : ', recall)\n",
        "  print ('F-score   : ', fscore)\n",
        "  print ('accuracy : ', acc, '\\n')\n",
        "  n = n + 1\n",
        "\n",
        "  acc_score.append(acc)\n",
        "  f1_sc.append(fscore)\n",
        "  recall_sc.append(recall)\n",
        "  precision_sc.append(precision)   \n",
        "                  \n",
        "\n",
        "avg_acc_score = sum(acc_score)/k\n",
        "avg_f1_sc = sum(f1_sc)/k\n",
        "avg_recall_sc = sum(recall_sc)/k\n",
        "avg_precision_sc = sum(precision_sc)/k\n",
        "\n",
        "print('\\nAvg precision : {}\\n'.format(avg_precision_sc))\n",
        "\n",
        "print('Avg recall : {}\\n'.format(avg_recall_sc))\n",
        "\n",
        "print('Avg f1 score : {}\\n'.format(avg_f1_sc))\n",
        "\n",
        "print('Avg accuracy : {}\\n'.format(avg_acc_score))"
      ],
      "execution_count": null,
      "outputs": [
        {
          "output_type": "stream",
          "text": [
            "Results for fold # 1\n",
            "Precision :  0.905545508401116\n",
            "Recall    :  0.8832301713410361\n",
            "F-score   :  0.861729732086407\n",
            "accuracy :  0.8694882387657027 \n",
            "\n",
            "Results for fold # 2\n",
            "Precision :  0.926505144611727\n",
            "Recall    :  0.9230307901861053\n",
            "F-score   :  0.9247072140863787\n",
            "accuracy :  0.9224348705842678 \n",
            "\n",
            "Results for fold # 3\n",
            "Precision :  0.88605888778984\n",
            "Recall    :  0.8814978064840434\n",
            "F-score   :  0.8778543662288856\n",
            "accuracy :  0.8671275609139195 \n",
            "\n",
            "Results for fold # 4\n",
            "Precision :  0.9007187161007495\n",
            "Recall    :  0.9111207532888121\n",
            "F-score   :  0.9039296247324359\n",
            "accuracy :  0.9014416996880533 \n",
            "\n",
            "Results for fold # 5\n",
            "Precision :  0.8981415626208709\n",
            "Recall    :  0.902000998303313\n",
            "F-score   :  0.8991137207340861\n",
            "accuracy :  0.8947723440134907 \n",
            "\n",
            "\n",
            "Avg precision : 0.9033939639048606\n",
            "\n",
            "Avg recall : 0.900176103920662\n",
            "\n",
            "Avg f1 score : 0.8934669315736385\n",
            "\n",
            "Avg accuracy : 0.8910529427930868\n",
            "\n"
          ],
          "name": "stdout"
        }
      ]
    },
    {
      "cell_type": "markdown",
      "metadata": {
        "id": "jx0MmBO4VspP"
      },
      "source": [
        "### Naive bayes classifier"
      ]
    },
    {
      "cell_type": "code",
      "metadata": {
        "colab": {
          "base_uri": "https://localhost:8080/"
        },
        "id": "u3CK8KouVv8L",
        "outputId": "b7b18dbc-e2a1-4f9e-c327-3c75d006e780"
      },
      "source": [
        "k = 5\n",
        "skf = StratifiedKFold(n_splits=k, random_state=None)\n",
        "model = GaussianNB()\n",
        "acc_score = []\n",
        "f1_sc = []\n",
        "precision_sc = []\n",
        "recall_sc = []\n",
        " \n",
        "n = 1\n",
        "for train_index , test_index in skf.split(X, y):\n",
        "  #print(\"TRAIN:\", train_index, \"TEST:\", test_index)\n",
        "\n",
        "  X_train , X_test = X.iloc[train_index,0:40],X.iloc[test_index,0:40]\n",
        "  y_train , y_test = y.iloc[train_index], y.iloc[test_index]\n",
        "     \n",
        "  model.fit(X_train,y_train)\n",
        "  pred_values = model.predict(X_test)\n",
        "     \n",
        "  acc = accuracy_score(pred_values , y_test)  #accuracy\n",
        "  #print(classification_report(y_test, pred_values, digits=3, target_names= target_N))\n",
        "  precision,recall,fscore,support=score(y_test, pred_values,average='macro')\n",
        "\n",
        "  print ('Results for fold #', n)\n",
        "  print ('Precision : ', precision)\n",
        "  print ('Recall    : ', recall)\n",
        "  print ('F-score   : ', fscore)\n",
        "  print ('accuracy : ', acc, '\\n')\n",
        "  n = n + 1\n",
        "\n",
        "  acc_score.append(acc)\n",
        "  f1_sc.append(fscore)\n",
        "  recall_sc.append(recall)\n",
        "  precision_sc.append(precision)   \n",
        "                  \n",
        "\n",
        "avg_acc_score = sum(acc_score)/k\n",
        "avg_f1_sc = sum(f1_sc)/k\n",
        "avg_recall_sc = sum(recall_sc)/k\n",
        "avg_precision_sc = sum(precision_sc)/k\n",
        "\n",
        "print('\\nAvg precision : {}\\n'.format(avg_precision_sc))\n",
        "\n",
        "print('Avg recall : {}\\n'.format(avg_recall_sc))\n",
        "\n",
        "print('Avg f1 score : {}\\n'.format(avg_f1_sc))\n",
        "\n",
        "print('Avg accuracy : {}\\n'.format(avg_acc_score))"
      ],
      "execution_count": null,
      "outputs": [
        {
          "output_type": "stream",
          "text": [
            "Results for fold # 1\n",
            "Precision :  0.40205503262329945\n",
            "Recall    :  0.3469166889696577\n",
            "F-score   :  0.24476114544307107\n",
            "accuracy :  0.35983475255037517 \n",
            "\n",
            "Results for fold # 2\n",
            "Precision :  0.45478535321606234\n",
            "Recall    :  0.34541103111408666\n",
            "F-score   :  0.24479332687009595\n",
            "accuracy :  0.3570525250822022 \n",
            "\n",
            "Results for fold # 3\n",
            "Precision :  0.36115854711159023\n",
            "Recall    :  0.34315413604711625\n",
            "F-score   :  0.23536614641836437\n",
            "accuracy :  0.3562094258494225 \n",
            "\n",
            "Results for fold # 4\n",
            "Precision :  0.32672790862021944\n",
            "Recall    :  0.3415927018594595\n",
            "F-score   :  0.23437250821841996\n",
            "accuracy :  0.3542702976140292 \n",
            "\n",
            "Results for fold # 5\n",
            "Precision :  0.31827717068980954\n",
            "Recall    :  0.34186457869654713\n",
            "F-score   :  0.23389301948378627\n",
            "accuracy :  0.3526981450252951 \n",
            "\n",
            "\n",
            "Avg precision : 0.37260080245219623\n",
            "\n",
            "Avg recall : 0.34378782733737345\n",
            "\n",
            "Avg f1 score : 0.2386372292867475\n",
            "\n",
            "Avg accuracy : 0.3560130292242648\n",
            "\n"
          ],
          "name": "stdout"
        }
      ]
    },
    {
      "cell_type": "markdown",
      "metadata": {
        "id": "3dOS3q12V-SR"
      },
      "source": [
        "### KNN (k-nearest neighbors)"
      ]
    },
    {
      "cell_type": "code",
      "metadata": {
        "colab": {
          "base_uri": "https://localhost:8080/"
        },
        "id": "nni2fVzuWEbk",
        "outputId": "33a78cfc-625c-45f0-d062-b4b0b0f3e5b2"
      },
      "source": [
        "k = 5\n",
        "skf = StratifiedKFold(n_splits=k, random_state=None)\n",
        "model = KNeighborsClassifier(n_neighbors = 5)\n",
        "acc_score = []\n",
        "f1_sc = []\n",
        "precision_sc = []\n",
        "recall_sc = []\n",
        " \n",
        "n = 1\n",
        "for train_index , test_index in skf.split(X, y):\n",
        "  #print(\"TRAIN:\", train_index, \"TEST:\", test_index)\n",
        "\n",
        "  X_train , X_test = X.iloc[train_index,0:40],X.iloc[test_index,0:40]\n",
        "  y_train , y_test = y.iloc[train_index], y.iloc[test_index]\n",
        "     \n",
        "  model.fit(X_train,y_train)\n",
        "  pred_values = model.predict(X_test)\n",
        "     \n",
        "  acc = accuracy_score(pred_values , y_test)  #accuracy\n",
        "  #print(classification_report(y_test, pred_values, digits=3, target_names= target_N))\n",
        "  precision,recall,fscore,support=score(y_test, pred_values,average='macro')\n",
        "\n",
        "  print ('Results for fold #', n)\n",
        "  print ('Precision : ', precision)\n",
        "  print ('Recall    : ', recall)\n",
        "  print ('F-score   : ', fscore)\n",
        "  print ('accuracy : ', acc, '\\n')\n",
        "  n = n + 1\n",
        "\n",
        "  acc_score.append(acc)\n",
        "  f1_sc.append(fscore)\n",
        "  recall_sc.append(recall)\n",
        "  precision_sc.append(precision)   \n",
        "                  \n",
        "\n",
        "avg_acc_score = sum(acc_score)/k\n",
        "avg_f1_sc = sum(f1_sc)/k\n",
        "avg_recall_sc = sum(recall_sc)/k\n",
        "avg_precision_sc = sum(precision_sc)/k\n",
        "\n",
        "print('\\nAvg precision : {}\\n'.format(avg_precision_sc))\n",
        "\n",
        "print('Avg recall : {}\\n'.format(avg_recall_sc))\n",
        "\n",
        "print('Avg f1 score : {}\\n'.format(avg_f1_sc))\n",
        "\n",
        "print('Avg accuracy : {}\\n'.format(avg_acc_score))"
      ],
      "execution_count": null,
      "outputs": [
        {
          "output_type": "stream",
          "text": [
            "Results for fold # 1\n",
            "Precision :  0.8450808372984209\n",
            "Recall    :  0.8538414940860788\n",
            "F-score   :  0.8465080412115397\n",
            "accuracy :  0.8457128404013152 \n",
            "\n",
            "Results for fold # 2\n",
            "Precision :  0.8579891389570155\n",
            "Recall    :  0.8540745388471446\n",
            "F-score   :  0.8543047584410777\n",
            "accuracy :  0.8535536632661664 \n",
            "\n",
            "Results for fold # 3\n",
            "Precision :  0.8608343235887956\n",
            "Recall    :  0.8611033252910522\n",
            "F-score   :  0.8581575659360073\n",
            "accuracy :  0.8572632998903971 \n",
            "\n",
            "Results for fold # 4\n",
            "Precision :  0.8382806726888962\n",
            "Recall    :  0.845449169776354\n",
            "F-score   :  0.8406150576361323\n",
            "accuracy :  0.8343310007587893 \n",
            "\n",
            "Results for fold # 5\n",
            "Precision :  0.8292776278727433\n",
            "Recall    :  0.8315363957454778\n",
            "F-score   :  0.8277341537968762\n",
            "accuracy :  0.8264755480607082 \n",
            "\n",
            "\n",
            "Avg precision : 0.8462925200811743\n",
            "\n",
            "Avg recall : 0.8492009847492215\n",
            "\n",
            "Avg f1 score : 0.8454639154043267\n",
            "\n",
            "Avg accuracy : 0.8434672704754753\n",
            "\n"
          ],
          "name": "stdout"
        }
      ]
    },
    {
      "cell_type": "markdown",
      "metadata": {
        "id": "P9Ph5UlCWV9r"
      },
      "source": [
        "### Neural network"
      ]
    },
    {
      "cell_type": "code",
      "metadata": {
        "colab": {
          "base_uri": "https://localhost:8080/"
        },
        "id": "H8KEkwSSWYmz",
        "outputId": "a3e9f6f3-5bc5-4a43-e21c-1b34631c3664"
      },
      "source": [
        "k = 5\n",
        "skf = StratifiedKFold(n_splits=k, random_state=None)\n",
        "model = MLPClassifier()\n",
        "acc_score = []\n",
        "f1_sc = []\n",
        "precision_sc = []\n",
        "recall_sc = []\n",
        " \n",
        "n = 1\n",
        "for train_index , test_index in skf.split(X, y):\n",
        "  #print(\"TRAIN:\", train_index, \"TEST:\", test_index)\n",
        "\n",
        "  X_train , X_test = X.iloc[train_index,0:40],X.iloc[test_index,0:40]\n",
        "  y_train , y_test = y.iloc[train_index], y.iloc[test_index]\n",
        "     \n",
        "  model.fit(X_train,y_train)\n",
        "  pred_values = model.predict(X_test)\n",
        "     \n",
        "  acc = accuracy_score(pred_values , y_test)  #accuracy\n",
        "  #print(classification_report(y_test, pred_values, digits=3, target_names= target_N))\n",
        "  precision,recall,fscore,support=score(y_test, pred_values,average='macro')\n",
        "\n",
        "  print ('Results for fold #', n)\n",
        "  print ('Precision : ', precision)\n",
        "  print ('Recall    : ', recall)\n",
        "  print ('F-score   : ', fscore)\n",
        "  print ('accuracy : ', acc, '\\n')\n",
        "  n = n + 1\n",
        "\n",
        "  acc_score.append(acc)\n",
        "  f1_sc.append(fscore)\n",
        "  recall_sc.append(recall)\n",
        "  precision_sc.append(precision)   \n",
        "                  \n",
        "\n",
        "avg_acc_score = sum(acc_score)/k\n",
        "avg_f1_sc = sum(f1_sc)/k\n",
        "avg_recall_sc = sum(recall_sc)/k\n",
        "avg_precision_sc = sum(precision_sc)/k\n",
        "\n",
        "print('\\nAvg precision : {}\\n'.format(avg_precision_sc))\n",
        "\n",
        "print('Avg recall : {}\\n'.format(avg_recall_sc))\n",
        "\n",
        "print('Avg f1 score : {}\\n'.format(avg_f1_sc))\n",
        "\n",
        "print('Avg accuracy : {}\\n'.format(avg_acc_score))"
      ],
      "execution_count": null,
      "outputs": [
        {
          "output_type": "stream",
          "text": [
            "/usr/local/lib/python3.7/dist-packages/sklearn/neural_network/_multilayer_perceptron.py:571: ConvergenceWarning: Stochastic Optimizer: Maximum iterations (200) reached and the optimization hasn't converged yet.\n",
            "  % self.max_iter, ConvergenceWarning)\n"
          ],
          "name": "stderr"
        },
        {
          "output_type": "stream",
          "text": [
            "Results for fold # 1\n",
            "Precision :  0.7439627246726246\n",
            "Recall    :  0.7893208455311893\n",
            "F-score   :  0.743588020276513\n",
            "accuracy :  0.7718573476098137 \n",
            "\n"
          ],
          "name": "stdout"
        },
        {
          "output_type": "stream",
          "text": [
            "/usr/local/lib/python3.7/dist-packages/sklearn/neural_network/_multilayer_perceptron.py:571: ConvergenceWarning: Stochastic Optimizer: Maximum iterations (200) reached and the optimization hasn't converged yet.\n",
            "  % self.max_iter, ConvergenceWarning)\n"
          ],
          "name": "stderr"
        },
        {
          "output_type": "stream",
          "text": [
            "Results for fold # 2\n",
            "Precision :  0.7492229416104443\n",
            "Recall    :  0.7845740506434694\n",
            "F-score   :  0.7515022713324007\n",
            "accuracy :  0.7885507124188517 \n",
            "\n"
          ],
          "name": "stdout"
        },
        {
          "output_type": "stream",
          "text": [
            "/usr/local/lib/python3.7/dist-packages/sklearn/neural_network/_multilayer_perceptron.py:571: ConvergenceWarning: Stochastic Optimizer: Maximum iterations (200) reached and the optimization hasn't converged yet.\n",
            "  % self.max_iter, ConvergenceWarning)\n",
            "/usr/local/lib/python3.7/dist-packages/sklearn/metrics/_classification.py:1272: UndefinedMetricWarning: Precision and F-score are ill-defined and being set to 0.0 in labels with no predicted samples. Use `zero_division` parameter to control this behavior.\n",
            "  _warn_prf(average, modifier, msg_start, len(result))\n"
          ],
          "name": "stderr"
        },
        {
          "output_type": "stream",
          "text": [
            "Results for fold # 3\n",
            "Precision :  0.672000725184878\n",
            "Recall    :  0.6691925434328532\n",
            "F-score   :  0.5942137477087096\n",
            "accuracy :  0.6385633589073434 \n",
            "\n"
          ],
          "name": "stdout"
        },
        {
          "output_type": "stream",
          "text": [
            "/usr/local/lib/python3.7/dist-packages/sklearn/neural_network/_multilayer_perceptron.py:571: ConvergenceWarning: Stochastic Optimizer: Maximum iterations (200) reached and the optimization hasn't converged yet.\n",
            "  % self.max_iter, ConvergenceWarning)\n"
          ],
          "name": "stderr"
        },
        {
          "output_type": "stream",
          "text": [
            "Results for fold # 4\n",
            "Precision :  0.8375992962497304\n",
            "Recall    :  0.7816210622863892\n",
            "F-score   :  0.7462527691135085\n",
            "accuracy :  0.7856841750274007 \n",
            "\n",
            "Results for fold # 5\n",
            "Precision :  0.7513702321587371\n",
            "Recall    :  0.7601504280240585\n",
            "F-score   :  0.730519516758136\n",
            "accuracy :  0.756239460370995 \n",
            "\n",
            "\n",
            "Avg precision : 0.7508311839752829\n",
            "\n",
            "Avg recall : 0.7569717859835918\n",
            "\n",
            "Avg f1 score : 0.7132152650378536\n",
            "\n",
            "Avg accuracy : 0.7481790108668809\n",
            "\n"
          ],
          "name": "stdout"
        },
        {
          "output_type": "stream",
          "text": [
            "/usr/local/lib/python3.7/dist-packages/sklearn/neural_network/_multilayer_perceptron.py:571: ConvergenceWarning: Stochastic Optimizer: Maximum iterations (200) reached and the optimization hasn't converged yet.\n",
            "  % self.max_iter, ConvergenceWarning)\n"
          ],
          "name": "stderr"
        }
      ]
    }
  ]
}